{
 "cells": [
  {
   "cell_type": "code",
   "execution_count": 0,
   "metadata": {
    "application/vnd.databricks.v1+cell": {
     "cellMetadata": {
      "byteLimit": 2048000,
      "rowLimit": 10000
     },
     "inputWidgets": {},
     "nuid": "23c02b5d-e075-47f1-afb5-515693f0181f",
     "showTitle": false,
     "tableResultSettingsMap": {},
     "title": ""
    }
   },
   "outputs": [],
   "source": [
    "import pyspark.sql.functions as F\n",
    "from datetime import datetime, timedelta\n",
    "from pyspark.sql import SparkSession\n",
    "\n",
    "from funcoes.gerais import *"
   ]
  },
  {
   "cell_type": "code",
   "execution_count": 0,
   "metadata": {
    "application/vnd.databricks.v1+cell": {
     "cellMetadata": {
      "byteLimit": 2048000,
      "rowLimit": 10000
     },
     "inputWidgets": {},
     "nuid": "d0f34ade-3318-4deb-b1b5-3ac0ed141dd4",
     "showTitle": false,
     "tableResultSettingsMap": {},
     "title": ""
    }
   },
   "outputs": [],
   "source": [
    "tabela_vendas_silver = \"estudo.default.tvendas_silver\"\n",
    "tabela_cluster_silver = \"estudo.default.tcluster_silver\"\n",
    "tabela_produto_cluster_gold = \"estudo.default.tproduto_cluster_gold\""
   ]
  },
  {
   "cell_type": "code",
   "execution_count": 0,
   "metadata": {
    "application/vnd.databricks.v1+cell": {
     "cellMetadata": {
      "byteLimit": 2048000,
      "rowLimit": 10000
     },
     "inputWidgets": {},
     "nuid": "8bbce77a-3fa5-48b0-8f7b-307fa04e9270",
     "showTitle": false,
     "tableResultSettingsMap": {},
     "title": ""
    }
   },
   "outputs": [],
   "source": [
    "df_vendas = spark.table(tabela_vendas_silver)"
   ]
  },
  {
   "cell_type": "code",
   "execution_count": 0,
   "metadata": {
    "application/vnd.databricks.v1+cell": {
     "cellMetadata": {
      "byteLimit": 2048000,
      "rowLimit": 10000
     },
     "inputWidgets": {},
     "nuid": "d48dd795-21e2-4fc5-a348-06c687e3434e",
     "showTitle": false,
     "tableResultSettingsMap": {},
     "title": ""
    }
   },
   "outputs": [],
   "source": [
    "df_vendas = df_vendas.withColumn(\"media_tickets_por_compra\", F.round(F.col(\"total_tickets_compras\") / F.col(\"total_compras\"), 2)) \\\n",
    "    .withColumn(\"porcentagem_viagens_com_volta\", F.round(F.col(\"total_compras_com_volta\") / F.col(\"total_compras\") * 100, 2)) \\\n",
    "        .select(\n",
    "            \"fk_contact\",\n",
    "            \"total_compras\",\n",
    "            \"valor_total_compra\",\n",
    "            \"valor_medio_compra\",\n",
    "            \"total_tickets_compras\",\n",
    "            \"media_tickets_por_compra\",\n",
    "            \"total_compras_com_volta\",\n",
    "            \"porcentagem_viagens_com_volta\",\n",
    "            \"local_partida_ida_local_destino_ida_frequente\",\n",
    "            \"local_partida_volta_local_destino_volta_frequente\",\n",
    "            \"dia_da_semana_preferido_de_compra\",\n",
    "            \"epoca_do_mes_preferido_da_compra\",\n",
    "            \"periodo_do_dia_preferido_para_compra\",\n",
    "            \"epoca_do_ano_preferido_da_compra\"\n",
    "        ).distinct()"
   ]
  },
  {
   "cell_type": "code",
   "execution_count": 0,
   "metadata": {
    "application/vnd.databricks.v1+cell": {
     "cellMetadata": {
      "byteLimit": 2048000,
      "rowLimit": 10000
     },
     "inputWidgets": {},
     "nuid": "5a058ecc-d305-49ee-8589-70924f5df9e1",
     "showTitle": false,
     "tableResultSettingsMap": {},
     "title": ""
    }
   },
   "outputs": [],
   "source": [
    "df_cluster = spark.table(tabela_cluster_silver)"
   ]
  },
  {
   "cell_type": "code",
   "execution_count": 0,
   "metadata": {
    "application/vnd.databricks.v1+cell": {
     "cellMetadata": {
      "byteLimit": 2048000,
      "rowLimit": 10000
     },
     "inputWidgets": {},
     "nuid": "3a9e8990-8cd0-47df-9d71-9dca017e4a58",
     "showTitle": false,
     "tableResultSettingsMap": {},
     "title": ""
    }
   },
   "outputs": [],
   "source": [
    "df_join = df_vendas \\\n",
    "    .join(df_cluster, on=[\"fk_contact\"], how=\"left\")"
   ]
  },
  {
   "cell_type": "code",
   "execution_count": 0,
   "metadata": {
    "application/vnd.databricks.v1+cell": {
     "cellMetadata": {
      "byteLimit": 2048000,
      "rowLimit": 10000
     },
     "inputWidgets": {},
     "nuid": "70ae9d75-d7b4-4af9-85b0-7b37dac07c01",
     "showTitle": false,
     "tableResultSettingsMap": {},
     "title": ""
    }
   },
   "outputs": [],
   "source": [
    "df_final = df_join.select(\n",
    "        \"fk_contact\",\n",
    "        F.col(\"cluster\").alias(\"cd_cluster\"),\n",
    "        F.col(\"segmento_do_cliente\").alias(\"ds_cluster\"),\n",
    "        \"recencia_dias\",\n",
    "        F.round(\"valor_total_gasto\", 2).alias(\"valor_total_gasto\"),\n",
    "        F.round(\"valor_medio_compra\", 2).alias(\"valor_medio_compra\"),\n",
    "        F.col(\"frequencia_de_compras\").alias(\"quantidade_compras\"),\n",
    "        \"total_tickets_compras\",\n",
    "        \"media_tickets_por_compra\",\n",
    "        \"total_compras_com_volta\",\n",
    "        \"porcentagem_viagens_com_volta\",\n",
    "        F.col(\"local_partida_ida_local_destino_ida_frequente\").alias(\"rota_ida_frequente\"),\n",
    "        F.col(\"local_partida_volta_local_destino_volta_frequente\").alias(\"rota_volta_frequente\"),\n",
    "        F.col(\"dia_da_semana_preferido_de_compra\").alias(\"dia_semana_preferido_compra\"),\n",
    "        F.col(\"epoca_do_mes_preferido_da_compra\").alias(\"dia_mes_preferido_compra\"),\n",
    "        F.col(\"periodo_do_dia_preferido_para_compra\").alias(\"periodo_dia_preferido_compra\"),\n",
    "        F.col(\"epoca_do_ano_preferido_da_compra\").alias(\"mes_preferido_compra\")\n",
    "    )"
   ]
  },
  {
   "cell_type": "code",
   "execution_count": 0,
   "metadata": {
    "application/vnd.databricks.v1+cell": {
     "cellMetadata": {
      "byteLimit": 2048000,
      "rowLimit": 10000
     },
     "inputWidgets": {},
     "nuid": "80e4190b-1316-47a1-a7b7-d7985112a8a5",
     "showTitle": false,
     "tableResultSettingsMap": {},
     "title": ""
    }
   },
   "outputs": [],
   "source": [
    "df_final.count()"
   ]
  },
  {
   "cell_type": "code",
   "execution_count": 0,
   "metadata": {
    "application/vnd.databricks.v1+cell": {
     "cellMetadata": {
      "byteLimit": 2048000,
      "rowLimit": 10000
     },
     "inputWidgets": {},
     "nuid": "7dac29e5-f60a-439a-a2b3-f5bb4acf0862",
     "showTitle": false,
     "tableResultSettingsMap": {},
     "title": ""
    }
   },
   "outputs": [],
   "source": [
    "# Escrita na tabela que será usada nos estudos e desenvolvimentos\n",
    "escrita_tabela(df_final, tabela_produto_cluster_gold)"
   ]
  },
  {
   "cell_type": "code",
   "execution_count": 0,
   "metadata": {
    "application/vnd.databricks.v1+cell": {
     "cellMetadata": {},
     "inputWidgets": {},
     "nuid": "b97e1209-ba25-4f66-9077-ceac5c1bd632",
     "showTitle": false,
     "tableResultSettingsMap": {},
     "title": ""
    }
   },
   "outputs": [],
   "source": []
  }
 ],
 "metadata": {
  "application/vnd.databricks.v1+notebook": {
   "computePreferences": null,
   "dashboards": [],
   "environmentMetadata": {
    "base_environment": "",
    "environment_version": "3"
   },
   "inputWidgetPreferences": null,
   "language": "python",
   "notebookMetadata": {
    "mostRecentlyExecutedCommandWithImplicitDF": {
     "commandId": 6258353668765800,
     "dataframes": [
      "_sqldf"
     ]
    },
    "pythonIndentUnit": 4
   },
   "notebookName": "03_produto_dados_cluster",
   "widgets": {}
  },
  "language_info": {
   "name": "python"
  }
 },
 "nbformat": 4,
 "nbformat_minor": 0
}
