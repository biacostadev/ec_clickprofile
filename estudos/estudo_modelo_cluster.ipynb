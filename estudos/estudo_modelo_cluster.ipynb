{
 "cells": [
  {
   "cell_type": "markdown",
   "metadata": {
    "application/vnd.databricks.v1+cell": {
     "cellMetadata": {
      "byteLimit": 2048000,
      "rowLimit": 10000
     },
     "inputWidgets": {},
     "nuid": "07fd39ee-3fc5-4875-bd95-38fb0e9fbc6d",
     "showTitle": false,
     "tableResultSettingsMap": {},
     "title": ""
    },
    "vscode": {
     "languageId": "bat"
    }
   },
   "source": [
    "# **Análise de Segmentação de Clientes da ClickBus**"
   ]
  },
  {
   "cell_type": "markdown",
   "metadata": {
    "application/vnd.databricks.v1+cell": {
     "cellMetadata": {
      "byteLimit": 2048000,
      "rowLimit": 10000
     },
     "inputWidgets": {},
     "nuid": "ed453f76-8bf1-47da-8e3d-377b0d9ce82d",
     "showTitle": false,
     "tableResultSettingsMap": {},
     "title": ""
    }
   },
   "source": [
    "<h4 style=\"margin-bottom: 4px;\"><strong>Objetivo do Projeto:</strong></h4>\n",
    "<p style=\"margin-top: 0; font-size: 1rem;\">\n",
    "    Este projeto tem como objetivo segmentar a base de clientes da ClickBus, permitindo ações de marketing mais precisas, com foco em <strong>aumentar a retenção</strong> e o <strong>valor do cliente</strong>.\n",
    "</p>\n"
   ]
  },
  {
   "cell_type": "markdown",
   "metadata": {
    "application/vnd.databricks.v1+cell": {
     "cellMetadata": {
      "byteLimit": 2048000,
      "rowLimit": 10000
     },
     "inputWidgets": {},
     "nuid": "fb5445e1-73be-4442-b27b-b5b79e7591c6",
     "showTitle": false,
     "tableResultSettingsMap": {},
     "title": ""
    }
   },
   "source": [
    "## **Importando as bibliotecas & Carregando os dados**\n",
    "---"
   ]
  },
  {
   "cell_type": "code",
   "execution_count": 0,
   "metadata": {
    "application/vnd.databricks.v1+cell": {
     "cellMetadata": {
      "byteLimit": 2048000,
      "rowLimit": 10000
     },
     "inputWidgets": {},
     "nuid": "f4cb69c0-e71f-4660-9bff-14e28f4d3103",
     "showTitle": false,
     "tableResultSettingsMap": {},
     "title": ""
    }
   },
   "outputs": [],
   "source": [
    "import pandas as pd\n",
    "from sklearn.cluster import KMeans\n",
    "from sklearn.preprocessing import StandardScaler\n",
    "import matplotlib.pyplot as plt\n",
    "import seaborn as sns\n",
    "import numpy as np"
   ]
  },
  {
   "cell_type": "code",
   "execution_count": 0,
   "metadata": {
    "application/vnd.databricks.v1+cell": {
     "cellMetadata": {
      "byteLimit": 2048000,
      "rowLimit": 10000
     },
     "inputWidgets": {},
     "nuid": "087329c3-7d4f-4ea8-a2c0-6e2ccbdcaff9",
     "showTitle": false,
     "tableResultSettingsMap": {},
     "title": ""
    }
   },
   "outputs": [],
   "source": [
    "sns.set_style('whitegrid')"
   ]
  },
  {
   "cell_type": "code",
   "execution_count": 0,
   "metadata": {
    "application/vnd.databricks.v1+cell": {
     "cellMetadata": {
      "byteLimit": 2048000,
      "rowLimit": 10000
     },
     "inputWidgets": {},
     "nuid": "eb0a76ce-3053-441a-8359-30d6369d078d",
     "showTitle": false,
     "tableResultSettingsMap": {},
     "title": ""
    }
   },
   "outputs": [],
   "source": [
    "tabela_bronze = \"estudo.default.tvendas_bronze\"\n",
    "tabela_cluster_silver = \"estudo.default.tcluster_silver\""
   ]
  },
  {
   "cell_type": "code",
   "execution_count": 0,
   "metadata": {
    "application/vnd.databricks.v1+cell": {
     "cellMetadata": {
      "byteLimit": 2048000,
      "rowLimit": 10000
     },
     "inputWidgets": {},
     "nuid": "7c002100-4f8f-4dfe-b948-5e9d5dddbfe5",
     "showTitle": false,
     "tableResultSettingsMap": {},
     "title": ""
    }
   },
   "outputs": [],
   "source": [
    "\n",
    "# Usando Spark para ler a tabela do metastore\n",
    "df_spark = spark.table(tabela_bronze)\n",
    "\n",
    "# Convertendo para pandas\n",
    "df_raw = df_spark.toPandas()\n",
    "\n",
    "# Verificando os tipos das colunas\n",
    "df_raw.info()"
   ]
  },
  {
   "cell_type": "code",
   "execution_count": 0,
   "metadata": {
    "application/vnd.databricks.v1+cell": {
     "cellMetadata": {
      "byteLimit": 2048000,
      "rowLimit": 10000
     },
     "inputWidgets": {},
     "nuid": "d2c8f3d1-6e1d-4f99-b194-249a301f2a89",
     "showTitle": false,
     "tableResultSettingsMap": {},
     "title": ""
    }
   },
   "outputs": [],
   "source": [
    "# Definino uma seed totalmente aleatória\n",
    "SEED = 65426158"
   ]
  },
  {
   "cell_type": "markdown",
   "metadata": {
    "application/vnd.databricks.v1+cell": {
     "cellMetadata": {
      "byteLimit": 2048000,
      "rowLimit": 10000
     },
     "inputWidgets": {},
     "nuid": "b84aee55-d109-4921-935d-248b5dee544d",
     "showTitle": false,
     "tableResultSettingsMap": {},
     "title": ""
    }
   },
   "source": [
    "## **Transformando e Agregando os dados**\n",
    "---"
   ]
  },
  {
   "cell_type": "markdown",
   "metadata": {
    "application/vnd.databricks.v1+cell": {
     "cellMetadata": {
      "byteLimit": 2048000,
      "rowLimit": 10000
     },
     "inputWidgets": {},
     "nuid": "348dd237-01ef-498f-9bdf-7258eb0b642e",
     "showTitle": false,
     "tableResultSettingsMap": {},
     "title": ""
    }
   },
   "source": [
    "### Análise **RFM**\n",
    "\n",
    "| Métrica     | Descrição                         |\n",
    "|-------------|-----------------------------------|\n",
    "| **Recência** | Tempo desde a última compra       |\n",
    "| **Frequência** | Quantidade de compras realizadas |\n",
    "| **Monetário** | Valor total gasto pelo cliente   |\n"
   ]
  },
  {
   "cell_type": "code",
   "execution_count": 0,
   "metadata": {
    "application/vnd.databricks.v1+cell": {
     "cellMetadata": {
      "byteLimit": 2048000,
      "rowLimit": 10000
     },
     "inputWidgets": {},
     "nuid": "f423286c-1f1f-4d30-9ef3-83f379370b32",
     "showTitle": false,
     "tableResultSettingsMap": {},
     "title": ""
    }
   },
   "outputs": [],
   "source": [
    "# Ensure date_purchase and time_purchase are strings\n",
    "df_raw['date_purchase'] = df_raw['date_purchase'].astype(str)\n",
    "df_raw['time_purchase'] = df_raw['time_purchase'].astype(str)\n",
    "\n",
    "# Create the datetime_purchase column with complete date and time information\n",
    "df_raw['datetime_purchase'] = pd.to_datetime(df_raw['date_purchase'] + ' ' + df_raw['time_purchase'])\n",
    "\n",
    "# Calculate Recency by getting the most recent purchase date\n",
    "snapshot_date = df_raw['datetime_purchase'].max() + pd.Timedelta(days=1)\n",
    "\n",
    "print(f'The last purchase was made on {snapshot_date.date()} at {snapshot_date.strftime(\"%H:%M\")}')"
   ]
  },
  {
   "cell_type": "code",
   "execution_count": 0,
   "metadata": {
    "application/vnd.databricks.v1+cell": {
     "cellMetadata": {
      "byteLimit": 2048000,
      "rowLimit": 10000
     },
     "inputWidgets": {},
     "nuid": "bc2df55c-8282-444d-951e-9acb8b1584b7",
     "showTitle": false,
     "tableResultSettingsMap": {},
     "title": ""
    }
   },
   "outputs": [],
   "source": [
    "# Agrupando os dados por cliente e calculando as métricas\n",
    "\n",
    "df_customers = df_raw.groupby('fk_contact').agg({\n",
    "    'datetime_purchase': lambda date: (snapshot_date - date.max()).days, # Recência: Dias desde a última compra do cliente\n",
    "    'nk_ota_localizer_id': 'count', # Frequência: Contar a quantidade de compras \n",
    "    'gmv_success': 'sum' # Monetário: Somar o valor de todas as compras\n",
    "})\n",
    "\n",
    "# Renomeando as colunas para ficar mais legível\n",
    "df_customers.rename(columns={'datetime_purchase': 'Recency',\n",
    "                             'nk_ota_localizer_id': 'Frequency',\n",
    "                             'gmv_success': 'Monetary'}, inplace=True)\n",
    "\n",
    "df_customers.head(3)"
   ]
  },
  {
   "cell_type": "markdown",
   "metadata": {
    "application/vnd.databricks.v1+cell": {
     "cellMetadata": {
      "byteLimit": 2048000,
      "rowLimit": 10000
     },
     "inputWidgets": {},
     "nuid": "0c94c553-c8bc-415c-8222-45fee8dba23e",
     "showTitle": false,
     "tableResultSettingsMap": {},
     "title": ""
    }
   },
   "source": [
    "## **Normalizando as variável de _df_customers_**\n",
    "---"
   ]
  },
  {
   "cell_type": "code",
   "execution_count": 0,
   "metadata": {
    "application/vnd.databricks.v1+cell": {
     "cellMetadata": {
      "byteLimit": 2048000,
      "rowLimit": 10000
     },
     "inputWidgets": {},
     "nuid": "7a7aa6b8-d8f2-438b-a70c-059f6b71d0ec",
     "showTitle": false,
     "tableResultSettingsMap": {},
     "title": ""
    }
   },
   "outputs": [],
   "source": [
    "# Selecionando as variáveis de treino\n",
    "x = df_customers[['Recency', 'Frequency', 'Monetary']]\n",
    "\n",
    "# Criando o objeto de normalização\n",
    "scaler = StandardScaler()\n",
    "\n",
    "# Treinando e normalizando os nossos dados\n",
    "x_scaled = scaler.fit_transform(x)\n",
    "\n",
    "x_scaled"
   ]
  },
  {
   "cell_type": "code",
   "execution_count": 0,
   "metadata": {
    "application/vnd.databricks.v1+cell": {
     "cellMetadata": {
      "byteLimit": 2048000,
      "rowLimit": 10000
     },
     "inputWidgets": {},
     "nuid": "9db4a609-73ba-4abd-8d2c-9cc7a8456b68",
     "showTitle": false,
     "tableResultSettingsMap": {},
     "title": ""
    }
   },
   "outputs": [],
   "source": [
    "# Passando esse array para um dataframe\n",
    "x_scaled = pd.DataFrame(x_scaled, columns = x.columns, index = x.index)\n",
    "\n",
    "# Amostra dos nossos dados RPM após normalização\n",
    "x_scaled.sample(5, random_state=1542345)"
   ]
  },
  {
   "cell_type": "markdown",
   "metadata": {
    "application/vnd.databricks.v1+cell": {
     "cellMetadata": {
      "byteLimit": 2048000,
      "rowLimit": 10000
     },
     "inputWidgets": {},
     "nuid": "e493765f-ed18-48ed-8d04-ad9c1979ab21",
     "showTitle": false,
     "tableResultSettingsMap": {},
     "title": ""
    }
   },
   "source": [
    "## **Qual o número de clusters (categorias) ideal?**\n",
    "---"
   ]
  },
  {
   "cell_type": "markdown",
   "metadata": {
    "application/vnd.databricks.v1+cell": {
     "cellMetadata": {
      "byteLimit": 2048000,
      "rowLimit": 10000
     },
     "inputWidgets": {},
     "nuid": "79113832-2317-4e89-8ffd-6389ab0c6801",
     "showTitle": false,
     "tableResultSettingsMap": {},
     "title": ""
    }
   },
   "source": [
    "- **Poucos clusters:**  \n",
    "  Podem agrupar clientes muito diferentes no mesmo grupo, escondendo informações relevantes.\n",
    "\n",
    "- **Muitos clusters:**  \n",
    "  Podem criar grupos pequenos demais e difíceis de interpretar, aumentando a complexidade sem necessidade.\n",
    "\n",
    "Utilizamos o **Método do Cotovelo (Elbow Method)** para encontrar o **ponto de equilíbrio ideal**, garantindo que os grupos corretamente separados\n"
   ]
  },
  {
   "cell_type": "code",
   "execution_count": 0,
   "metadata": {
    "application/vnd.databricks.v1+cell": {
     "cellMetadata": {
      "byteLimit": 2048000,
      "rowLimit": 10000
     },
     "inputWidgets": {},
     "nuid": "89b3d563-31f4-47dd-80d8-bd20d2e7b457",
     "showTitle": false,
     "tableResultSettingsMap": {},
     "title": ""
    }
   },
   "outputs": [],
   "source": [
    "# Se os clientes estão próximos um do outro, a inércia é baixa.\n",
    "# Já se eles estão longe / bagunçados, a inércia é alta.\n",
    "\n",
    "# Vamos guardar o valor da \"bagunça\" gerado para cada quantidade de clusters, queremos uma inércia (bagunça) baixa.\n",
    "inertia_list = []\n",
    "\n",
    "# Iremos ver o nível de inércia para cada quantidade de clusters (1 a 12)\n",
    "k_range = range(1, 11) \n",
    "\n",
    "for k in k_range:\n",
    "    # Criamos o modelo K-Means para o cluster da vez\n",
    "    kmeans = KMeans(n_clusters=k, random_state=SEED, n_init=10) # n_init=10 executa 10 vezes para encontrar a melhor clusterização e evitar azar.\n",
    "\n",
    "    # Treinamos o modelo\n",
    "    kmeans.fit(x_scaled)\n",
    "\n",
    "    # Guardamos o valor da inércia\n",
    "    inertia_list.append(kmeans.inertia_)\n",
    "\n",
    "# Agora, vamos plotar o gráfico do cotovelo\n",
    "plt.figure(figsize=(10, 6))\n",
    "plt.plot(k_range, inertia_list, marker='o', linestyle='--')\n",
    "plt.title('Método do Cotovelo (Elbow Method)')\n",
    "plt.xlabel('Número de Clusters')\n",
    "plt.ylabel('Inércia / Bagunça')\n",
    "plt.xticks(k_range)\n",
    "plt.show()"
   ]
  },
  {
   "cell_type": "markdown",
   "metadata": {
    "application/vnd.databricks.v1+cell": {
     "cellMetadata": {
      "byteLimit": 2048000,
      "rowLimit": 10000
     },
     "inputWidgets": {},
     "nuid": "794ae3b7-c269-4eff-a192-f0673ed75e61",
     "showTitle": false,
     "tableResultSettingsMap": {},
     "title": ""
    }
   },
   "source": [
    "## **Treinando o modelo de acordo com o número ideial de clusters**\n",
    "---"
   ]
  },
  {
   "cell_type": "code",
   "execution_count": 0,
   "metadata": {
    "application/vnd.databricks.v1+cell": {
     "cellMetadata": {
      "byteLimit": 2048000,
      "rowLimit": 10000
     },
     "inputWidgets": {},
     "nuid": "523d5a4f-871b-485e-b0b6-3bacde69dde8",
     "showTitle": false,
     "tableResultSettingsMap": {},
     "title": ""
    }
   },
   "outputs": [],
   "source": [
    "# Definindo o número ideal de clusters\n",
    "ideal_k = 4\n",
    "\n",
    "# Criando e treinando o modelo final\n",
    "kmeans_final = KMeans(n_clusters=ideal_k, random_state=SEED, n_init=10)\n",
    "kmeans_final.fit(x_scaled)\n",
    "\n",
    "# Pegando o valor do cluster e adicionando no nosso dataframe\n",
    "df_customers['Cluster'] = kmeans_final.labels_\n",
    "\n",
    "# Podemos ver que cada fk_contact é atribuido a um cluster / grupo\n",
    "df_customers.sample(5, random_state=SEED)"
   ]
  },
  {
   "cell_type": "markdown",
   "metadata": {
    "application/vnd.databricks.v1+cell": {
     "cellMetadata": {
      "byteLimit": 2048000,
      "rowLimit": 10000
     },
     "inputWidgets": {},
     "nuid": "b062b243-1d3d-4706-ba61-fe7ea53e04b2",
     "showTitle": false,
     "tableResultSettingsMap": {},
     "title": ""
    }
   },
   "source": [
    "## **Analisando o Perfil de Cada Cluster**\n",
    "---"
   ]
  },
  {
   "cell_type": "markdown",
   "metadata": {
    "application/vnd.databricks.v1+cell": {
     "cellMetadata": {
      "byteLimit": 2048000,
      "rowLimit": 10000
     },
     "inputWidgets": {},
     "nuid": "d8a9a846-bc28-45e6-87fa-7f4cc7eb54af",
     "showTitle": false,
     "tableResultSettingsMap": {},
     "title": ""
    }
   },
   "source": [
    "### **Serão analisados três gráficos:**\n",
    "\n",
    "1. **Recência vs Monetário**  \n",
    "   Correlaciona os dias desde a última compra com o valor total gasto.\n",
    "\n",
    "2. **Frequência vs Monetário**  \n",
    "   Correlaciona a frequência de compras realizadas com o valor total gasto.\n",
    "\n",
    "3. **Recência vs Frequência**  \n",
    "   Correlaciona a frequência de compras realizadas com os dias desde a última compra.\n"
   ]
  },
  {
   "cell_type": "code",
   "execution_count": 0,
   "metadata": {
    "application/vnd.databricks.v1+cell": {
     "cellMetadata": {
      "byteLimit": 2048000,
      "rowLimit": 10000
     },
     "inputWidgets": {},
     "nuid": "3c3f01a1-bd2d-4499-8746-63105f9c9fb6",
     "showTitle": false,
     "tableResultSettingsMap": {},
     "title": ""
    }
   },
   "outputs": [],
   "source": [
    "plt.figure(figsize=(10, 7))\n",
    "\n",
    "# Criamos o gráfico de dispersão\n",
    "sns.scatterplot(\n",
    "    data=df_customers,\n",
    "    x='Recency',\n",
    "    y='Monetary',\n",
    "    hue='Cluster', \n",
    "    palette='deep',     \n",
    "    s=80,                \n",
    "    alpha=0.8            \n",
    ")\n",
    "\n",
    "plt.title('Dias desde a Última Compra X Valor Total Gasto', fontsize=16, fontweight='bold')\n",
    "plt.xlabel('Dias')\n",
    "plt.ylabel('Valor Total Gasto (R$)')\n",
    "plt.show()"
   ]
  },
  {
   "cell_type": "code",
   "execution_count": 0,
   "metadata": {
    "application/vnd.databricks.v1+cell": {
     "cellMetadata": {
      "byteLimit": 2048000,
      "rowLimit": 10000
     },
     "inputWidgets": {},
     "nuid": "7821ea7e-bf55-481a-8586-577943be3ab6",
     "showTitle": false,
     "tableResultSettingsMap": {},
     "title": ""
    }
   },
   "outputs": [],
   "source": [
    "plt.figure(figsize=(10, 7))\n",
    "\n",
    "# Criamos o gráfico de dispersão\n",
    "sns.scatterplot(\n",
    "    data=df_customers,\n",
    "    x='Frequency',\n",
    "    y='Monetary',\n",
    "    hue='Cluster', \n",
    "    palette='deep',     \n",
    "    s=80,                \n",
    "    alpha=0.8            \n",
    ")\n",
    "\n",
    "plt.title('Frequência de Compras X Valor Total Gasto', fontsize=16, fontweight='bold')\n",
    "plt.xlabel('Frequência de Compras')\n",
    "plt.ylabel('Valor Total Gasto (R$)')\n",
    "plt.show()"
   ]
  },
  {
   "cell_type": "code",
   "execution_count": 0,
   "metadata": {
    "application/vnd.databricks.v1+cell": {
     "cellMetadata": {
      "byteLimit": 2048000,
      "rowLimit": 10000
     },
     "inputWidgets": {},
     "nuid": "a6112fbd-85a5-474a-bb75-105acc30c106",
     "showTitle": false,
     "tableResultSettingsMap": {},
     "title": ""
    }
   },
   "outputs": [],
   "source": [
    "plt.figure(figsize=(10, 7))\n",
    "\n",
    "# Criamos o gráfico de dispersão\n",
    "sns.scatterplot(\n",
    "    data=df_customers,\n",
    "    x='Recency',\n",
    "    y='Frequency',\n",
    "    hue='Cluster', \n",
    "    palette='deep',     \n",
    "    s=80,                \n",
    "    alpha=0.8            \n",
    ")\n",
    "\n",
    "plt.title('Frequência de Compras X Dias desde a Última Compra', fontsize=16, fontweight='bold')\n",
    "plt.xlabel('Dias')\n",
    "plt.ylabel('Frequência de Compras')\n",
    "plt.show()"
   ]
  },
  {
   "cell_type": "markdown",
   "metadata": {
    "application/vnd.databricks.v1+cell": {
     "cellMetadata": {
      "byteLimit": 2048000,
      "rowLimit": 10000
     },
     "inputWidgets": {},
     "nuid": "84dac1a3-9fae-4fac-b09c-dcb2790517bd",
     "showTitle": false,
     "tableResultSettingsMap": {},
     "title": ""
    }
   },
   "source": [
    "## **Interpretação dos Clusters**\n",
    "\n",
    "Com base na análise podemos propor as seguintes labels para os clusters:\n",
    "\n",
    "| Cluster | Descrição            | Recência | Frequência | Valor Gasto |\n",
    "|----------|---------------------|----------|------------|-------------|\n",
    "| **0**    | **Clientes Novos**   | Alta   | Baixa  | Baixo    |\n",
    "| **1**    | **Clientes Inativos**| Baixa    | Baixa  | Baixo    |\n",
    "| **2**    | **Clientes Premium** | Alta   | Alta   | Alto    |\n",
    "| **3**    | **Clientes Comuns**  | Média   | Média  | Médio    |\n",
    "\n",
    "\n",
    "\n"
   ]
  },
  {
   "cell_type": "markdown",
   "metadata": {
    "application/vnd.databricks.v1+cell": {
     "cellMetadata": {
      "byteLimit": 2048000,
      "rowLimit": 10000
     },
     "inputWidgets": {},
     "nuid": "b8950ffb-5618-4206-ada1-6be7eb34ff1f",
     "showTitle": false,
     "tableResultSettingsMap": {},
     "title": ""
    }
   },
   "source": [
    "## **Analisando a distribuição por Cluster**\n",
    "---"
   ]
  },
  {
   "cell_type": "markdown",
   "metadata": {
    "application/vnd.databricks.v1+cell": {
     "cellMetadata": {
      "byteLimit": 2048000,
      "rowLimit": 10000
     },
     "inputWidgets": {},
     "nuid": "b400e095-ee8f-4e91-af40-2abe63733d7e",
     "showTitle": false,
     "tableResultSettingsMap": {},
     "title": ""
    }
   },
   "source": [
    "### Relacionando o cluster com a descrição & Renomeando as colunas"
   ]
  },
  {
   "cell_type": "code",
   "execution_count": 0,
   "metadata": {
    "application/vnd.databricks.v1+cell": {
     "cellMetadata": {
      "byteLimit": 2048000,
      "rowLimit": 10000
     },
     "inputWidgets": {},
     "nuid": "cd88b7a3-0c87-4671-a91b-ab0dc115bf29",
     "showTitle": false,
     "tableResultSettingsMap": {},
     "title": ""
    }
   },
   "outputs": [],
   "source": [
    "# Estamos relacionando o numero do cluster com a sua descrição\n",
    "cluster_map = {\n",
    "    0: 'Cliente Novo',\n",
    "    1: 'Cliente Inativo',\n",
    "    2: 'Cliente Premium',\n",
    "    3: 'Cliente Comum'\n",
    "}\n",
    "\n",
    "# Criamos uma nova coluna 'Cluster_Label' no DataFrame\n",
    "df_customers['Cluster_Label'] = df_customers['Cluster'].map(cluster_map)\n",
    "\n",
    "# Renomeamos as colunas\n",
    "df_customers = df_customers.rename(columns={\n",
    "    'Recency': 'recencia_dias',\n",
    "    'Frequency': 'frequencia_de_compras',\n",
    "    'Monetary': 'valor_total_gasto',\n",
    "    'Cluster': 'cluster',\n",
    "    'Cluster_Label': 'segmento_do_cliente'\n",
    "})\n",
    "\n",
    "df_customers.head(2)"
   ]
  },
  {
   "cell_type": "code",
   "execution_count": 0,
   "metadata": {
    "application/vnd.databricks.v1+cell": {
     "cellMetadata": {
      "byteLimit": 2048000,
      "rowLimit": 10000
     },
     "inputWidgets": {},
     "nuid": "ae1ff4a4-b3c4-4e47-8b92-16efac2371e3",
     "showTitle": false,
     "tableResultSettingsMap": {},
     "title": ""
    }
   },
   "outputs": [],
   "source": [
    "# Calculamos a distribuição de frequência para cada cluster\n",
    "df_dist = df_customers['segmento_do_cliente'].value_counts(normalize=True).reset_index()\n",
    "df_dist.columns = ['segmento_do_cliente', 'frequencia']  # Renomeia as colunas\n",
    "df_dist = df_dist.replace([np.inf, -np.inf], np.nan).dropna(subset=['frequencia'])\n",
    "\n",
    "plt.figure(figsize=(10, 7))\n",
    "\n",
    "# Gráfico de barras\n",
    "ax = sns.barplot(\n",
    "    data=df_dist,\n",
    "    x='segmento_do_cliente',\n",
    "    y='frequencia',\n",
    "    palette='deep'\n",
    ")\n",
    "\n",
    "# Adiciona rótulos\n",
    "for p in ax.patches:\n",
    "    height = p.get_height()\n",
    "    if np.isfinite(height):  \n",
    "        ax.text(\n",
    "            x=p.get_x() + p.get_width() / 2, \n",
    "            y=height + 0.01, \n",
    "            s=f'{height*100:.2f}%',\n",
    "            ha='center'\n",
    "        )\n",
    "\n",
    "plt.title('Distribuição de Frequência por Cluster', fontsize=16, fontweight='bold')\n",
    "plt.xlabel('')\n",
    "plt.ylabel('Frequência')\n",
    "plt.ylim(0, df_dist['frequencia'].max() + 0.05)  \n",
    "plt.show()"
   ]
  },
  {
   "cell_type": "markdown",
   "metadata": {
    "application/vnd.databricks.v1+cell": {
     "cellMetadata": {
      "byteLimit": 2048000,
      "rowLimit": 10000
     },
     "inputWidgets": {},
     "nuid": "e9ae0eb6-1eb4-43d9-b7e8-5f935a2858c3",
     "showTitle": false,
     "tableResultSettingsMap": {},
     "title": ""
    }
   },
   "source": [
    "## **Resumo Estatístico dos Clusters**\n",
    "---"
   ]
  },
  {
   "cell_type": "code",
   "execution_count": 0,
   "metadata": {
    "application/vnd.databricks.v1+cell": {
     "cellMetadata": {
      "byteLimit": 2048000,
      "rowLimit": 10000
     },
     "inputWidgets": {},
     "nuid": "6915f608-b991-488a-abee-a727dbc84e5c",
     "showTitle": false,
     "tableResultSettingsMap": {},
     "title": ""
    }
   },
   "outputs": [],
   "source": [
    "# Agrupando os valores para obter um resumo estatístico de todas as categorias\n",
    "df_analysis = df_customers.groupby('segmento_do_cliente').agg(\n",
    "    Recencia_Media=('recencia_dias', 'mean'),\n",
    "    Frequencia_Media=('frequencia_de_compras', 'mean'),\n",
    "    Valor_Medio=('valor_total_gasto', 'mean'),\n",
    "    Contagem_Clientes=('cluster', 'count')\n",
    ").round(2)\n",
    "\n",
    "# Ordenando do maior ao menor número de ocorrências\n",
    "df_analysis.sort_values(by='Contagem_Clientes', ascending=False)"
   ]
  },
  {
   "cell_type": "markdown",
   "metadata": {
    "application/vnd.databricks.v1+cell": {
     "cellMetadata": {
      "byteLimit": 2048000,
      "rowLimit": 10000
     },
     "inputWidgets": {},
     "nuid": "29f8bd32-895d-4bfb-9628-bc87557add94",
     "showTitle": false,
     "tableResultSettingsMap": {},
     "title": ""
    }
   },
   "source": [
    "## **Conclusão sobre a Distribuição dos Clientes**\n",
    "---"
   ]
  },
  {
   "cell_type": "markdown",
   "metadata": {
    "application/vnd.databricks.v1+cell": {
     "cellMetadata": {
      "byteLimit": 2048000,
      "rowLimit": 10000
     },
     "inputWidgets": {},
     "nuid": "f9f1fe28-9ca8-41cb-aab1-31f3a4d49b22",
     "showTitle": false,
     "tableResultSettingsMap": {},
     "title": ""
    }
   },
   "source": [
    "### Analisando os dados, percebemos um comportamento claro no público da **ClickBus**:\n",
    "\n",
    "- **📈 67% dos clientes são novos**  \n",
    "  Realizaram uma compra recentemente, mas ainda têm baixo valor agregado e pouca recorrência.\n",
    "\n",
    "- **📉 31% dos clientes estão inativos**  \n",
    "  Ou seja, não retornaram para novas compras após as primeiras interações.\n",
    "\n",
    "- **🔎 Apenas 1,29% dos clientes são recorrentes ou de alto valor**  \n",
    "  Isso inclui os **Clientes Comuns e Premium**, indicando baixa retenção e fidelização.\n",
    "\n",
    "<br>\n",
    "\n",
    "---\n"
   ]
  },
  {
   "cell_type": "markdown",
   "metadata": {
    "application/vnd.databricks.v1+cell": {
     "cellMetadata": {
      "byteLimit": 2048000,
      "rowLimit": 10000
     },
     "inputWidgets": {},
     "nuid": "106e25d8-fbaa-4495-8709-7224917c06ee",
     "showTitle": false,
     "tableResultSettingsMap": {},
     "title": ""
    }
   },
   "source": [
    "### **O que deve ser feito?**\n",
    "\n",
    "O foco deve ser em:\n",
    "\n",
    "- **Engajar os clientes novos**  \n",
    "  Incentivar a recompra e criar relacionamento desde o primeiro contato.\n",
    "\n",
    "- **Reativar os clientes inativos**  \n",
    "  Utilizar campanhas específicas de recuperação e oferta direcionada.\n",
    "\n",
    "- **Promover a evolução do cliente no ciclo de valor**  \n",
    "  Levar o cliente de \"novo\" para \"comum\" ou \"premium\", de acordo com o potencial de compra e perfil de gasto.\n",
    "\n",
    "<br>\n",
    "\n",
    "---"
   ]
  },
  {
   "cell_type": "markdown",
   "metadata": {
    "application/vnd.databricks.v1+cell": {
     "cellMetadata": {
      "byteLimit": 2048000,
      "rowLimit": 10000
     },
     "inputWidgets": {},
     "nuid": "60b16cef-7636-4a09-bf33-e05af77fc2ac",
     "showTitle": false,
     "tableResultSettingsMap": {},
     "title": ""
    }
   },
   "source": [
    "## **Entrega Final:** _fk_conctact_ **+** _Cluster_Label_"
   ]
  },
  {
   "cell_type": "markdown",
   "metadata": {
    "application/vnd.databricks.v1+cell": {
     "cellMetadata": {
      "byteLimit": 2048000,
      "rowLimit": 10000
     },
     "inputWidgets": {},
     "nuid": "03cef08d-9fa0-4caf-ba7e-f098041cf478",
     "showTitle": false,
     "tableResultSettingsMap": {},
     "title": ""
    }
   },
   "source": [
    "#### Com essa tabela a **ClickBus** consegue obter uma profunda análise sobre cada cliente e melhorar sua tomada de decisões"
   ]
  },
  {
   "cell_type": "code",
   "execution_count": 0,
   "metadata": {
    "application/vnd.databricks.v1+cell": {
     "cellMetadata": {
      "byteLimit": 2048000,
      "rowLimit": 10000
     },
     "inputWidgets": {},
     "nuid": "53c29145-4a1e-46d9-ad3f-3dd32f527c0c",
     "showTitle": false,
     "tableResultSettingsMap": {},
     "title": ""
    }
   },
   "outputs": [],
   "source": [
    "# Pequena Amostra da tabela final\n",
    "df_customers.sample(6, random_state=SEED)"
   ]
  },
  {
   "cell_type": "code",
   "execution_count": 0,
   "metadata": {
    "application/vnd.databricks.v1+cell": {
     "cellMetadata": {
      "byteLimit": 2048000,
      "rowLimit": 10000
     },
     "inputWidgets": {},
     "nuid": "712954e2-50a4-44e7-8b89-344a9b676493",
     "showTitle": false,
     "tableResultSettingsMap": {},
     "title": ""
    }
   },
   "outputs": [],
   "source": [
    "df_customers.reset_index(inplace=True)"
   ]
  },
  {
   "cell_type": "code",
   "execution_count": 0,
   "metadata": {
    "application/vnd.databricks.v1+cell": {
     "cellMetadata": {
      "byteLimit": 2048000,
      "rowLimit": 10000
     },
     "inputWidgets": {},
     "nuid": "42f9f8f4-88db-4320-a5b6-28d4d025892d",
     "showTitle": false,
     "tableResultSettingsMap": {},
     "title": ""
    }
   },
   "outputs": [],
   "source": [
    "df_customers.head()"
   ]
  },
  {
   "cell_type": "code",
   "execution_count": 0,
   "metadata": {
    "application/vnd.databricks.v1+cell": {
     "cellMetadata": {
      "byteLimit": 2048000,
      "rowLimit": 10000
     },
     "inputWidgets": {},
     "nuid": "7b33c569-51d3-4884-b566-5ebbaf7e480f",
     "showTitle": false,
     "tableResultSettingsMap": {},
     "title": ""
    }
   },
   "outputs": [],
   "source": []
  }
 ],
 "metadata": {
  "application/vnd.databricks.v1+notebook": {
   "computePreferences": {
    "hardware": {
     "accelerator": null,
     "gpuPoolId": null,
     "memory": null
    }
   },
   "dashboards": [],
   "environmentMetadata": null,
   "inputWidgetPreferences": null,
   "language": "python",
   "notebookMetadata": {
    "pythonIndentUnit": 4
   },
   "notebookName": "estudo_modelo_cluster",
   "widgets": {}
  },
  "kernelspec": {
   "display_name": "Python 3",
   "language": "python",
   "name": "python3"
  },
  "language_info": {
   "name": "python"
  }
 },
 "nbformat": 4,
 "nbformat_minor": 0
}
