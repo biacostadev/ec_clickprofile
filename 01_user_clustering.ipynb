{
 "cells": [
  {
   "cell_type": "markdown",
   "metadata": {
    "application/vnd.databricks.v1+cell": {
     "cellMetadata": {},
     "inputWidgets": {},
     "nuid": "0592dd77-5ca3-4440-afb5-6342dfb99fbb",
     "showTitle": false,
     "tableResultSettingsMap": {},
     "title": ""
    },
    "vscode": {
     "languageId": "bat"
    }
   },
   "source": [
    "# **Análise de Segmentação de Clientes da ClickBus**"
   ]
  },
  {
   "cell_type": "markdown",
   "metadata": {
    "application/vnd.databricks.v1+cell": {
     "cellMetadata": {},
     "inputWidgets": {},
     "nuid": "35939646-b8f8-4613-a882-904451ae49e0",
     "showTitle": false,
     "tableResultSettingsMap": {},
     "title": ""
    }
   },
   "source": [
    "<h4 style=\"margin-bottom: 4px;\"><strong>Objetivo do Projeto:</strong></h4>\n",
    "<p style=\"margin-top: 0; font-size: 1rem;\">\n",
    "    Este projeto tem como objetivo segmentar a base de clientes da ClickBus, permitindo ações de marketing mais precisas, com foco em <strong>aumentar a retenção</strong> e o <strong>valor do cliente</strong>.\n",
    "</p>\n"
   ]
  },
  {
   "cell_type": "markdown",
   "metadata": {
    "application/vnd.databricks.v1+cell": {
     "cellMetadata": {},
     "inputWidgets": {},
     "nuid": "ef128eda-f07e-4cb8-a65c-aa159d677ac0",
     "showTitle": false,
     "tableResultSettingsMap": {},
     "title": ""
    }
   },
   "source": [
    "## **Importando as bibliotecas & Carregando os dados**\n",
    "---"
   ]
  },
  {
   "cell_type": "code",
   "execution_count": 0,
   "metadata": {
    "application/vnd.databricks.v1+cell": {
     "cellMetadata": {
      "byteLimit": 2048000,
      "rowLimit": 10000
     },
     "inputWidgets": {},
     "nuid": "050879b0-e022-41a6-b81c-ea0ae353da3a",
     "showTitle": false,
     "tableResultSettingsMap": {},
     "title": ""
    }
   },
   "outputs": [],
   "source": [
    "import pandas as pd\n",
    "from sklearn.cluster import KMeans\n",
    "from sklearn.preprocessing import StandardScaler\n",
    "import matplotlib.pyplot as plt\n",
    "import seaborn as sns"
   ]
  },
  {
   "cell_type": "code",
   "execution_count": 0,
   "metadata": {
    "application/vnd.databricks.v1+cell": {
     "cellMetadata": {
      "byteLimit": 2048000,
      "rowLimit": 10000
     },
     "inputWidgets": {},
     "nuid": "214349df-90ff-4d7d-9923-1457c2df5485",
     "showTitle": false,
     "tableResultSettingsMap": {},
     "title": ""
    }
   },
   "outputs": [],
   "source": [
    "sns.set_style('whitegrid')"
   ]
  },
  {
   "cell_type": "code",
   "execution_count": 0,
   "metadata": {
    "application/vnd.databricks.v1+cell": {
     "cellMetadata": {
      "byteLimit": 2048000,
      "rowLimit": 10000
     },
     "inputWidgets": {},
     "nuid": "a411ac67-ea5c-44f1-ae12-8e03660abe92",
     "showTitle": false,
     "tableResultSettingsMap": {},
     "title": ""
    }
   },
   "outputs": [],
   "source": [
    "\n",
    "# Usando Spark para ler a tabela do metastore\n",
    "df_spark = spark.table(\"estudo.default.torigem_tratada\")\n",
    "\n",
    "# Convertendo para pandas\n",
    "df_raw = df_spark.toPandas()\n",
    "\n",
    "# Verificando os tipos das colunas\n",
    "df_raw.info()\n"
   ]
  },
  {
   "cell_type": "markdown",
   "metadata": {
    "application/vnd.databricks.v1+cell": {
     "cellMetadata": {},
     "inputWidgets": {},
     "nuid": "f7320dd7-1373-4c29-8f25-a18d73e39c55",
     "showTitle": false,
     "tableResultSettingsMap": {},
     "title": ""
    }
   },
   "source": [
    "## **Transformando e Agregando os dados**\n",
    "---"
   ]
  },
  {
   "cell_type": "markdown",
   "metadata": {
    "application/vnd.databricks.v1+cell": {
     "cellMetadata": {},
     "inputWidgets": {},
     "nuid": "50e539fe-9491-4e74-bc8f-38fdc48f6a4d",
     "showTitle": false,
     "tableResultSettingsMap": {},
     "title": ""
    }
   },
   "source": [
    "### Análise **RFM**\n",
    "\n",
    "| Métrica     | Descrição                         |\n",
    "|-------------|-----------------------------------|\n",
    "| **Recência** | Tempo desde a última compra       |\n",
    "| **Frequência** | Quantidade de compras realizadas |\n",
    "| **Monetário** | Valor total gasto pelo cliente   |\n"
   ]
  },
  {
   "cell_type": "code",
   "execution_count": 0,
   "metadata": {
    "application/vnd.databricks.v1+cell": {
     "cellMetadata": {
      "byteLimit": 2048000,
      "rowLimit": 10000
     },
     "inputWidgets": {},
     "nuid": "ee4cdb25-fb9a-40cb-9970-b9261af2ba5f",
     "showTitle": false,
     "tableResultSettingsMap": {},
     "title": ""
    }
   },
   "outputs": [],
   "source": [
    "# Certifique-se de que 'date_purchase' está no formato datetime\n",
    "df_raw['date_purchase'] = pd.to_datetime(df_raw['date_purchase'])\n",
    "\n",
    "# Converter 'time_purchase' para Timedelta\n",
    "df_raw['time_purchase'] = pd.to_timedelta(df_raw['time_purchase'])\n",
    "\n",
    "# Criar 'datetime_purchase' de forma eficiente\n",
    "df_raw['datetime_purchase'] = df_raw['date_purchase'].dt.normalize() + df_raw['time_purchase']"
   ]
  },
  {
   "cell_type": "code",
   "execution_count": 0,
   "metadata": {
    "application/vnd.databricks.v1+cell": {
     "cellMetadata": {
      "byteLimit": 2048000,
      "rowLimit": 10000
     },
     "inputWidgets": {},
     "nuid": "993e8b59-2299-41d1-aacb-3b5c10604b3a",
     "showTitle": false,
     "tableResultSettingsMap": {},
     "title": ""
    }
   },
   "outputs": [],
   "source": [
    "# Calcular a Recência (Recency) pegando o dia de compra mais recente\n",
    "snapshot_date = df_raw['datetime_purchase'].max() + pd.Timedelta(days=1)\n",
    "\n",
    "print(f'A última compra foi feita no dia {snapshot_date.date()} às {snapshot_date.strftime(\"%H:%M\")}')"
   ]
  },
  {
   "cell_type": "code",
   "execution_count": 0,
   "metadata": {
    "application/vnd.databricks.v1+cell": {
     "cellMetadata": {
      "byteLimit": 2048000,
      "rowLimit": 10000
     },
     "inputWidgets": {},
     "nuid": "ad307a17-09fc-4eb6-9401-2471aafbc20b",
     "showTitle": false,
     "tableResultSettingsMap": {},
     "title": ""
    }
   },
   "outputs": [],
   "source": [
    "# Agrupando os dados por cliente e calculando as métricas\n",
    "\n",
    "df_customers = df_raw.groupby('fk_contact').agg({\n",
    "    'datetime_purchase': lambda date: (snapshot_date - date.max()).days, # Recência: Dias desde a última compra do cliente\n",
    "    'nk_ota_localizer_id': 'count', # Frequência: Contar a quantidade de compras \n",
    "    'gmv_success': 'sum' # Monetário: Somar o valor de todas as compras\n",
    "})\n",
    "\n",
    "# Renomeando as colunas para ficar mais legível\n",
    "df_customers.rename(columns={'datetime_purchase': 'Recency',\n",
    "                             'nk_ota_localizer_id': 'Frequency',\n",
    "                             'gmv_success': 'Monetary'}, inplace=True)\n",
    "\n",
    "df_customers.head(3)"
   ]
  },
  {
   "cell_type": "markdown",
   "metadata": {
    "application/vnd.databricks.v1+cell": {
     "cellMetadata": {},
     "inputWidgets": {},
     "nuid": "f7f76879-e2be-42b0-81b4-427c765c2eb0",
     "showTitle": false,
     "tableResultSettingsMap": {},
     "title": ""
    }
   },
   "source": [
    "## **Normalizando as variável de _df_customers_**\n",
    "---"
   ]
  },
  {
   "cell_type": "code",
   "execution_count": 0,
   "metadata": {
    "application/vnd.databricks.v1+cell": {
     "cellMetadata": {
      "byteLimit": 2048000,
      "rowLimit": 10000
     },
     "inputWidgets": {},
     "nuid": "b059c309-c41b-45ef-9d01-b9b8ec069315",
     "showTitle": false,
     "tableResultSettingsMap": {},
     "title": ""
    }
   },
   "outputs": [],
   "source": [
    "# Selecionando as variáveis de treino\n",
    "x = df_customers[['Recency', 'Frequency', 'Monetary']]\n",
    "\n",
    "# Criando o objeto de normalização\n",
    "scaler = StandardScaler()\n",
    "\n",
    "# Treinando e normalizando os nossos dados\n",
    "x_scaled = scaler.fit_transform(x)\n",
    "\n",
    "x_scaled"
   ]
  },
  {
   "cell_type": "code",
   "execution_count": 0,
   "metadata": {
    "application/vnd.databricks.v1+cell": {
     "cellMetadata": {
      "byteLimit": 2048000,
      "rowLimit": 10000
     },
     "inputWidgets": {},
     "nuid": "2055c698-ceac-42e1-a253-34e37c2b175f",
     "showTitle": false,
     "tableResultSettingsMap": {},
     "title": ""
    }
   },
   "outputs": [],
   "source": [
    "# Passando esse array para um dataframe\n",
    "x_scaled = pd.DataFrame(x_scaled, columns = x.columns, index = x.index)\n",
    "\n",
    "# Amostra dos nossos dados RPM após normalização\n",
    "x_scaled.sample(5, random_state=1542345)"
   ]
  },
  {
   "cell_type": "markdown",
   "metadata": {
    "application/vnd.databricks.v1+cell": {
     "cellMetadata": {},
     "inputWidgets": {},
     "nuid": "f7626482-6587-45ab-ba71-1d47f36c133a",
     "showTitle": false,
     "tableResultSettingsMap": {},
     "title": ""
    }
   },
   "source": [
    "## **Qual o número de clusters (categorias) ideal?**\n",
    "---"
   ]
  },
  {
   "cell_type": "markdown",
   "metadata": {
    "application/vnd.databricks.v1+cell": {
     "cellMetadata": {},
     "inputWidgets": {},
     "nuid": "7ec1fcd5-a96b-4997-bd07-7d6313adacfb",
     "showTitle": false,
     "tableResultSettingsMap": {},
     "title": ""
    }
   },
   "source": [
    "- **Poucos clusters:**  \n",
    "  Podem agrupar clientes muito diferentes no mesmo grupo, escondendo informações relevantes.\n",
    "\n",
    "- **Muitos clusters:**  \n",
    "  Podem criar grupos pequenos demais e difíceis de interpretar, aumentando a complexidade sem necessidade.\n",
    "\n",
    "Utilizamos o **Método do Cotovelo (Elbow Method)** para encontrar o **ponto de equilíbrio ideal**, garantindo que os grupos corretamente separados\n"
   ]
  },
  {
   "cell_type": "code",
   "execution_count": 0,
   "metadata": {
    "application/vnd.databricks.v1+cell": {
     "cellMetadata": {
      "byteLimit": 2048000,
      "rowLimit": 10000
     },
     "inputWidgets": {},
     "nuid": "9e2e03f6-a608-4825-8409-15b8d5863315",
     "showTitle": false,
     "tableResultSettingsMap": {},
     "title": ""
    }
   },
   "outputs": [],
   "source": [
    "# Se os clientes estão próximos um do outro, a inércia é baixa.\n",
    "# Já se eles estão longe / bagunçados, a inércia é alta.\n",
    "\n",
    "# Vamos guardar o valor da \"bagunça\" gerado para cada quantidade de clusters, queremos uma inércia (bagunça) baixa.\n",
    "inertia_list = []\n",
    "\n",
    "# Iremos ver o nível de inércia para cada quantidade de clusters (1 a 12)\n",
    "k_range = range(1, 11) \n",
    "\n",
    "for k in k_range:\n",
    "    # Criamos o modelo K-Means para o cluster da vez\n",
    "    kmeans = KMeans(n_clusters=k, random_state=42, n_init=10) # n_init=10 executa 10 vezes para encontrar a melhor clusterização e evitar azar.\n",
    "\n",
    "    # Treinamos o modelo\n",
    "    kmeans.fit(x_scaled)\n",
    "\n",
    "    # Guardamos o valor da inércia\n",
    "    inertia_list.append(kmeans.inertia_)\n",
    "\n",
    "# Agora, vamos plotar o gráfico do cotovelo\n",
    "plt.figure(figsize=(10, 6))\n",
    "plt.plot(k_range, inertia_list, marker='o', linestyle='--')\n",
    "plt.title('Método do Cotovelo (Elbow Method)')\n",
    "plt.xlabel('Número de Clusters')\n",
    "plt.ylabel('Inércia / Bagunça')\n",
    "plt.xticks(k_range)\n",
    "plt.show()"
   ]
  },
  {
   "cell_type": "markdown",
   "metadata": {
    "application/vnd.databricks.v1+cell": {
     "cellMetadata": {},
     "inputWidgets": {},
     "nuid": "4ff5bad4-c9ea-4cb4-af42-8b7afc46406e",
     "showTitle": false,
     "tableResultSettingsMap": {},
     "title": ""
    }
   },
   "source": [
    "## **Treinando o modelo de acordo com o número ideial de clusters**\n",
    "---"
   ]
  },
  {
   "cell_type": "code",
   "execution_count": 0,
   "metadata": {
    "application/vnd.databricks.v1+cell": {
     "cellMetadata": {
      "byteLimit": 2048000,
      "rowLimit": 10000
     },
     "inputWidgets": {},
     "nuid": "7d102ea2-771d-4fae-a93d-0ba26de97974",
     "showTitle": false,
     "tableResultSettingsMap": {},
     "title": ""
    }
   },
   "outputs": [],
   "source": [
    "# Definindo o número ideal de clusters\n",
    "ideal_k = 5\n",
    "\n",
    "# Criando e treinando o modelo final\n",
    "kmeans_final = KMeans(n_clusters=ideal_k, random_state=42, n_init=10)\n",
    "kmeans_final.fit(x_scaled)\n",
    "\n",
    "# Pegando o valor do cluster e adicionando no nosso dataframe\n",
    "df_customers['Cluster'] = kmeans_final.labels_\n",
    "\n",
    "# Podemos ver que cada fk_contact é atribuido a um cluster / grupo\n",
    "df_customers.sample(5, random_state=98538)"
   ]
  },
  {
   "cell_type": "markdown",
   "metadata": {
    "application/vnd.databricks.v1+cell": {
     "cellMetadata": {},
     "inputWidgets": {},
     "nuid": "f1d02323-0c89-4c1c-b961-d03aac735b12",
     "showTitle": false,
     "tableResultSettingsMap": {},
     "title": ""
    }
   },
   "source": [
    "## **Analisando o Perfil de Cada Cluster**\n",
    "---"
   ]
  },
  {
   "cell_type": "markdown",
   "metadata": {
    "application/vnd.databricks.v1+cell": {
     "cellMetadata": {},
     "inputWidgets": {},
     "nuid": "4547d3ac-5a10-44c0-844a-3f9254866957",
     "showTitle": false,
     "tableResultSettingsMap": {},
     "title": ""
    }
   },
   "source": [
    "### **Serão analisados dois gráficos:**\n",
    "\n",
    "1. **Recência vs Monetário**  \n",
    "   Correlaciona os dias desde a última compra com o valor total gasto.\n",
    "\n",
    "2. **Frequência vs Monetário**  \n",
    "   Correlaciona a frequência de compras realizadas com o valor total gasto.\n"
   ]
  },
  {
   "cell_type": "code",
   "execution_count": 0,
   "metadata": {
    "application/vnd.databricks.v1+cell": {
     "cellMetadata": {
      "byteLimit": 2048000,
      "rowLimit": 10000
     },
     "inputWidgets": {},
     "nuid": "7aa6e210-895c-42c3-b563-476438683a92",
     "showTitle": false,
     "tableResultSettingsMap": {},
     "title": ""
    }
   },
   "outputs": [],
   "source": [
    "plt.figure(figsize=(10, 7))\n",
    "\n",
    "# Criamos o gráfico de dispersão\n",
    "sns.scatterplot(\n",
    "    data=df_customers,\n",
    "    x='Recency',\n",
    "    y='Monetary',\n",
    "    hue='Cluster', \n",
    "    palette='deep',     \n",
    "    s=80,                \n",
    "    alpha=0.8            \n",
    ")\n",
    "\n",
    "plt.title('Dias desde a Última Compra X Valor Total Gasto', fontsize=16, fontweight='bold')\n",
    "plt.xlabel('Dias')\n",
    "plt.ylabel('Valor Total Gasto (R$)')\n",
    "plt.show()"
   ]
  },
  {
   "cell_type": "code",
   "execution_count": 0,
   "metadata": {
    "application/vnd.databricks.v1+cell": {
     "cellMetadata": {
      "byteLimit": 2048000,
      "rowLimit": 10000
     },
     "inputWidgets": {},
     "nuid": "bcf268ca-827f-4adf-91f5-6876cf260124",
     "showTitle": false,
     "tableResultSettingsMap": {},
     "title": ""
    }
   },
   "outputs": [],
   "source": [
    "plt.figure(figsize=(10, 7))\n",
    "\n",
    "# Criamos o gráfico de dispersão\n",
    "sns.scatterplot(\n",
    "    data=df_customers,\n",
    "    x='Frequency',\n",
    "    y='Monetary',\n",
    "    hue='Cluster', \n",
    "    palette='deep',     \n",
    "    s=80,                \n",
    "    alpha=0.8            \n",
    ")\n",
    "\n",
    "plt.title('Frequência de Compras X Valor Total Gasto', fontsize=16, fontweight='bold')\n",
    "plt.xlabel('Frequência de Compras')\n",
    "plt.ylabel('Valor Total Gasto (R$)')\n",
    "plt.show()"
   ]
  },
  {
   "cell_type": "markdown",
   "metadata": {
    "application/vnd.databricks.v1+cell": {
     "cellMetadata": {},
     "inputWidgets": {},
     "nuid": "4de7d5f6-4256-458d-ba79-3fa6ab900616",
     "showTitle": false,
     "tableResultSettingsMap": {},
     "title": ""
    }
   },
   "source": [
    "## **Interpretação dos Clusters**\n",
    "\n",
    "Com base na análise podemos propor as seguintes labels para os clusters:\n",
    "\n",
    "| Cluster | Descrição            | Recência | Frequência | Valor Gasto |\n",
    "|----------|---------------------|----------|------------|-------------|\n",
    "| **0**    | **Clientes Novos**   | Baixa   | Baixa  | Baixo    |\n",
    "| **1**    | **Clientes Inativos**| Alta    | Baixa  | Baixo    |\n",
    "| **2**    | **Clientes Leais**   | Média   | Alta   | Médio   |\n",
    "| **3**    | **Clientes Premium** | Baixa   | Alta   | Alto    |\n",
    "| **4**    | **Clientes Comuns**  | Média   | Média  | Médio    |\n",
    "\n"
   ]
  },
  {
   "cell_type": "markdown",
   "metadata": {
    "application/vnd.databricks.v1+cell": {
     "cellMetadata": {},
     "inputWidgets": {},
     "nuid": "9d430274-1a7f-4725-bbaa-04257b9b59bc",
     "showTitle": false,
     "tableResultSettingsMap": {},
     "title": ""
    }
   },
   "source": [
    "## **Analisando a distribuição por Cluster**\n",
    "---"
   ]
  },
  {
   "cell_type": "markdown",
   "metadata": {
    "application/vnd.databricks.v1+cell": {
     "cellMetadata": {},
     "inputWidgets": {},
     "nuid": "cc1c5366-dcca-4a88-883e-539053bd10b7",
     "showTitle": false,
     "tableResultSettingsMap": {},
     "title": ""
    }
   },
   "source": [
    "### Relacionando o cluster com a descrição & Renomeando as colunas"
   ]
  },
  {
   "cell_type": "code",
   "execution_count": 0,
   "metadata": {
    "application/vnd.databricks.v1+cell": {
     "cellMetadata": {
      "byteLimit": 2048000,
      "rowLimit": 10000
     },
     "inputWidgets": {},
     "nuid": "3553294d-5980-4f95-b1e2-19f198e16232",
     "showTitle": false,
     "tableResultSettingsMap": {},
     "title": ""
    }
   },
   "outputs": [],
   "source": [
    "# Estamos relacionando o numero do cluster com a sua descrição\n",
    "cluster_map = {\n",
    "    0: 'Cliente Novo',\n",
    "    1: 'Cliente Inativo',\n",
    "    2: 'Cliente Leal',\n",
    "    3: 'Cliente Premium',\n",
    "    4: 'Cliente Comum'\n",
    "}\n",
    "\n",
    "# Criamos uma nova coluna 'Cluster_Label' no DataFrame\n",
    "df_customers['Cluster_Label'] = df_customers['Cluster'].map(cluster_map)\n",
    "\n",
    "# Renomeamos as colunas\n",
    "df_customers = df_customers.rename(columns={\n",
    "    'Recency': 'recencia_dias',\n",
    "    'Frequency': 'frequencia_de_compras',\n",
    "    'Monetary': 'valor_total_gasto',\n",
    "    'Cluster': 'cluster',\n",
    "    'Cluster_Label': 'segmento_do_cliente'\n",
    "})\n",
    "\n",
    "df_customers.head(2)"
   ]
  },
  {
   "cell_type": "code",
   "execution_count": 0,
   "metadata": {
    "application/vnd.databricks.v1+cell": {
     "cellMetadata": {},
     "inputWidgets": {},
     "nuid": "0d47509a-9c6b-4759-bb0d-3afb7ec68ab9",
     "showTitle": false,
     "tableResultSettingsMap": {},
     "title": ""
    }
   },
   "outputs": [],
   "source": []
  },
  {
   "cell_type": "code",
   "execution_count": 0,
   "metadata": {
    "application/vnd.databricks.v1+cell": {
     "cellMetadata": {
      "byteLimit": 2048000,
      "rowLimit": 10000
     },
     "inputWidgets": {},
     "nuid": "ce1dff0d-5644-47f1-907c-fe569b2090ef",
     "showTitle": false,
     "tableResultSettingsMap": {},
     "title": ""
    }
   },
   "outputs": [],
   "source": [
    "# Calculamos a distribuição de frequência para cada cluster\n",
    "df_dist = df_customers['segmento_do_cliente'].value_counts(normalize=True).to_frame().reset_index()\n",
    "df_dist.columns = ['segmento_do_cliente', 'frequencia']\n",
    "\n",
    "plt.figure(figsize=(10, 7))\n",
    "\n",
    "# Criamos um gráfico de barras\n",
    "ax = sns.barplot(\n",
    "    data=df_dist,\n",
    "    x='segmento_do_cliente',\n",
    "    y='frequencia',\n",
    "    palette='deep')\n",
    "\n",
    "# Adicionamos rótulo de dados para as colunas\n",
    "for p in ax.patches:\n",
    "    height = p.get_height()\n",
    "\n",
    "    ax.text(\n",
    "        x=p.get_x() + p.get_width() / 2, \n",
    "        y=height + 0.01, \n",
    "        s=(f'{height*100:.3f}%').replace('.', ','),\n",
    "        ha='center'\n",
    "    )\n",
    "\n",
    "plt.title('Distribuição de Frequência por Cluster', fontsize=16, fontweight='bold')\n",
    "plt.xlabel('')\n",
    "plt.ylabel('frequencia')\n",
    "plt.show()"
   ]
  },
  {
   "cell_type": "markdown",
   "metadata": {
    "application/vnd.databricks.v1+cell": {
     "cellMetadata": {},
     "inputWidgets": {},
     "nuid": "fe187e28-7011-486c-97b2-f8c91c62ac56",
     "showTitle": false,
     "tableResultSettingsMap": {},
     "title": ""
    }
   },
   "source": [
    "## **Resumo Estatístico dos Clusters**\n",
    "---"
   ]
  },
  {
   "cell_type": "code",
   "execution_count": 0,
   "metadata": {
    "application/vnd.databricks.v1+cell": {
     "cellMetadata": {
      "byteLimit": 2048000,
      "rowLimit": 10000
     },
     "inputWidgets": {},
     "nuid": "2389bdea-e882-4723-8981-2d358413e7d0",
     "showTitle": false,
     "tableResultSettingsMap": {},
     "title": ""
    }
   },
   "outputs": [],
   "source": [
    "# Agrupando os valores para obter um resumo estatístico de todas as categorias\n",
    "df_analysis = df_customers.groupby('segmento_do_cliente').agg(\n",
    "    Recencia_Media=('recencia_dias', 'mean'),\n",
    "    Frequencia_Media=('frequencia_de_compras', 'mean'),\n",
    "    Valor_Medio=('valor_total_gasto', 'mean'),\n",
    "    Contagem_Clientes=('cluster', 'count')\n",
    ").round(2)\n",
    "\n",
    "# Ordenando do maior ao menor número de ocorrências\n",
    "df_analysis.sort_values(by='Contagem_Clientes', ascending=False)"
   ]
  },
  {
   "cell_type": "markdown",
   "metadata": {
    "application/vnd.databricks.v1+cell": {
     "cellMetadata": {},
     "inputWidgets": {},
     "nuid": "b103ceb6-d767-4d04-aa3d-927fc41b675a",
     "showTitle": false,
     "tableResultSettingsMap": {},
     "title": ""
    }
   },
   "source": [
    "## **Conclusão sobre a Distribuição dos Clientes**\n",
    "---"
   ]
  },
  {
   "cell_type": "markdown",
   "metadata": {
    "application/vnd.databricks.v1+cell": {
     "cellMetadata": {},
     "inputWidgets": {},
     "nuid": "8dd6da28-a8d8-4379-b79a-9a584ab9235a",
     "showTitle": false,
     "tableResultSettingsMap": {},
     "title": ""
    }
   },
   "source": [
    "### Analisando os dados, percebemos um comportamento claro no público da **ClickBus**:\n",
    "\n",
    "- **📈 69% dos clientes são novos**  \n",
    "  Realizaram uma compra recentemente, mas ainda têm baixo valor agregado e pouca recorrência.\n",
    "\n",
    "- **📉 31% dos clientes estão inativos**  \n",
    "  Ou seja, não retornaram para novas compras após as primeiras interações.\n",
    "\n",
    "- **🔎 Apenas 2,03% dos clientes são recorrentes ou de alto valor**  \n",
    "  Isso inclui os **Clientes Comuns, Leais e Premium**, indicando baixa retenção e fidelização.\n",
    "\n",
    "<br>\n",
    "\n",
    "---\n"
   ]
  },
  {
   "cell_type": "markdown",
   "metadata": {
    "application/vnd.databricks.v1+cell": {
     "cellMetadata": {},
     "inputWidgets": {},
     "nuid": "97f05dde-6601-4658-b4c8-ab1f7264516e",
     "showTitle": false,
     "tableResultSettingsMap": {},
     "title": ""
    }
   },
   "source": [
    "### **O que deve ser feito?**\n",
    "\n",
    "O foco deve ser em:\n",
    "\n",
    "- **Engajar os clientes novos**  \n",
    "  Incentivar a recompra e criar relacionamento desde o primeiro contato.\n",
    "\n",
    "- **Reativar os clientes inativos**  \n",
    "  Utilizar campanhas específicas de recuperação e oferta direcionada.\n",
    "\n",
    "- **Promover a evolução do cliente no ciclo de valor**  \n",
    "  Levar o cliente de \"novo\" para \"comum\", \"leal\" ou \"premium\", de acordo com o potencial de compra e perfil de gasto.\n",
    "\n",
    "<br>\n",
    "\n",
    "---"
   ]
  },
  {
   "cell_type": "markdown",
   "metadata": {
    "application/vnd.databricks.v1+cell": {
     "cellMetadata": {},
     "inputWidgets": {},
     "nuid": "322fe440-e96f-4e1a-bf09-4b4396f6cbf9",
     "showTitle": false,
     "tableResultSettingsMap": {},
     "title": ""
    }
   },
   "source": [
    "## **Entrega Final:** _fk_conctact_ **+** _Cluster_Label_"
   ]
  },
  {
   "cell_type": "markdown",
   "metadata": {
    "application/vnd.databricks.v1+cell": {
     "cellMetadata": {},
     "inputWidgets": {},
     "nuid": "365d38d2-5339-47fb-ae6e-9ad3dc5742ae",
     "showTitle": false,
     "tableResultSettingsMap": {},
     "title": ""
    }
   },
   "source": [
    "#### Com essa tabela a **ClickBus** consegue obter uma profunda análise sobre cada cliente e melhorar sua tomada de decisões"
   ]
  },
  {
   "cell_type": "code",
   "execution_count": 0,
   "metadata": {
    "application/vnd.databricks.v1+cell": {
     "cellMetadata": {
      "byteLimit": 2048000,
      "rowLimit": 10000
     },
     "inputWidgets": {},
     "nuid": "e5751a74-bdb0-4675-8711-5c8c243809d1",
     "showTitle": false,
     "tableResultSettingsMap": {},
     "title": ""
    }
   },
   "outputs": [],
   "source": [
    "# Pequena Amostra da tabela final\n",
    "df_customers.sample(6, random_state=4356)"
   ]
  },
  {
   "cell_type": "code",
   "execution_count": 0,
   "metadata": {
    "application/vnd.databricks.v1+cell": {
     "cellMetadata": {
      "byteLimit": 2048000,
      "rowLimit": 10000
     },
     "inputWidgets": {},
     "nuid": "cf0b33a6-3f82-47cb-9bd3-905d09465fe5",
     "showTitle": false,
     "tableResultSettingsMap": {},
     "title": ""
    }
   },
   "outputs": [],
   "source": [
    "df_customers.reset_index(inplace=True)"
   ]
  },
  {
   "cell_type": "code",
   "execution_count": 0,
   "metadata": {
    "application/vnd.databricks.v1+cell": {
     "cellMetadata": {
      "byteLimit": 2048000,
      "rowLimit": 10000
     },
     "inputWidgets": {},
     "nuid": "a3d09894-8a29-437e-9283-e47ae848d26a",
     "showTitle": false,
     "tableResultSettingsMap": {},
     "title": ""
    }
   },
   "outputs": [],
   "source": [
    "df_produto_dados = spark.createDataFrame(df_customers)"
   ]
  },
  {
   "cell_type": "code",
   "execution_count": 0,
   "metadata": {
    "application/vnd.databricks.v1+cell": {
     "cellMetadata": {
      "byteLimit": 2048000,
      "rowLimit": 10000
     },
     "inputWidgets": {},
     "nuid": "9265b22a-cf71-4ccf-854c-0586521b3045",
     "showTitle": false,
     "tableResultSettingsMap": {},
     "title": ""
    }
   },
   "outputs": [],
   "source": [
    "# Salvar como tabela no metastore\n",
    "df_produto_dados.write.mode(\"overwrite\").saveAsTable(\"estudo.default.tuser_clustering\")"
   ]
  },
  {
   "cell_type": "code",
   "execution_count": 0,
   "metadata": {
    "application/vnd.databricks.v1+cell": {
     "cellMetadata": {},
     "inputWidgets": {},
     "nuid": "72ed66bd-4c17-4b7e-8c77-a6f7cf9b7df1",
     "showTitle": false,
     "tableResultSettingsMap": {},
     "title": ""
    }
   },
   "outputs": [],
   "source": []
  }
 ],
 "metadata": {
  "application/vnd.databricks.v1+notebook": {
   "computePreferences": null,
   "dashboards": [],
   "environmentMetadata": null,
   "inputWidgetPreferences": null,
   "language": "python",
   "notebookMetadata": {
    "pythonIndentUnit": 4
   },
   "notebookName": "01_user_clustering",
   "widgets": {}
  },
  "kernelspec": {
   "display_name": "Python 3",
   "language": "python",
   "name": "python3"
  },
  "language_info": {
   "name": "python"
  }
 },
 "nbformat": 4,
 "nbformat_minor": 0
}
