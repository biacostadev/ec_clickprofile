{
 "cells": [
  {
   "cell_type": "code",
   "execution_count": 0,
   "metadata": {
    "application/vnd.databricks.v1+cell": {
     "cellMetadata": {
      "byteLimit": 2048000,
      "implicitDf": true,
      "rowLimit": 10000
     },
     "inputWidgets": {},
     "nuid": "01c511fa-68cd-4b04-bc60-6a44e6e95464",
     "showTitle": false,
     "tableResultSettingsMap": {},
     "title": ""
    }
   },
   "outputs": [],
   "source": [
    "%sql\n",
    "--Evidência da tabela RAW\n",
    "select * from estudo.default.tvendas_raw limit 10"
   ]
  },
  {
   "cell_type": "code",
   "execution_count": 0,
   "metadata": {
    "application/vnd.databricks.v1+cell": {
     "cellMetadata": {
      "byteLimit": 2048000,
      "implicitDf": true,
      "rowLimit": 10000
     },
     "inputWidgets": {},
     "nuid": "53249712-2938-47b7-b9a9-9ecd1d96507b",
     "showTitle": false,
     "tableResultSettingsMap": {
      "0": {
       "dataGridStateBlob": "{\"version\":1,\"tableState\":{\"columnPinning\":{\"left\":[\"#row_number#\"],\"right\":[]},\"columnSizing\":{\"nk_ota_localizer_id\":147,\"fk_contact\":95,\"time_purchase\":118,\"date_purchase\":116,\"place_origin_departure\":163,\"place_destination_departure\":193,\"place_origin_return\":143,\"place_destination_return\":171,\"fk_departure_ota_bus_company\":213,\"fk_return_ota_bus_company\":193,\"gmv_success\":113,\"total_tickets_quantity_success\":200},\"columnVisibility\":{}},\"settings\":{\"columns\":{}},\"syncTimestamp\":1755230271361}",
       "filterBlob": null,
       "queryPlanFiltersBlob": null,
       "tableResultIndex": 0
      }
     },
     "title": ""
    }
   },
   "outputs": [],
   "source": [
    "%sql\n",
    "--Evidência da tabela RAW tratada e filtrada, ingerida na camada BRONZE\n",
    "select * from estudo.default.tvendas_bronze limit 10"
   ]
  },
  {
   "cell_type": "code",
   "execution_count": 0,
   "metadata": {
    "application/vnd.databricks.v1+cell": {
     "cellMetadata": {
      "byteLimit": 2048000,
      "implicitDf": true,
      "rowLimit": 10000
     },
     "inputWidgets": {},
     "nuid": "e949a9ba-aa38-4fea-918c-3a7acb5bf242",
     "showTitle": false,
     "tableResultSettingsMap": {},
     "title": ""
    }
   },
   "outputs": [],
   "source": [
    "%sql\n",
    "--Evidência do resultado do modelo Cluster\n",
    "select * from estudo.default.tcluster_silver limit 10"
   ]
  },
  {
   "cell_type": "code",
   "execution_count": 0,
   "metadata": {
    "application/vnd.databricks.v1+cell": {
     "cellMetadata": {
      "byteLimit": 2048000,
      "implicitDf": true,
      "rowLimit": 10000
     },
     "inputWidgets": {},
     "nuid": "43a72088-63c2-4a21-a02a-84a52fbd1ba2",
     "showTitle": false,
     "tableResultSettingsMap": {
      "0": {
       "dataGridStateBlob": "{\"version\":1,\"tableState\":{\"columnPinning\":{\"left\":[\"#row_number#\"],\"right\":[]},\"columnSizing\":{\"fk_contact\":96,\"cd_cluster\":93,\"ds_cluster\":97,\"nu_recencia_dias\":129,\"vl_total\":90,\"vl_medio\":90,\"qt_compra\":96,\"qt_total_ticket\":116,\"qt_media_ticket\":124,\"qt_total_compra_volta\":157,\"pc_compra_volta\":130,\"ds_rota_ida_preferido\":157,\"ds_rota_volta_preferido\":165,\"ds_dia_semana_preferido\":174,\"ds_dia_mes_preferido\":155,\"nu_hora_preferido\":138,\"ds_periodo_dia_preferido\":175,\"ds_mes_preferido\":132,\"ds_estacao_preferido\":153},\"columnVisibility\":{}},\"settings\":{\"columns\":{}},\"syncTimestamp\":1755230888155}",
       "filterBlob": null,
       "queryPlanFiltersBlob": null,
       "tableResultIndex": 0
      }
     },
     "title": ""
    }
   },
   "outputs": [],
   "source": [
    "%sql\n",
    "--Evidência do Produto de Dados Analítico de clientes clusterizados\n",
    "select * from estudo.default.tcluster_cli_gold limit 10"
   ]
  },
  {
   "cell_type": "code",
   "execution_count": 0,
   "metadata": {
    "application/vnd.databricks.v1+cell": {
     "cellMetadata": {
      "byteLimit": 2048000,
      "implicitDf": true,
      "rowLimit": 10000
     },
     "inputWidgets": {},
     "nuid": "8ab8ec9b-3640-4900-8582-0a7bf8e580b0",
     "showTitle": false,
     "tableResultSettingsMap": {
      "0": {
       "dataGridStateBlob": "{\"version\":1,\"tableState\":{\"columnPinning\":{\"left\":[\"#row_number#\"],\"right\":[]},\"columnSizing\":{\"dt_particao\":99,\"ds_cluster\":107,\"qt_total_cliente\":123,\"vl_total_compra\":124,\"qt_total_compra\":126,\"qt_total_ticket_compra\":161,\"qt_total_compra_com_volta\":187,\"qt_media_ticket_compra\":170,\"vl_medio_compra\":134,\"pc_compra_volta\":130,\"ds_dia_semana_preferido\":174,\"ds_mes_preferido\":134,\"ds_periodo_dia_preferido\":178},\"columnVisibility\":{}},\"settings\":{\"columns\":{}},\"syncTimestamp\":1755231254537}",
       "filterBlob": null,
       "queryPlanFiltersBlob": null,
       "tableResultIndex": 0
      }
     },
     "title": ""
    }
   },
   "outputs": [],
   "source": [
    "%sql\n",
    "--Evidência da tabela com métricas gerais criada para o dash de clusters\n",
    "select * from estudo.default.tcluster_dash_geral_gold"
   ]
  },
  {
   "cell_type": "code",
   "execution_count": 0,
   "metadata": {
    "application/vnd.databricks.v1+cell": {
     "cellMetadata": {
      "byteLimit": 2048000,
      "implicitDf": true,
      "rowLimit": 10000
     },
     "inputWidgets": {},
     "nuid": "c80ce639-0f8c-45a2-a0a0-ea9994b02db7",
     "showTitle": false,
     "tableResultSettingsMap": {},
     "title": ""
    }
   },
   "outputs": [],
   "source": [
    "%sql\n",
    "--Evidência da tabela com métricas temporais de tickets comprados\n",
    "--por dia da semana criada para o dash de clusters\n",
    "select * from estudo.default.tcluster_dash_temporal_ticket_dia_semana_gold limit 10"
   ]
  },
  {
   "cell_type": "code",
   "execution_count": 0,
   "metadata": {
    "application/vnd.databricks.v1+cell": {
     "cellMetadata": {
      "byteLimit": 2048000,
      "implicitDf": true,
      "rowLimit": 10000
     },
     "inputWidgets": {},
     "nuid": "1033d877-ef79-49df-8166-552c9e29363b",
     "showTitle": false,
     "tableResultSettingsMap": {},
     "title": ""
    }
   },
   "outputs": [],
   "source": [
    "%sql\n",
    "--Evidência da tabela com métricas temporais de compras\n",
    "--por mês criada para o dash de clusters\n",
    "select * from estudo.default.tcluster_dash_temporal_compras_mes_gold limit 10"
   ]
  },
  {
   "cell_type": "code",
   "execution_count": 0,
   "metadata": {
    "application/vnd.databricks.v1+cell": {
     "cellMetadata": {
      "byteLimit": 2048000,
      "implicitDf": true,
      "rowLimit": 10000
     },
     "inputWidgets": {},
     "nuid": "f9d4ed1f-2a72-4eef-907e-c01459459301",
     "showTitle": false,
     "tableResultSettingsMap": {},
     "title": ""
    }
   },
   "outputs": [],
   "source": [
    "%sql\n",
    "--Evidência da tabela com métricas temporais de compras\n",
    "--por hora criada para o dash de clusters\n",
    "select * from estudo.default.tcluster_dash_temporal_compras_hora_gold limit 10"
   ]
  },
  {
   "cell_type": "code",
   "execution_count": 0,
   "metadata": {
    "application/vnd.databricks.v1+cell": {
     "cellMetadata": {
      "byteLimit": 2048000,
      "implicitDf": true,
      "rowLimit": 10000
     },
     "inputWidgets": {},
     "nuid": "5362be97-b926-43b2-b191-61aac3a25538",
     "showTitle": false,
     "tableResultSettingsMap": {},
     "title": ""
    }
   },
   "outputs": [],
   "source": [
    "%sql\n",
    "--Evidência da tabela com métricas temporais de compras\n",
    "--por estação criada para o dash de clusters\n",
    "select * from estudo.default.tcluster_dash_temporal_compras_estacao_gold limit 10"
   ]
  },
  {
   "cell_type": "code",
   "execution_count": 0,
   "metadata": {
    "application/vnd.databricks.v1+cell": {
     "cellMetadata": {
      "byteLimit": 2048000,
      "implicitDf": true,
      "rowLimit": 10000
     },
     "inputWidgets": {},
     "nuid": "7c80fd06-7d04-4f62-9d53-a4b664b17cf9",
     "showTitle": false,
     "tableResultSettingsMap": {},
     "title": ""
    }
   },
   "outputs": [],
   "source": [
    "%sql\n",
    "--Evidência da tabela com métricas temporais de compras\n",
    "--por dia do mês criada para o dash de clusters\n",
    "select * from estudo.default.tcluster_dash_temporal_compras_dia_gold limit 10"
   ]
  },
  {
   "cell_type": "code",
   "execution_count": 0,
   "metadata": {
    "application/vnd.databricks.v1+cell": {
     "cellMetadata": {
      "byteLimit": 2048000,
      "implicitDf": true,
      "rowLimit": 10000
     },
     "inputWidgets": {},
     "nuid": "3c8251cb-79a2-4a08-9d26-03cdd2175483",
     "showTitle": false,
     "tableResultSettingsMap": {
      "0": {
       "dataGridStateBlob": "{\"version\":1,\"tableState\":{\"columnPinning\":{\"left\":[\"#row_number#\"],\"right\":[]},\"columnSizing\":{\"ds_rota_ida\":197},\"columnVisibility\":{}},\"settings\":{\"columns\":{}},\"syncTimestamp\":1755231747111}",
       "filterBlob": null,
       "queryPlanFiltersBlob": null,
       "tableResultIndex": 0
      }
     },
     "title": ""
    }
   },
   "outputs": [],
   "source": [
    "%sql\n",
    "--Evidência da tabela com métricas temporais de compras\n",
    "--por rota de ida criada para o dash de clusters\n",
    "select * from estudo.default.tcluster_dash_temporal_compras_rota_gold limit 10"
   ]
  },
  {
   "cell_type": "code",
   "execution_count": 0,
   "metadata": {
    "application/vnd.databricks.v1+cell": {
     "cellMetadata": {
      "byteLimit": 2048000,
      "implicitDf": true,
      "rowLimit": 10000
     },
     "inputWidgets": {},
     "nuid": "1155eda4-b01a-4303-8642-3ef955b9ca8e",
     "showTitle": false,
     "tableResultSettingsMap": {},
     "title": ""
    }
   },
   "outputs": [],
   "source": [
    "%sql\n",
    "--Evidência da tabela com os resultados do modelo de previsão\n",
    "--de compras nos próximos 30 dias\n",
    "select * from estudo.default.tprev_compra_silver limit 10"
   ]
  },
  {
   "cell_type": "code",
   "execution_count": 0,
   "metadata": {
    "application/vnd.databricks.v1+cell": {
     "cellMetadata": {
      "byteLimit": 2048000,
      "implicitDf": true,
      "rowLimit": 10000
     },
     "inputWidgets": {},
     "nuid": "5b8cfa4f-15a4-407e-9d34-b48662c9d33a",
     "showTitle": false,
     "tableResultSettingsMap": {},
     "title": ""
    }
   },
   "outputs": [],
   "source": [
    "%sql\n",
    "--Evidência do Produto de Dados Analítico de previsão de compra\n",
    "select * from estudo.default.tprev_compra_cli_gold limit 10"
   ]
  },
  {
   "cell_type": "code",
   "execution_count": 0,
   "metadata": {
    "application/vnd.databricks.v1+cell": {
     "cellMetadata": {},
     "inputWidgets": {},
     "nuid": "b03a815e-5a51-49a4-b22d-472678883b66",
     "showTitle": false,
     "tableResultSettingsMap": {},
     "title": ""
    }
   },
   "outputs": [],
   "source": []
  }
 ],
 "metadata": {
  "application/vnd.databricks.v1+notebook": {
   "computePreferences": null,
   "dashboards": [],
   "environmentMetadata": {
    "base_environment": "",
    "environment_version": "2"
   },
   "inputWidgetPreferences": null,
   "language": "python",
   "notebookMetadata": {
    "mostRecentlyExecutedCommandWithImplicitDF": {
     "commandId": 4708386986288954,
     "dataframes": [
      "_sqldf"
     ]
    },
    "pythonIndentUnit": 4
   },
   "notebookName": "evidencias_tabelas_select",
   "widgets": {}
  },
  "language_info": {
   "name": "python"
  }
 },
 "nbformat": 4,
 "nbformat_minor": 0
}
