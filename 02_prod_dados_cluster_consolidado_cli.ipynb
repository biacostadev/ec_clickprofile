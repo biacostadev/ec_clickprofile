{
 "cells": [
  {
   "cell_type": "markdown",
   "metadata": {
    "application/vnd.databricks.v1+cell": {
     "cellMetadata": {
      "byteLimit": 2048000,
      "rowLimit": 10000
     },
     "inputWidgets": {},
     "nuid": "aa56e16e-bc13-46f8-8d78-c2bcba68e5bd",
     "showTitle": false,
     "tableResultSettingsMap": {},
     "title": ""
    }
   },
   "source": [
    "# Consolidando o resultado do modelo com variáveis importantes para negócio em um Produto de Dados Analítico"
   ]
  },
  {
   "cell_type": "markdown",
   "metadata": {
    "application/vnd.databricks.v1+cell": {
     "cellMetadata": {
      "byteLimit": 2048000,
      "rowLimit": 10000
     },
     "inputWidgets": {},
     "nuid": "0af49945-39bc-4c2d-9f5a-8b773664ba93",
     "showTitle": false,
     "tableResultSettingsMap": {},
     "title": ""
    }
   },
   "source": [
    "### Importando as bibliotecas & Carregando os dados\n",
    "---"
   ]
  },
  {
   "cell_type": "code",
   "execution_count": 0,
   "metadata": {
    "application/vnd.databricks.v1+cell": {
     "cellMetadata": {
      "byteLimit": 2048000,
      "rowLimit": 10000
     },
     "inputWidgets": {},
     "nuid": "2a685bbc-c5be-4035-975f-215f6372864c",
     "showTitle": false,
     "tableResultSettingsMap": {},
     "title": ""
    }
   },
   "outputs": [],
   "source": [
    "from pyspark.sql.functions import date_format, when, col, hour, concat_ws, month, dayofmonth, count, avg, row_number, udf, concat, sum, max, round, dayofweek, year, lit, cast, current_date\n",
    "from pyspark.sql.types import StringType, TimestampType\n",
    "from pyspark.sql.window import Window"
   ]
  },
  {
   "cell_type": "code",
   "execution_count": 0,
   "metadata": {
    "application/vnd.databricks.v1+cell": {
     "cellMetadata": {
      "byteLimit": 2048000,
      "rowLimit": 10000
     },
     "inputWidgets": {},
     "nuid": "9abc5c78-7ccb-4544-905d-c3d1dee516e3",
     "showTitle": false,
     "tableResultSettingsMap": {},
     "title": ""
    }
   },
   "outputs": [],
   "source": [
    "tabela_bronze = \"estudo.default.tvendas_bronze\"\n",
    "tabela_cluster_silver = \"estudo.default.tcluster_silver\"\n",
    "tabela_final = \"estudo.default.tcluster_cli_gold\""
   ]
  },
  {
   "cell_type": "code",
   "execution_count": 0,
   "metadata": {
    "application/vnd.databricks.v1+cell": {
     "cellMetadata": {
      "byteLimit": 2048000,
      "rowLimit": 10000
     },
     "inputWidgets": {},
     "nuid": "e999dfc6-907b-4230-ac49-9ec6fd2f88a4",
     "showTitle": false,
     "tableResultSettingsMap": {},
     "title": ""
    }
   },
   "outputs": [],
   "source": [
    "df_origem = spark.table(tabela_bronze)\n",
    "df_cluster = spark.table(tabela_cluster_silver)"
   ]
  },
  {
   "cell_type": "markdown",
   "metadata": {
    "application/vnd.databricks.v1+cell": {
     "cellMetadata": {
      "byteLimit": 2048000,
      "rowLimit": 10000
     },
     "inputWidgets": {},
     "nuid": "6526e5be-570e-421a-a356-cc0c47862c84",
     "showTitle": false,
     "tableResultSettingsMap": {},
     "title": ""
    }
   },
   "source": [
    "### Transformando e Agregando os dados\n",
    "---"
   ]
  },
  {
   "cell_type": "code",
   "execution_count": 0,
   "metadata": {
    "application/vnd.databricks.v1+cell": {
     "cellMetadata": {
      "byteLimit": 2048000,
      "rowLimit": 10000
     },
     "inputWidgets": {},
     "nuid": "cb94d7c0-bc41-46f6-91ee-f5eedbbcc463",
     "showTitle": false,
     "tableResultSettingsMap": {},
     "title": ""
    }
   },
   "outputs": [],
   "source": [
    "df_enriquecido = df_origem.withColumn(\"datetime_purchase\",\n",
    "                 concat_ws(\" \", col(\"date_purchase\"), col(\"time_purchase\")).cast(\"timestamp\")) \\\n",
    "    .withColumn(\"date_purchase\", col(\"date_purchase\").cast(\"date\")) \\\n",
    "    .withColumn(\"ano_mes_compra\", date_format(col(\"date_purchase\"), \"yyyy-MM\")) \\\n",
    "    .withColumn(\"hora_do_dia_compra\", hour(col(\"time_purchase\"))) \\\n",
    "    .withColumn(\"dia_semana_compra\", dayofweek(col(\"date_purchase\"))) \\\n",
    "    .withColumn(\"rota_ida\", concat_ws(\" -> \", col(\"place_origin_departure\"), col(\"place_destination_departure\"))) \\\n",
    "    .withColumn(\"rota_volta\",\n",
    "                   when(col(\"place_origin_return\").isNotNull(),\n",
    "                        concat_ws(\" -> \", col(\"place_origin_return\"), col(\"place_destination_return\")))\n",
    "                   .otherwise(None)) \\\n",
    "    .withColumn(\"mes_compra\", month(col(\"date_purchase\"))) \\\n",
    "    .withColumn(\"dia_do_mes_compra\", dayofmonth(col(\"date_purchase\"))) \\\n",
    "    .withColumn(\"estacao_do_ano\",\n",
    "        when((month(col(\"date_purchase\")) == 12) & (dayofmonth(col(\"date_purchase\")) >= 21) | \\\n",
    "            (month(col(\"date_purchase\")) == 1) | \\\n",
    "            (month(col(\"date_purchase\")) == 2) | \\\n",
    "            (month(col(\"date_purchase\")) == 3) & (dayofmonth(col(\"date_purchase\")) < 20), \"Verão\")\n",
    "        .when((month(col(\"date_purchase\")) == 3) & (dayofmonth(col(\"date_purchase\")) >= 20) | \\\n",
    "            (month(col(\"date_purchase\")) == 4) | \\\n",
    "            (month(col(\"date_purchase\")) == 5) | \\\n",
    "            (month(col(\"date_purchase\")) == 6) & (dayofmonth(col(\"date_purchase\")) < 20), \"Outono\")\n",
    "        .when((month(col(\"date_purchase\")) == 6) & (dayofmonth(col(\"date_purchase\")) >= 20) | \\\n",
    "            (month(col(\"date_purchase\")) == 7) | \\\n",
    "            (month(col(\"date_purchase\")) == 8) | \\\n",
    "            (month(col(\"date_purchase\")) == 9) & (dayofmonth(col(\"date_purchase\")) < 22), \"Inverno\")\n",
    "        .when((month(col(\"date_purchase\")) == 9) & (dayofmonth(col(\"date_purchase\")) >= 22) | \\\n",
    "            (month(col(\"date_purchase\")) == 10) | \\\n",
    "            (month(col(\"date_purchase\")) == 11) | \\\n",
    "            (month(col(\"date_purchase\")) == 12) & (dayofmonth(col(\"date_purchase\")) < 21), \"Primavera\")\n",
    "        .otherwise(\"Não Definido\")\n",
    "    )"
   ]
  },
  {
   "cell_type": "code",
   "execution_count": 0,
   "metadata": {
    "application/vnd.databricks.v1+cell": {
     "cellMetadata": {
      "byteLimit": 2048000,
      "rowLimit": 10000
     },
     "inputWidgets": {},
     "nuid": "9a7d7622-3774-461d-9f6e-58ac1e59ad4e",
     "showTitle": false,
     "tableResultSettingsMap": {},
     "title": ""
    }
   },
   "outputs": [],
   "source": [
    "df_metricas_agrupadas = df_enriquecido.groupBy(\"fk_contact\").agg(\n",
    "    count(col(\"nk_ota_localizer_id\")).alias(\"total_compras\"),\n",
    "    round(sum(col(\"gmv_success\")), 2).alias(\"valor_total_compra\"),\n",
    "    round(avg(col(\"gmv_success\")), 2).alias(\"valor_medio_compra\"),\n",
    "    sum(col(\"total_tickets_quantity_success\")).alias(\"total_tickets_compras\"),\n",
    "    sum(when(col(\"rota_volta\").isNotNull(), 1).otherwise(0)).alias(\"total_compras_com_volta\"),\n",
    "    max(col(\"datetime_purchase\")).alias(\"data_ultima_compra\")\n",
    ")"
   ]
  },
  {
   "cell_type": "code",
   "execution_count": 0,
   "metadata": {
    "application/vnd.databricks.v1+cell": {
     "cellMetadata": {
      "byteLimit": 2048000,
      "rowLimit": 10000
     },
     "inputWidgets": {},
     "nuid": "f22f9323-8dbe-4241-9a86-9146f4b35dfb",
     "showTitle": false,
     "tableResultSettingsMap": {},
     "title": ""
    }
   },
   "outputs": [],
   "source": [
    "def calculando_info_preferida(dataframe, group_cols, target_col, output_col_name):\n",
    "    window_spec_count = Window.partitionBy(*group_cols, target_col)\n",
    "\n",
    "    df_counted = dataframe.withColumn(\n",
    "        \"count_target\",\n",
    "        count(target_col).over(window_spec_count)\n",
    "    )\n",
    "\n",
    "    window_spec_rank = Window.partitionBy(*group_cols).orderBy(col(\"count_target\").desc(), col(target_col))\n",
    "\n",
    "    df_mode = df_counted.withColumn(\n",
    "        \"rank_mode\",\n",
    "        row_number().over(window_spec_rank)\n",
    "    ).filter(col(\"rank_mode\") == 1) \\\n",
    "     .select(*group_cols, col(target_col).alias(output_col_name))\n",
    "\n",
    "    return df_mode"
   ]
  },
  {
   "cell_type": "code",
   "execution_count": 0,
   "metadata": {
    "application/vnd.databricks.v1+cell": {
     "cellMetadata": {
      "byteLimit": 2048000,
      "rowLimit": 10000
     },
     "inputWidgets": {},
     "nuid": "d75b74bc-cc66-4f93-b79a-faa86de43ebd",
     "showTitle": false,
     "tableResultSettingsMap": {},
     "title": ""
    }
   },
   "outputs": [],
   "source": [
    "rota_ida_frequente = calculando_info_preferida(\n",
    "    df_enriquecido,\n",
    "    [\"fk_contact\"],\n",
    "    \"rota_ida\",\n",
    "    \"local_partida_ida_local_destino_ida_frequente\"\n",
    ")\n",
    "\n",
    "rota_volta_frequente = calculando_info_preferida(\n",
    "    df_enriquecido.filter(col(\"rota_volta\").isNotNull()),\n",
    "    [\"fk_contact\"],\n",
    "    \"rota_volta\",\n",
    "    \"local_partida_volta_local_destino_volta_frequente\"\n",
    ")\n",
    "\n",
    "dia_preferido = calculando_info_preferida(\n",
    "    df_enriquecido,\n",
    "    [\"fk_contact\"],\n",
    "    \"dia_semana_compra\",\n",
    "    \"dia_da_semana_preferido_de_compra\"\n",
    ")\n",
    "\n",
    "periodo_dia_preferido = calculando_info_preferida(\n",
    "    df_enriquecido,\n",
    "    [\"fk_contact\"],\n",
    "    \"hora_do_dia_compra\",\n",
    "    \"periodo_do_dia_preferido_para_compra\"\n",
    ")\n",
    "\n",
    "epoca_ano_preferida = calculando_info_preferida(\n",
    "    df_enriquecido,\n",
    "    [\"fk_contact\"],\n",
    "    \"mes_compra\",\n",
    "    \"epoca_do_ano_preferido_da_compra\"\n",
    ")\n",
    "\n",
    "epoca_mes_preferida = calculando_info_preferida(\n",
    "    df_enriquecido,\n",
    "    [\"fk_contact\"],\n",
    "    \"dia_do_mes_compra\",\n",
    "    \"epoca_do_mes_preferido_da_compra\"\n",
    ")\n",
    "\n",
    "estacao_do_ano_preferida = calculando_info_preferida(\n",
    "    df_enriquecido,\n",
    "    [\"fk_contact\"],\n",
    "    \"estacao_do_ano\",\n",
    "    \"estacao_do_ano_preferido_da_compra\"\n",
    ")"
   ]
  },
  {
   "cell_type": "code",
   "execution_count": 0,
   "metadata": {
    "application/vnd.databricks.v1+cell": {
     "cellMetadata": {
      "byteLimit": 2048000,
      "rowLimit": 10000
     },
     "inputWidgets": {},
     "nuid": "6d3805c9-3318-4e74-a951-d155cfe1f2c4",
     "showTitle": false,
     "tableResultSettingsMap": {},
     "title": ""
    }
   },
   "outputs": [],
   "source": [
    "df_metricas_final = df_metricas_agrupadas \\\n",
    "    .join(rota_ida_frequente, on=[\"fk_contact\"], how=\"left\") \\\n",
    "    .join(rota_volta_frequente, on=[\"fk_contact\"], how=\"left\") \\\n",
    "    .join(dia_preferido, on=[\"fk_contact\"], how=\"left\") \\\n",
    "    .join(periodo_dia_preferido, on=[\"fk_contact\"], how=\"left\") \\\n",
    "    .join(epoca_ano_preferida, on=[\"fk_contact\"], how=\"left\") \\\n",
    "    .join(epoca_mes_preferida, on=[\"fk_contact\"], how=\"left\") \\\n",
    "    .join(estacao_do_ano_preferida, on=[\"fk_contact\"], how=\"left\")"
   ]
  },
  {
   "cell_type": "code",
   "execution_count": 0,
   "metadata": {
    "application/vnd.databricks.v1+cell": {
     "cellMetadata": {
      "byteLimit": 2048000,
      "rowLimit": 10000
     },
     "inputWidgets": {},
     "nuid": "da31bcb4-174c-4b4f-bd48-aa79cc1956ff",
     "showTitle": false,
     "tableResultSettingsMap": {},
     "title": ""
    }
   },
   "outputs": [],
   "source": [
    "df_calculado = df_metricas_final.withColumn(\"media_tickets_por_compra\", round(col(\"total_tickets_compras\") / col(\"total_compras\"), 2)) \\\n",
    "    .withColumn(\"porcentagem_viagens_com_volta\", round(col(\"total_compras_com_volta\") / col(\"total_compras\") * 100, 2))"
   ]
  },
  {
   "cell_type": "code",
   "execution_count": 0,
   "metadata": {
    "application/vnd.databricks.v1+cell": {
     "cellMetadata": {
      "byteLimit": 2048000,
      "rowLimit": 10000
     },
     "inputWidgets": {},
     "nuid": "274b6201-7794-4bff-8245-d06fddd9be8d",
     "showTitle": false,
     "tableResultSettingsMap": {},
     "title": ""
    }
   },
   "outputs": [],
   "source": [
    "df_join = df_calculado \\\n",
    "    .join(df_cluster, on=[\"fk_contact\"], how=\"left\")"
   ]
  },
  {
   "cell_type": "code",
   "execution_count": 0,
   "metadata": {
    "application/vnd.databricks.v1+cell": {
     "cellMetadata": {
      "byteLimit": 2048000,
      "rowLimit": 10000
     },
     "inputWidgets": {},
     "nuid": "e4621e96-c661-4d7f-9b57-a282ea07de73",
     "showTitle": false,
     "tableResultSettingsMap": {},
     "title": ""
    }
   },
   "outputs": [],
   "source": [
    "df_final = df_join.select(\n",
    "        \"fk_contact\",\n",
    "        col(\"cluster\").alias(\"cd_cluster\"),\n",
    "        col(\"segmento_do_cliente\").alias(\"ds_cluster\"),\n",
    "        col(\"recencia_dias\").alias(\"nu_recencia_dias\"),\n",
    "        round(\"valor_total_gasto\", 2).alias(\"vl_total\"),\n",
    "        round(\"valor_medio_compra\", 2).alias(\"vl_medio\"),\n",
    "        col(\"frequencia_de_compras\").alias(\"qt_compra\"),\n",
    "        col(\"total_tickets_compras\").alias(\"qt_total_ticket\"),\n",
    "        col(\"media_tickets_por_compra\").alias(\"qt_media_ticket\"),\n",
    "        col(\"total_compras_com_volta\").alias(\"qt_total_compra_volta\"),\n",
    "        col(\"porcentagem_viagens_com_volta\").alias(\"pc_compra_volta\"),\n",
    "        col(\"local_partida_ida_local_destino_ida_frequente\").alias(\"ds_rota_ida_preferido\"),\n",
    "        col(\"local_partida_volta_local_destino_volta_frequente\").alias(\"ds_rota_volta_preferido\"),\n",
    "        when(col(\"dia_da_semana_preferido_de_compra\") == 1, 'Domingo')\n",
    "            .when(col(\"dia_da_semana_preferido_de_compra\") == 2, 'Segunda')\n",
    "            .when(col(\"dia_da_semana_preferido_de_compra\") == 3, 'Terça')\n",
    "            .when(col(\"dia_da_semana_preferido_de_compra\") == 4, 'Quarta')\n",
    "            .when(col(\"dia_da_semana_preferido_de_compra\") == 5, 'Quinta')\n",
    "            .when(col(\"dia_da_semana_preferido_de_compra\") == 6, 'Sexta')\n",
    "            .when(col(\"dia_da_semana_preferido_de_compra\") == 7, 'Sábado').alias(\"ds_dia_semana_preferido\"),\n",
    "        col(\"epoca_do_mes_preferido_da_compra\").alias(\"ds_dia_mes_preferido\"),\n",
    "        col(\"periodo_do_dia_preferido_para_compra\").alias(\"nu_hora_preferido\"),\n",
    "        when((col(\"periodo_do_dia_preferido_para_compra\") >= 0) & (col(\"periodo_do_dia_preferido_para_compra\") <= 5), \"Madrugada\")\n",
    "                   .when((col(\"periodo_do_dia_preferido_para_compra\") >= 6) & (col(\"periodo_do_dia_preferido_para_compra\") <= 11), \"Manhã\")\n",
    "                   .when((col(\"periodo_do_dia_preferido_para_compra\") >= 12) & (col(\"periodo_do_dia_preferido_para_compra\") <= 17), \"Tarde\")\n",
    "                   .otherwise(\"Noite\").alias(\"ds_periodo_dia_preferido\"),\n",
    "        when(col(\"epoca_do_ano_preferido_da_compra\") == 1, 'Janeiro')\n",
    "            .when(col(\"epoca_do_ano_preferido_da_compra\") == 2, 'Fevereiro')\n",
    "            .when(col(\"epoca_do_ano_preferido_da_compra\") == 3, 'Março')\n",
    "            .when(col(\"epoca_do_ano_preferido_da_compra\") == 4, 'Abril')\n",
    "            .when(col(\"epoca_do_ano_preferido_da_compra\") == 5, 'Maio')\n",
    "            .when(col(\"epoca_do_ano_preferido_da_compra\") == 6, 'Junho')\n",
    "            .when(col(\"epoca_do_ano_preferido_da_compra\") == 7, 'Julho')\n",
    "            .when(col(\"epoca_do_ano_preferido_da_compra\") == 8, 'Agosto')\n",
    "            .when(col(\"epoca_do_ano_preferido_da_compra\") == 9, 'Setembro')\n",
    "            .when(col(\"epoca_do_ano_preferido_da_compra\") == 10, 'Outubro')\n",
    "            .when(col(\"epoca_do_ano_preferido_da_compra\") == 11, 'Novembro')\n",
    "            .when(col(\"epoca_do_ano_preferido_da_compra\") == 12, 'Dezembro').alias(\"ds_mes_preferido\"),\n",
    "        col(\"estacao_do_ano_preferido_da_compra\").alias(\"ds_estacao_preferido\"),\n",
    "        current_date().alias(\"dt_particao\")\n",
    "    )"
   ]
  },
  {
   "cell_type": "markdown",
   "metadata": {
    "application/vnd.databricks.v1+cell": {
     "cellMetadata": {
      "byteLimit": 2048000,
      "rowLimit": 10000
     },
     "inputWidgets": {},
     "nuid": "d876eaa9-0ea9-41c3-a950-43dc6ec03b3b",
     "showTitle": false,
     "tableResultSettingsMap": {},
     "title": ""
    }
   },
   "source": [
    "### Escrita na tabela relacional\n",
    "---"
   ]
  },
  {
   "cell_type": "code",
   "execution_count": 0,
   "metadata": {
    "application/vnd.databricks.v1+cell": {
     "cellMetadata": {
      "byteLimit": 2048000,
      "rowLimit": 10000
     },
     "inputWidgets": {},
     "nuid": "0e824bef-ca42-45e8-ae93-6858fe97ba72",
     "showTitle": false,
     "tableResultSettingsMap": {},
     "title": ""
    }
   },
   "outputs": [],
   "source": [
    "df_final.write.mode(\"overwrite\").saveAsTable(tabela_final)"
   ]
  },
  {
   "cell_type": "code",
   "execution_count": 0,
   "metadata": {
    "application/vnd.databricks.v1+cell": {
     "cellMetadata": {
      "byteLimit": 2048000,
      "rowLimit": 10000
     },
     "inputWidgets": {},
     "nuid": "489b432b-e0e9-426e-9e76-0b6f46d33201",
     "showTitle": false,
     "tableResultSettingsMap": {},
     "title": ""
    }
   },
   "outputs": [],
   "source": []
  }
 ],
 "metadata": {
  "application/vnd.databricks.v1+notebook": {
   "computePreferences": {
    "hardware": {
     "accelerator": null,
     "gpuPoolId": null,
     "memory": null
    }
   },
   "dashboards": [],
   "environmentMetadata": {
    "base_environment": "",
    "environment_version": "3"
   },
   "inputWidgetPreferences": null,
   "language": "python",
   "notebookMetadata": {
    "mostRecentlyExecutedCommandWithImplicitDF": {
     "commandId": 6258353668765800,
     "dataframes": [
      "_sqldf"
     ]
    },
    "pythonIndentUnit": 4
   },
   "notebookName": "02_prod_dados_cluster_consolidado_cli",
   "widgets": {}
  },
  "language_info": {
   "name": "python"
  }
 },
 "nbformat": 4,
 "nbformat_minor": 0
}
