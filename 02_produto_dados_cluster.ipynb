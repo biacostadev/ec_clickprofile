{
 "cells": [
  {
   "cell_type": "code",
   "execution_count": 0,
   "metadata": {
    "application/vnd.databricks.v1+cell": {
     "cellMetadata": {
      "byteLimit": 2048000,
      "rowLimit": 10000
     },
     "inputWidgets": {},
     "nuid": "23c02b5d-e075-47f1-afb5-515693f0181f",
     "showTitle": false,
     "tableResultSettingsMap": {},
     "title": ""
    }
   },
   "outputs": [],
   "source": [
    "import pyspark.sql.functions as F\n",
    "from datetime import datetime, timedelta\n",
    "from pyspark.sql import SparkSession"
   ]
  },
  {
   "cell_type": "code",
   "execution_count": 0,
   "metadata": {
    "application/vnd.databricks.v1+cell": {
     "cellMetadata": {
      "byteLimit": 2048000,
      "rowLimit": 10000
     },
     "inputWidgets": {},
     "nuid": "d48dd795-21e2-4fc5-a348-06c687e3434e",
     "showTitle": false,
     "tableResultSettingsMap": {},
     "title": ""
    }
   },
   "outputs": [],
   "source": [
    "df_origem = spark.table(\"estudo.default.torigem_tratada\").withColumn(\"media_tickets_por_compra\", F.round(F.col(\"total_tickets_compras\") / F.col(\"total_compras\"), 2)) \\\n",
    "    .withColumn(\"porcentagem_viagens_com_volta\", F.round(F.col(\"total_compras_com_volta\") / F.col(\"total_compras\") * 100, 2)) \\\n",
    "        .select(\n",
    "            \"fk_contact\",\n",
    "            \"valor_medio_compra\",\n",
    "            \"total_tickets_compras\",\n",
    "            \"media_tickets_por_compra\",\n",
    "            \"total_compras_com_volta\",\n",
    "            \"porcentagem_viagens_com_volta\",\n",
    "            \"local_partida_ida_local_destino_ida_frequente\",\n",
    "            \"local_partida_volta_local_destino_volta_frequente\",\n",
    "            \"dia_da_semana_preferido_de_compra\",\n",
    "            \"epoca_do_mes_preferido_da_compra\",\n",
    "            \"periodo_do_dia_preferido_para_compra\",\n",
    "            \"epoca_do_ano_preferido_da_compra\"\n",
    "        ).distinct()"
   ]
  },
  {
   "cell_type": "code",
   "execution_count": 0,
   "metadata": {
    "application/vnd.databricks.v1+cell": {
     "cellMetadata": {
      "byteLimit": 2048000,
      "rowLimit": 10000
     },
     "inputWidgets": {},
     "nuid": "5a058ecc-d305-49ee-8589-70924f5df9e1",
     "showTitle": false,
     "tableResultSettingsMap": {},
     "title": ""
    }
   },
   "outputs": [],
   "source": [
    "df_cluster = spark.table(\"estudo.default.tuser_clustering\")"
   ]
  },
  {
   "cell_type": "code",
   "execution_count": 0,
   "metadata": {
    "application/vnd.databricks.v1+cell": {
     "cellMetadata": {
      "byteLimit": 2048000,
      "rowLimit": 10000
     },
     "inputWidgets": {},
     "nuid": "3a9e8990-8cd0-47df-9d71-9dca017e4a58",
     "showTitle": false,
     "tableResultSettingsMap": {},
     "title": ""
    }
   },
   "outputs": [],
   "source": [
    "df_join = df_origem \\\n",
    "    .join(df_cluster, on=[\"fk_contact\"], how=\"left\")"
   ]
  },
  {
   "cell_type": "code",
   "execution_count": 0,
   "metadata": {
    "application/vnd.databricks.v1+cell": {
     "cellMetadata": {
      "byteLimit": 2048000,
      "rowLimit": 10000
     },
     "inputWidgets": {},
     "nuid": "70ae9d75-d7b4-4af9-85b0-7b37dac07c01",
     "showTitle": false,
     "tableResultSettingsMap": {},
     "title": ""
    }
   },
   "outputs": [],
   "source": [
    "df_final = df_join.select(\n",
    "        \"fk_contact\",\n",
    "        F.col(\"cluster\").alias(\"cd_cluster\"),\n",
    "        F.col(\"segmento_do_cliente\").alias(\"ds_cluster\"),\n",
    "        \"recencia_dias\",\n",
    "        F.round(\"valor_total_gasto\", 2).alias(\"valor_total_gasto\"),\n",
    "        F.round(\"valor_medio_compra\", 2).alias(\"valor_medio_compra\"),\n",
    "        F.col(\"frequencia_de_compras\").alias(\"quantidade_compras\"),\n",
    "        \"total_tickets_compras\",\n",
    "        \"media_tickets_por_compra\",\n",
    "        \"total_compras_com_volta\",\n",
    "        \"porcentagem_viagens_com_volta\",\n",
    "        F.col(\"local_partida_ida_local_destino_ida_frequente\").alias(\"rota_ida_frequente\"),\n",
    "        F.col(\"local_partida_volta_local_destino_volta_frequente\").alias(\"rota_volta_frequente\"),\n",
    "        F.col(\"dia_da_semana_preferido_de_compra\").alias(\"dia_semana_preferido_compra\"),\n",
    "        F.col(\"epoca_do_mes_preferido_da_compra\").alias(\"dia_mes_preferido_compra\"),\n",
    "        F.col(\"periodo_do_dia_preferido_para_compra\").alias(\"periodo_dia_preferido_compra\"),\n",
    "        F.col(\"epoca_do_ano_preferido_da_compra\").alias(\"mes_preferido_compra\")\n",
    "    )"
   ]
  },
  {
   "cell_type": "code",
   "execution_count": 0,
   "metadata": {
    "application/vnd.databricks.v1+cell": {
     "cellMetadata": {
      "byteLimit": 2048000,
      "rowLimit": 10000
     },
     "inputWidgets": {},
     "nuid": "80e4190b-1316-47a1-a7b7-d7985112a8a5",
     "showTitle": false,
     "tableResultSettingsMap": {},
     "title": ""
    }
   },
   "outputs": [],
   "source": [
    "df_final.count()"
   ]
  },
  {
   "cell_type": "code",
   "execution_count": 0,
   "metadata": {
    "application/vnd.databricks.v1+cell": {
     "cellMetadata": {
      "byteLimit": 2048000,
      "rowLimit": 10000
     },
     "inputWidgets": {},
     "nuid": "7dac29e5-f60a-439a-a2b3-f5bb4acf0862",
     "showTitle": false,
     "tableResultSettingsMap": {},
     "title": ""
    }
   },
   "outputs": [],
   "source": [
    "df_final.write.mode(\"overwrite\").saveAsTable(\"estudo.default.tperfil_cliente\")"
   ]
  },
  {
   "cell_type": "code",
   "execution_count": 0,
   "metadata": {
    "application/vnd.databricks.v1+cell": {
     "cellMetadata": {
      "byteLimit": 2048000,
      "rowLimit": 10000
     },
     "inputWidgets": {},
     "nuid": "3bc60273-a1d2-44ef-b292-3d220cd9a85f",
     "showTitle": false,
     "tableResultSettingsMap": {},
     "title": ""
    }
   },
   "outputs": [],
   "source": [
    "df_final.filter(F.col('total_compras_com_volta') > 1).display()"
   ]
  },
  {
   "cell_type": "code",
   "execution_count": 0,
   "metadata": {
    "application/vnd.databricks.v1+cell": {
     "cellMetadata": {
      "byteLimit": 2048000,
      "rowLimit": 10000
     },
     "inputWidgets": {},
     "nuid": "b4380a07-1207-4728-af4f-66c5df0d810c",
     "showTitle": false,
     "tableResultSettingsMap": {},
     "title": ""
    }
   },
   "outputs": [],
   "source": [
    "df_final.filter(F.col('fk_contact') == 'cbae228abf4b9f465f42d8d6f97a83f2b76c077aea36c3b7303915796cf3dac3').display()"
   ]
  }
 ],
 "metadata": {
  "application/vnd.databricks.v1+notebook": {
   "computePreferences": null,
   "dashboards": [],
   "environmentMetadata": {
    "base_environment": "",
    "environment_version": "3"
   },
   "inputWidgetPreferences": null,
   "language": "python",
   "notebookMetadata": {
    "mostRecentlyExecutedCommandWithImplicitDF": {
     "commandId": 6258353668765800,
     "dataframes": [
      "_sqldf"
     ]
    },
    "pythonIndentUnit": 4
   },
   "notebookName": "02_produto_dados_cluster",
   "widgets": {}
  },
  "language_info": {
   "name": "python"
  }
 },
 "nbformat": 4,
 "nbformat_minor": 0
}
