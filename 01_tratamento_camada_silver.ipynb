{
 "cells": [
  {
   "cell_type": "code",
   "execution_count": 0,
   "metadata": {
    "application/vnd.databricks.v1+cell": {
     "cellMetadata": {
      "byteLimit": 2048000,
      "rowLimit": 10000
     },
     "inputWidgets": {},
     "nuid": "2a685bbc-c5be-4035-975f-215f6372864c",
     "showTitle": false,
     "tableResultSettingsMap": {},
     "title": ""
    }
   },
   "outputs": [],
   "source": [
    "from pyspark.sql.functions import date_format, when, col, hour, concat_ws, month, dayofmonth, count, avg, row_number, udf, concat, sum, max, round, dayofweek\n",
    "from pyspark.sql.types import StringType, TimestampType\n",
    "from pyspark.sql.window import Window\n",
    "\n",
    "from funcoes.gerais import *"
   ]
  },
  {
   "cell_type": "code",
   "execution_count": 0,
   "metadata": {
    "application/vnd.databricks.v1+cell": {
     "cellMetadata": {
      "byteLimit": 2048000,
      "rowLimit": 10000
     },
     "inputWidgets": {},
     "nuid": "9abc5c78-7ccb-4544-905d-c3d1dee516e3",
     "showTitle": false,
     "tableResultSettingsMap": {},
     "title": ""
    }
   },
   "outputs": [],
   "source": [
    "tabela_bronze = \"estudo.default.tvendas_bronze\"\n",
    "tabela_silver = \"estudo.default.tvendas_silver\""
   ]
  },
  {
   "cell_type": "code",
   "execution_count": 0,
   "metadata": {
    "application/vnd.databricks.v1+cell": {
     "cellMetadata": {
      "byteLimit": 2048000,
      "rowLimit": 10000
     },
     "inputWidgets": {},
     "nuid": "e999dfc6-907b-4230-ac49-9ec6fd2f88a4",
     "showTitle": false,
     "tableResultSettingsMap": {},
     "title": ""
    }
   },
   "outputs": [],
   "source": [
    "df_origem = spark.table(tabela_bronze)"
   ]
  },
  {
   "cell_type": "code",
   "execution_count": 0,
   "metadata": {
    "application/vnd.databricks.v1+cell": {
     "cellMetadata": {
      "byteLimit": 2048000,
      "rowLimit": 10000
     },
     "inputWidgets": {},
     "nuid": "cb94d7c0-bc41-46f6-91ee-f5eedbbcc463",
     "showTitle": false,
     "tableResultSettingsMap": {},
     "title": ""
    }
   },
   "outputs": [],
   "source": [
    "# Tratamentos necessários nos dados de entrada:\n",
    "# time_purchase - voltar a ser apenas HH:mm:ss\n",
    "# place_origin_return e place_destination_return - tratamento para tirar o valor '0' quando não houver informações de retorno\n",
    "# fk_return_ota_bus_company - tratamento para tirar o valor '1' quando não houver informações de retorno\n",
    "# gmv_success - transformação em tipo de dado mais adequado para valor monetário\n",
    "\n",
    "df_tratado = df_origem.withColumn(\n",
    "    \"time_purchase\",\n",
    "    date_format(\"time_purchase\", \"HH:mm:ss\")\n",
    "    ).withColumn(\"place_origin_return\",\n",
    "                 when(col(\"place_origin_return\") != '0', col(\"place_origin_return\"))\n",
    "                 .otherwise(None)\n",
    "    ).withColumn(\"place_destination_return\",\n",
    "                 when(col(\"place_destination_return\") != '0', col(\"place_destination_return\"))\n",
    "                 .otherwise(None)\n",
    "    ).withColumn(\"fk_return_ota_bus_company\",\n",
    "                 when(col(\"fk_return_ota_bus_company\") != '1', col(\"fk_return_ota_bus_company\"))\n",
    "                 .otherwise(None)\n",
    "    ).withColumn(\"gmv_success\",\n",
    "                 col(\"gmv_success\").cast(\"decimal(19,2)\")\n",
    "    ).withColumn(\"datetime_purchase\",\n",
    "                 concat_ws(\" \", col(\"date_purchase\"), col(\"time_purchase\")).cast(\"timestamp\")\n",
    "                 )"
   ]
  },
  {
   "cell_type": "code",
   "execution_count": 0,
   "metadata": {
    "application/vnd.databricks.v1+cell": {
     "cellMetadata": {
      "byteLimit": 2048000,
      "rowLimit": 10000
     },
     "inputWidgets": {},
     "nuid": "7897477d-29b7-4710-9400-75c65102e0dc",
     "showTitle": false,
     "tableResultSettingsMap": {},
     "title": ""
    }
   },
   "outputs": [],
   "source": [
    "# Filtros necessários para higienização da base:\n",
    "# gmv_success - trazendo apenas registros com valores de veda positivos. Esses dados podem ser sujeira na base, como também podem ser estorno e/ou uso de cupons na compra. Se tratando do valor monetário na venda de passagens, não temos a justificativa para manter valorez zerados ou negativos. \n",
    "\n",
    "df_filtrado = df_tratado.filter(col(\"gmv_success\") > 0)"
   ]
  },
  {
   "cell_type": "code",
   "execution_count": 0,
   "metadata": {
    "application/vnd.databricks.v1+cell": {
     "cellMetadata": {
      "byteLimit": 2048000,
      "rowLimit": 10000
     },
     "inputWidgets": {},
     "nuid": "d53479be-bcf9-4f43-8032-b950c188b513",
     "showTitle": false,
     "tableResultSettingsMap": {},
     "title": ""
    }
   },
   "outputs": [],
   "source": [
    "# Adicionando informações úteis, calculados com base nos dados originais:\n",
    "\n",
    "df = df_filtrado.withColumn(\"date_purchase\", col(\"date_purchase\").cast(\"date\")) \\\n",
    "    .withColumn(\"ano_mes_compra\", date_format(col(\"date_purchase\"), \"yyyy-MM\")) \\\n",
    "    .withColumn(\"hora_do_dia_compra\", hour(col(\"time_purchase\")))"
   ]
  },
  {
   "cell_type": "code",
   "execution_count": 0,
   "metadata": {
    "application/vnd.databricks.v1+cell": {
     "cellMetadata": {
      "byteLimit": 2048000,
      "rowLimit": 10000
     },
     "inputWidgets": {},
     "nuid": "ecb2b880-f18f-4bac-ad93-2a58cd0accce",
     "showTitle": false,
     "tableResultSettingsMap": {},
     "title": ""
    }
   },
   "outputs": [],
   "source": [
    "dias_semana_num = {\n",
    "    1: 'Domingo', 2: 'Segunda', 3: 'Terça', 4: 'Quarta',\n",
    "    5: 'Quinta', 6: 'Sexta', 7: 'Sábado'\n",
    "}"
   ]
  },
  {
   "cell_type": "code",
   "execution_count": 0,
   "metadata": {
    "application/vnd.databricks.v1+cell": {
     "cellMetadata": {
      "byteLimit": 2048000,
      "rowLimit": 10000
     },
     "inputWidgets": {},
     "nuid": "e2804e77-41d9-4905-a9dc-ca5be190ee2d",
     "showTitle": false,
     "tableResultSettingsMap": {},
     "title": ""
    }
   },
   "outputs": [],
   "source": [
    "dias_semana_map_udf = udf(lambda d: dias_semana_num.get(d, 'Desconhecido'), StringType())\n",
    "df = df.withColumn(\"day_of_week_num\", dayofweek(col(\"date_purchase\")))\n",
    "df = df.withColumn(\"dia_semana_compra\", dias_semana_map_udf(col(\"day_of_week_num\")))"
   ]
  },
  {
   "cell_type": "code",
   "execution_count": 0,
   "metadata": {
    "application/vnd.databricks.v1+cell": {
     "cellMetadata": {
      "byteLimit": 2048000,
      "rowLimit": 10000
     },
     "inputWidgets": {},
     "nuid": "12c9bdef-d0b2-4785-8c41-98fed517869a",
     "showTitle": false,
     "tableResultSettingsMap": {},
     "title": ""
    }
   },
   "outputs": [],
   "source": [
    "df = df.withColumn(\"rota_ida\", concat_ws(\" -> \", col(\"place_origin_departure\"), col(\"place_destination_departure\")))"
   ]
  },
  {
   "cell_type": "code",
   "execution_count": 0,
   "metadata": {
    "application/vnd.databricks.v1+cell": {
     "cellMetadata": {
      "byteLimit": 2048000,
      "rowLimit": 10000
     },
     "inputWidgets": {},
     "nuid": "d6607f0c-a655-4e93-9266-f3f4c80d6c64",
     "showTitle": false,
     "tableResultSettingsMap": {},
     "title": ""
    }
   },
   "outputs": [],
   "source": [
    "df = df.withColumn(\"rota_volta\",\n",
    "                   when(col(\"place_origin_return\").isNotNull(),\n",
    "                        concat_ws(\" -> \", col(\"place_origin_return\"), col(\"place_destination_return\")))\n",
    "                   .otherwise(None))"
   ]
  },
  {
   "cell_type": "code",
   "execution_count": 0,
   "metadata": {
    "application/vnd.databricks.v1+cell": {
     "cellMetadata": {
      "byteLimit": 2048000,
      "rowLimit": 10000
     },
     "inputWidgets": {},
     "nuid": "a6d9f112-c102-421e-9e1b-d47e5cde0db9",
     "showTitle": false,
     "tableResultSettingsMap": {},
     "title": ""
    }
   },
   "outputs": [],
   "source": [
    "df = df.withColumn(\"mes_compra\", month(col(\"date_purchase\"))) \\\n",
    "       .withColumn(\"dia_do_mes_compra\", dayofmonth(col(\"date_purchase\")))"
   ]
  },
  {
   "cell_type": "code",
   "execution_count": 0,
   "metadata": {
    "application/vnd.databricks.v1+cell": {
     "cellMetadata": {
      "byteLimit": 2048000,
      "rowLimit": 10000
     },
     "inputWidgets": {},
     "nuid": "5171751b-699f-4399-9095-a0e4b65e4628",
     "showTitle": false,
     "tableResultSettingsMap": {},
     "title": ""
    }
   },
   "outputs": [],
   "source": [
    "df = df.withColumn(\"periodo_do_dia_compra\",\n",
    "                   when((col(\"hora_do_dia_compra\") >= 0) & (col(\"hora_do_dia_compra\") <= 5), \"Madrugada\")\n",
    "                   .when((col(\"hora_do_dia_compra\") >= 6) & (col(\"hora_do_dia_compra\") <= 11), \"Manhã\")\n",
    "                   .when((col(\"hora_do_dia_compra\") >= 12) & (col(\"hora_do_dia_compra\") <= 17), \"Tarde\")\n",
    "                   .otherwise(\"Noite\"))"
   ]
  },
  {
   "cell_type": "code",
   "execution_count": 0,
   "metadata": {
    "application/vnd.databricks.v1+cell": {
     "cellMetadata": {
      "byteLimit": 2048000,
      "rowLimit": 10000
     },
     "inputWidgets": {},
     "nuid": "b57a32f1-42d7-4ce5-a8cb-a852bd5f9a58",
     "showTitle": false,
     "tableResultSettingsMap": {},
     "title": ""
    }
   },
   "outputs": [],
   "source": [
    "meses_map = {\n",
    "    1: 'Janeiro', 2: 'Fevereiro', 3: 'Março', 4: 'Abril',\n",
    "    5: 'Maio', 6: 'Junho', 7: 'Julho', 8: 'Agosto',\n",
    "    9: 'Setembro', 10: 'Outubro', 11: 'Novembro', 12: 'Dezembro'\n",
    "}"
   ]
  },
  {
   "cell_type": "code",
   "execution_count": 0,
   "metadata": {
    "application/vnd.databricks.v1+cell": {
     "cellMetadata": {
      "byteLimit": 2048000,
      "rowLimit": 10000
     },
     "inputWidgets": {},
     "nuid": "da9fcd48-6ea3-469a-8151-28c490e85b1d",
     "showTitle": false,
     "tableResultSettingsMap": {},
     "title": ""
    }
   },
   "outputs": [],
   "source": [
    "map_mes_udf = udf(lambda m: meses_map.get(m, 'Não definido'), StringType())"
   ]
  },
  {
   "cell_type": "code",
   "execution_count": 0,
   "metadata": {
    "application/vnd.databricks.v1+cell": {
     "cellMetadata": {
      "byteLimit": 2048000,
      "rowLimit": 10000
     },
     "inputWidgets": {},
     "nuid": "9a7d7622-3774-461d-9f6e-58ac1e59ad4e",
     "showTitle": false,
     "tableResultSettingsMap": {},
     "title": ""
    }
   },
   "outputs": [],
   "source": [
    "grouped_metrics_basic = df.groupBy(\"fk_contact\").agg(\n",
    "    count(col(\"nk_ota_localizer_id\")).alias(\"total_compras\"),\n",
    "    round(sum(col(\"gmv_success\")), 2).alias(\"valor_total_compra\"),\n",
    "    round(avg(col(\"gmv_success\")), 2).alias(\"valor_medio_compra\"),\n",
    "    sum(col(\"total_tickets_quantity_success\")).alias(\"total_tickets_compras\"),\n",
    "    sum(when(col(\"rota_volta\").isNotNull(), 1).otherwise(0)).alias(\"total_compras_com_volta\"),\n",
    "    max(col(\"datetime_purchase\")).alias(\"data_ultima_compra\")\n",
    ")"
   ]
  },
  {
   "cell_type": "code",
   "execution_count": 0,
   "metadata": {
    "application/vnd.databricks.v1+cell": {
     "cellMetadata": {
      "byteLimit": 2048000,
      "rowLimit": 10000
     },
     "inputWidgets": {},
     "nuid": "f22f9323-8dbe-4241-9a86-9146f4b35dfb",
     "showTitle": false,
     "tableResultSettingsMap": {},
     "title": ""
    }
   },
   "outputs": [],
   "source": [
    "def calculate_mode_spark(dataframe, group_cols, target_col, output_col_name):\n",
    "    window_spec_count = Window.partitionBy(*group_cols, target_col)\n",
    "\n",
    "    df_counted = dataframe.withColumn(\n",
    "        \"count_target\",\n",
    "        count(target_col).over(window_spec_count)\n",
    "    )\n",
    "\n",
    "    window_spec_rank = Window.partitionBy(*group_cols).orderBy(col(\"count_target\").desc(), col(target_col))\n",
    "\n",
    "    df_mode = df_counted.withColumn(\n",
    "        \"rank_mode\",\n",
    "        row_number().over(window_spec_rank)\n",
    "    ).filter(col(\"rank_mode\") == 1) \\\n",
    "     .select(*group_cols, col(target_col).alias(output_col_name))\n",
    "\n",
    "    return df_mode"
   ]
  },
  {
   "cell_type": "code",
   "execution_count": 0,
   "metadata": {
    "application/vnd.databricks.v1+cell": {
     "cellMetadata": {
      "byteLimit": 2048000,
      "rowLimit": 10000
     },
     "inputWidgets": {},
     "nuid": "d75b74bc-cc66-4f93-b79a-faa86de43ebd",
     "showTitle": false,
     "tableResultSettingsMap": {},
     "title": ""
    }
   },
   "outputs": [],
   "source": [
    "rota_ida_frequente = calculate_mode_spark(\n",
    "    df, [\"fk_contact\"], \"rota_ida\", \"local_partida_ida_local_destino_ida_frequente\"\n",
    ")"
   ]
  },
  {
   "cell_type": "code",
   "execution_count": 0,
   "metadata": {
    "application/vnd.databricks.v1+cell": {
     "cellMetadata": {
      "byteLimit": 2048000,
      "rowLimit": 10000
     },
     "inputWidgets": {},
     "nuid": "6438ca5e-43e6-47d6-86df-be0704ac31bb",
     "showTitle": false,
     "tableResultSettingsMap": {},
     "title": ""
    }
   },
   "outputs": [],
   "source": [
    "rota_volta_frequente = calculate_mode_spark(\n",
    "    df.filter(col(\"rota_volta\").isNotNull()),\n",
    "    [\"fk_contact\"], \"rota_volta\", \"local_partida_volta_local_destino_volta_frequente\"\n",
    ")"
   ]
  },
  {
   "cell_type": "code",
   "execution_count": 0,
   "metadata": {
    "application/vnd.databricks.v1+cell": {
     "cellMetadata": {
      "byteLimit": 2048000,
      "rowLimit": 10000
     },
     "inputWidgets": {},
     "nuid": "87d88e4a-d5da-448c-9aee-0ab2f114e72e",
     "showTitle": false,
     "tableResultSettingsMap": {},
     "title": ""
    }
   },
   "outputs": [],
   "source": [
    "dia_preferido = calculate_mode_spark(\n",
    "    df, [\"fk_contact\"], \"dia_semana_compra\", \"dia_da_semana_preferido_de_compra\"\n",
    ")"
   ]
  },
  {
   "cell_type": "code",
   "execution_count": 0,
   "metadata": {
    "application/vnd.databricks.v1+cell": {
     "cellMetadata": {
      "byteLimit": 2048000,
      "rowLimit": 10000
     },
     "inputWidgets": {},
     "nuid": "360f77ed-9db3-4489-9ca2-daf80bf9967e",
     "showTitle": false,
     "tableResultSettingsMap": {},
     "title": ""
    }
   },
   "outputs": [],
   "source": [
    "periodo_dia_preferido = calculate_mode_spark(\n",
    "    df, [\"fk_contact\"], \"periodo_do_dia_compra\", \"periodo_do_dia_preferido_para_compra\"\n",
    ")"
   ]
  },
  {
   "cell_type": "code",
   "execution_count": 0,
   "metadata": {
    "application/vnd.databricks.v1+cell": {
     "cellMetadata": {
      "byteLimit": 2048000,
      "rowLimit": 10000
     },
     "inputWidgets": {},
     "nuid": "f817e07f-ac73-4115-8670-4ea140712748",
     "showTitle": false,
     "tableResultSettingsMap": {},
     "title": ""
    }
   },
   "outputs": [],
   "source": [
    "epoca_ano_preferida = calculate_mode_spark(\n",
    "    df, [\"fk_contact\"], \"mes_compra\", \"epoca_do_ano_preferido_da_compra\"\n",
    ")"
   ]
  },
  {
   "cell_type": "code",
   "execution_count": 0,
   "metadata": {
    "application/vnd.databricks.v1+cell": {
     "cellMetadata": {
      "byteLimit": 2048000,
      "rowLimit": 10000
     },
     "inputWidgets": {},
     "nuid": "3c97474e-be57-4be9-8991-387ab326a401",
     "showTitle": false,
     "tableResultSettingsMap": {},
     "title": ""
    }
   },
   "outputs": [],
   "source": [
    "epoca_mes_preferida = calculate_mode_spark(\n",
    "    df, [\"fk_contact\"], \"dia_do_mes_compra\", \"epoca_do_mes_preferido_da_compra\"\n",
    ")"
   ]
  },
  {
   "cell_type": "code",
   "execution_count": 0,
   "metadata": {
    "application/vnd.databricks.v1+cell": {
     "cellMetadata": {
      "byteLimit": 2048000,
      "rowLimit": 10000
     },
     "inputWidgets": {},
     "nuid": "6d3805c9-3318-4e74-a951-d155cfe1f2c4",
     "showTitle": false,
     "tableResultSettingsMap": {},
     "title": ""
    }
   },
   "outputs": [],
   "source": [
    "final_metrics = grouped_metrics_basic \\\n",
    "    .join(rota_ida_frequente, on=[\"fk_contact\"], how=\"left\") \\\n",
    "    .join(rota_volta_frequente, on=[\"fk_contact\"], how=\"left\") \\\n",
    "    .join(dia_preferido, on=[\"fk_contact\"], how=\"left\") \\\n",
    "    .join(periodo_dia_preferido, on=[\"fk_contact\"], how=\"left\") \\\n",
    "    .join(epoca_ano_preferida, on=[\"fk_contact\"], how=\"left\") \\\n",
    "    .join(epoca_mes_preferida, on=[\"fk_contact\"], how=\"left\")"
   ]
  },
  {
   "cell_type": "code",
   "execution_count": 0,
   "metadata": {
    "application/vnd.databricks.v1+cell": {
     "cellMetadata": {
      "byteLimit": 2048000,
      "rowLimit": 10000
     },
     "inputWidgets": {},
     "nuid": "974e01db-947e-4c24-93aa-d587a9e0a8e7",
     "showTitle": false,
     "tableResultSettingsMap": {},
     "title": ""
    }
   },
   "outputs": [],
   "source": [
    "df_final_metrics = final_metrics.withColumn(\n",
    "    \"epoca_do_ano_preferido_da_compra\",\n",
    "    map_mes_udf(col(\"epoca_do_ano_preferido_da_compra\"))\n",
    ")"
   ]
  },
  {
   "cell_type": "code",
   "execution_count": 0,
   "metadata": {
    "application/vnd.databricks.v1+cell": {
     "cellMetadata": {
      "byteLimit": 2048000,
      "rowLimit": 10000
     },
     "inputWidgets": {},
     "nuid": "0e824bef-ca42-45e8-ae93-6858fe97ba72",
     "showTitle": false,
     "tableResultSettingsMap": {},
     "title": ""
    }
   },
   "outputs": [],
   "source": [
    "# Escrita na tabela que será usada nos estudos e desenvolvimentos\n",
    "escrita_tabela(df_final_metrics, tabela_silver)"
   ]
  },
  {
   "cell_type": "code",
   "execution_count": 0,
   "metadata": {
    "application/vnd.databricks.v1+cell": {
     "cellMetadata": {},
     "inputWidgets": {},
     "nuid": "489b432b-e0e9-426e-9e76-0b6f46d33201",
     "showTitle": false,
     "tableResultSettingsMap": {},
     "title": ""
    }
   },
   "outputs": [],
   "source": []
  }
 ],
 "metadata": {
  "application/vnd.databricks.v1+notebook": {
   "computePreferences": null,
   "dashboards": [],
   "environmentMetadata": {
    "base_environment": "",
    "environment_version": "3"
   },
   "inputWidgetPreferences": null,
   "language": "python",
   "notebookMetadata": {
    "mostRecentlyExecutedCommandWithImplicitDF": {
     "commandId": 6258353668765800,
     "dataframes": [
      "_sqldf"
     ]
    },
    "pythonIndentUnit": 4
   },
   "notebookName": "01_tratamento_camada_silver",
   "widgets": {}
  },
  "language_info": {
   "name": "python"
  }
 },
 "nbformat": 4,
 "nbformat_minor": 0
}
