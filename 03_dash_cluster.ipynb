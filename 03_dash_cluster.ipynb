{
 "cells": [
  {
   "cell_type": "markdown",
   "metadata": {
    "application/vnd.databricks.v1+cell": {
     "cellMetadata": {
      "byteLimit": 2048000,
      "rowLimit": 10000
     },
     "inputWidgets": {},
     "nuid": "1806546a-d083-4036-8b35-947a61cd1df7",
     "showTitle": false,
     "tableResultSettingsMap": {},
     "title": ""
    }
   },
   "source": [
    "# Criação das Tabelas para o Dash de Clusters"
   ]
  },
  {
   "cell_type": "markdown",
   "metadata": {
    "application/vnd.databricks.v1+cell": {
     "cellMetadata": {
      "byteLimit": 2048000,
      "rowLimit": 10000
     },
     "inputWidgets": {},
     "nuid": "e4fc9054-aefd-4da8-8559-bc0b0df67924",
     "showTitle": false,
     "tableResultSettingsMap": {},
     "title": ""
    }
   },
   "source": [
    "### Importando as bibliotecas & Carregando os dados\n",
    "---"
   ]
  },
  {
   "cell_type": "code",
   "execution_count": 0,
   "metadata": {
    "application/vnd.databricks.v1+cell": {
     "cellMetadata": {
      "byteLimit": 2048000,
      "rowLimit": 10000
     },
     "inputWidgets": {},
     "nuid": "23c02b5d-e075-47f1-afb5-515693f0181f",
     "showTitle": false,
     "tableResultSettingsMap": {},
     "title": ""
    }
   },
   "outputs": [],
   "source": [
    "from pyspark.sql import SparkSession\n",
    "from pyspark.sql.functions import col, sum, avg, count, row_number, lit, countDistinct, max, when, date_format, dayofweek, month, dayofmonth, hour, concat_ws, round\n",
    "from pyspark.sql.window import Window"
   ]
  },
  {
   "cell_type": "code",
   "execution_count": 0,
   "metadata": {
    "application/vnd.databricks.v1+cell": {
     "cellMetadata": {
      "byteLimit": 2048000,
      "rowLimit": 10000
     },
     "inputWidgets": {},
     "nuid": "d0f34ade-3318-4deb-b1b5-3ac0ed141dd4",
     "showTitle": false,
     "tableResultSettingsMap": {},
     "title": ""
    }
   },
   "outputs": [],
   "source": [
    "tabela_vendas_bronze = \"estudo.default.tvendas_bronze\"\n",
    "tabela_prod_dados_cluster_cli = \"estudo.default.tcluster_cli_gold\"\n",
    "tabela_dash_metricas_geral = \"estudo.default.tcluster_dash_geral_gold\"\n",
    "tabela_temporal_ticket_dia_semana = \"estudo.default.tcluster_dash_temporal_ticket_dia_semana_gold\"\n",
    "tabela_temporal_compras_mes = \"estudo.default.tcluster_dash_temporal_compras_mes_gold\"\n",
    "tabela_temporal_compras_hora = \"estudo.default.tcluster_dash_temporal_compras_hora_gold\"\n",
    "tabela_temporal_compras_estacao = \"estudo.default.tcluster_dash_temporal_compras_estacao_gold\"\n",
    "tabela_temporal_compras_dia = \"estudo.default.tcluster_dash_temporal_compras_dia_gold\"\n",
    "tabela_temporal_compras_rota = \"estudo.default.tcluster_dash_temporal_compras_rota_gold\""
   ]
  },
  {
   "cell_type": "code",
   "execution_count": 0,
   "metadata": {
    "application/vnd.databricks.v1+cell": {
     "cellMetadata": {
      "byteLimit": 2048000,
      "rowLimit": 10000
     },
     "inputWidgets": {},
     "nuid": "e8852d94-8a7a-4e6d-aae7-2765a5f964fb",
     "showTitle": false,
     "tableResultSettingsMap": {},
     "title": ""
    }
   },
   "outputs": [],
   "source": [
    "df_prod_dados_cluster_cli = spark.table(tabela_prod_dados_cluster_cli)\n",
    "df_vendas_bronze = spark.table(tabela_vendas_bronze)"
   ]
  },
  {
   "cell_type": "markdown",
   "metadata": {
    "application/vnd.databricks.v1+cell": {
     "cellMetadata": {
      "byteLimit": 2048000,
      "rowLimit": 10000
     },
     "inputWidgets": {},
     "nuid": "063b0d64-4aa7-4100-a34e-ee94ffc8eae9",
     "showTitle": false,
     "tableResultSettingsMap": {},
     "title": ""
    }
   },
   "source": [
    "### Variáveis gerais\n",
    "---"
   ]
  },
  {
   "cell_type": "code",
   "execution_count": 0,
   "metadata": {
    "application/vnd.databricks.v1+cell": {
     "cellMetadata": {
      "byteLimit": 2048000,
      "rowLimit": 10000
     },
     "inputWidgets": {},
     "nuid": "a3c86fd2-ce51-4b1f-9b28-3fc20a1aa77f",
     "showTitle": false,
     "tableResultSettingsMap": {},
     "title": ""
    }
   },
   "outputs": [],
   "source": [
    "df_agregado_numerico = df_prod_dados_cluster_cli.groupBy(\"ds_cluster\", \"dt_particao\").agg(\n",
    "    count(col(\"fk_contact\")).alias(\"qt_total_cliente\"),\n",
    "    sum(col(\"vl_total\")).alias(\"vl_total_compra\"),\n",
    "    sum(col(\"qt_compra\")).alias(\"qt_total_compra\"),\n",
    "    sum(col(\"qt_total_ticket\")).alias(\"qt_total_ticket_compra\"),\n",
    "    sum(col(\"qt_total_compra_volta\")).alias(\"qt_total_compra_com_volta\")\n",
    ")"
   ]
  },
  {
   "cell_type": "code",
   "execution_count": 0,
   "metadata": {
    "application/vnd.databricks.v1+cell": {
     "cellMetadata": {
      "byteLimit": 2048000,
      "rowLimit": 10000
     },
     "inputWidgets": {},
     "nuid": "83827ad8-2098-49e5-8891-d48668b1d2bb",
     "showTitle": false,
     "tableResultSettingsMap": {},
     "title": ""
    }
   },
   "outputs": [],
   "source": [
    "df_agregado_numerico = df_agregado_numerico.withColumn(\"qt_media_ticket_compra\", round(col(\"qt_total_ticket_compra\") / col(\"qt_total_compra\"), 2)) \\\n",
    "    .withColumn(\"vl_medio_compra\", round(col(\"vl_total_compra\") / col(\"qt_total_compra\"), 2)) \\\n",
    "    .withColumn(\"pc_compra_volta\", round(col(\"qt_total_compra_com_volta\") / col(\"qt_total_compra\") * 100, 2))"
   ]
  },
  {
   "cell_type": "code",
   "execution_count": 0,
   "metadata": {
    "application/vnd.databricks.v1+cell": {
     "cellMetadata": {
      "byteLimit": 2048000,
      "rowLimit": 10000
     },
     "inputWidgets": {},
     "nuid": "66c43f42-dd06-4ab7-b159-296ba8f41177",
     "showTitle": false,
     "tableResultSettingsMap": {},
     "title": ""
    }
   },
   "outputs": [],
   "source": [
    "def calculando_variaveis_preferidas_dash(df, group_col, mode_col_name):\n",
    "    \"\"\"\n",
    "    Calcula a moda (valor mais frequente) para uma coluna dentro de um grupo.\n",
    "    Retorna um DataFrame com a coluna de grupo e a moda.\n",
    "    \"\"\"\n",
    "    df_dia_semana = df.groupBy(group_col, mode_col_name).agg(\n",
    "    sum(col(\"qt_compra\")).alias(\"qt\")\n",
    "    )\n",
    "\n",
    "    window_spec = Window.partitionBy(group_col).orderBy(col(\"qt\").desc())\n",
    "\n",
    "    moda_df = (\n",
    "            df_dia_semana.withColumn(\"rn\", row_number().over(window_spec))\n",
    "            .filter(col(\"rn\") == 1)\n",
    "            .select(group_col, mode_col_name)\n",
    "        )\n",
    "    return moda_df"
   ]
  },
  {
   "cell_type": "code",
   "execution_count": 0,
   "metadata": {
    "application/vnd.databricks.v1+cell": {
     "cellMetadata": {
      "byteLimit": 2048000,
      "rowLimit": 10000
     },
     "inputWidgets": {},
     "nuid": "388eb557-905b-4d54-9963-8887d655a87a",
     "showTitle": false,
     "tableResultSettingsMap": {},
     "title": ""
    }
   },
   "outputs": [],
   "source": [
    "df_dia_semana_preferido = calculando_variaveis_preferidas_dash(df_prod_dados_cluster_cli, \"ds_cluster\", \"ds_dia_semana_preferido\")\n",
    "df_mes_preferido = calculando_variaveis_preferidas_dash(df_prod_dados_cluster_cli, \"ds_cluster\", \"ds_mes_preferido\")\n",
    "df_periodo_dia_preferido = calculando_variaveis_preferidas_dash(df_prod_dados_cluster_cli, \"ds_cluster\", \"nu_hora_preferido\")"
   ]
  },
  {
   "cell_type": "code",
   "execution_count": 0,
   "metadata": {
    "application/vnd.databricks.v1+cell": {
     "cellMetadata": {
      "byteLimit": 2048000,
      "rowLimit": 10000
     },
     "inputWidgets": {},
     "nuid": "8b3df830-882b-41a3-ab4e-62c548ff9706",
     "showTitle": false,
     "tableResultSettingsMap": {},
     "title": ""
    }
   },
   "outputs": [],
   "source": [
    "df_join_metricas_gerais = df_agregado_numerico \\\n",
    "    .join(df_dia_semana_preferido, on=[\"ds_cluster\"], how=\"left\") \\\n",
    "    .join(df_mes_preferido, on=[\"ds_cluster\"], how=\"left\") \\\n",
    "    .join(df_periodo_dia_preferido, on=[\"ds_cluster\"], how=\"left\")"
   ]
  },
  {
   "cell_type": "code",
   "execution_count": 0,
   "metadata": {
    "application/vnd.databricks.v1+cell": {
     "cellMetadata": {
      "byteLimit": 2048000,
      "rowLimit": 10000
     },
     "inputWidgets": {},
     "nuid": "7bbaa86e-d887-4bdc-a176-ea0e208594aa",
     "showTitle": false,
     "tableResultSettingsMap": {},
     "title": ""
    }
   },
   "outputs": [],
   "source": [
    "df_join_metricas_gerais = (df_join_metricas_gerais\n",
    "                          .withColumn(\"ds_periodo_dia_preferido\", when((col(\"nu_hora_preferido\") >= 0) & (col(\"nu_hora_preferido\") <= 5), \"Madrugada\")\n",
    "                                      .when((col(\"nu_hora_preferido\") >= 6) & (col(\"nu_hora_preferido\") <= 11), \"Manhã\")\n",
    "                                      .when((col(\"nu_hora_preferido\") >= 12) & (col(\"nu_hora_preferido\") <= 17), \"Tarde\")\n",
    "                                      .otherwise(\"Noite\").alias(\"ds_periodo_dia_preferido\")).drop(\"nu_hora_preferido\"))"
   ]
  },
  {
   "cell_type": "markdown",
   "metadata": {
    "application/vnd.databricks.v1+cell": {
     "cellMetadata": {
      "byteLimit": 2048000,
      "rowLimit": 10000
     },
     "inputWidgets": {},
     "nuid": "cee2d008-16bd-4476-b756-ba93f307c4de",
     "showTitle": false,
     "tableResultSettingsMap": {},
     "title": ""
    }
   },
   "source": [
    "#### Escrita na tabela relacional geral\n",
    "---"
   ]
  },
  {
   "cell_type": "code",
   "execution_count": 0,
   "metadata": {
    "application/vnd.databricks.v1+cell": {
     "cellMetadata": {
      "byteLimit": 2048000,
      "rowLimit": 10000
     },
     "inputWidgets": {},
     "nuid": "29b4c840-5034-479a-b650-11879a328c7d",
     "showTitle": false,
     "tableResultSettingsMap": {},
     "title": ""
    }
   },
   "outputs": [],
   "source": [
    "df_join_metricas_gerais.write.mode(\"overwrite\").saveAsTable(tabela_dash_metricas_geral)"
   ]
  },
  {
   "cell_type": "markdown",
   "metadata": {
    "application/vnd.databricks.v1+cell": {
     "cellMetadata": {
      "byteLimit": 2048000,
      "rowLimit": 10000
     },
     "inputWidgets": {},
     "nuid": "c416b4a1-fe67-460f-b412-018d02c908e7",
     "showTitle": false,
     "tableResultSettingsMap": {},
     "title": ""
    }
   },
   "source": [
    "### Variáveis temporais\n",
    "---"
   ]
  },
  {
   "cell_type": "code",
   "execution_count": 0,
   "metadata": {
    "application/vnd.databricks.v1+cell": {
     "cellMetadata": {
      "byteLimit": 2048000,
      "rowLimit": 10000
     },
     "inputWidgets": {},
     "nuid": "de575762-0096-4b5b-9756-a18888a768bb",
     "showTitle": false,
     "tableResultSettingsMap": {},
     "title": ""
    }
   },
   "outputs": [],
   "source": [
    "df_join = df_vendas_bronze.alias(\"bronze\") \\\n",
    "    .join(df_prod_dados_cluster_cli.alias(\"prod\"), on=[\"fk_contact\"], how=\"left\").select(\"bronze.*\", \"prod.ds_cluster\")"
   ]
  },
  {
   "cell_type": "code",
   "execution_count": 0,
   "metadata": {
    "application/vnd.databricks.v1+cell": {
     "cellMetadata": {
      "byteLimit": 2048000,
      "rowLimit": 10000
     },
     "inputWidgets": {},
     "nuid": "b0a4fc75-10fa-4c9f-ac30-9183802a3a0b",
     "showTitle": false,
     "tableResultSettingsMap": {},
     "title": ""
    }
   },
   "outputs": [],
   "source": [
    "df_enriquecido = df_join.withColumn(\"ano_mes_compra\", date_format(col(\"date_purchase\"), \"yyyy-MM\")) \\\n",
    "    .withColumn(\"ano_compra\", date_format(col(\"date_purchase\"), \"yyyy\")) \\\n",
    "    .withColumn(\"ds_mes_compra\", month(col(\"date_purchase\"))) \\\n",
    "    .withColumn(\"nu_dia_compra\", dayofmonth(col(\"date_purchase\"))) \\\n",
    "    .withColumn(\"ds_dia_semana_compra\", dayofweek(col(\"date_purchase\"))) \\\n",
    "    .withColumn(\"nu_hora_compra\", hour(col(\"time_purchase\"))) \\\n",
    "    .withColumn(\n",
    "    \"ds_estacao_do_ano\",\n",
    "        when((month(col(\"date_purchase\")) == 12) & (dayofmonth(col(\"date_purchase\")) >= 21) | \\\n",
    "            (month(col(\"date_purchase\")) == 1) | \\\n",
    "            (month(col(\"date_purchase\")) == 2) | \\\n",
    "            (month(col(\"date_purchase\")) == 3) & (dayofmonth(col(\"date_purchase\")) < 20), \"Verão\")\n",
    "        .when((month(col(\"date_purchase\")) == 3) & (dayofmonth(col(\"date_purchase\")) >= 20) | \\\n",
    "            (month(col(\"date_purchase\")) == 4) | \\\n",
    "            (month(col(\"date_purchase\")) == 5) | \\\n",
    "            (month(col(\"date_purchase\")) == 6) & (dayofmonth(col(\"date_purchase\")) < 20), \"Outono\")\n",
    "        .when((month(col(\"date_purchase\")) == 6) & (dayofmonth(col(\"date_purchase\")) >= 20) | \\\n",
    "            (month(col(\"date_purchase\")) == 7) | \\\n",
    "            (month(col(\"date_purchase\")) == 8) | \\\n",
    "            (month(col(\"date_purchase\")) == 9) & (dayofmonth(col(\"date_purchase\")) < 22), \"Inverno\")\n",
    "        .when((month(col(\"date_purchase\")) == 9) & (dayofmonth(col(\"date_purchase\")) >= 22) | \\\n",
    "            (month(col(\"date_purchase\")) == 10) | \\\n",
    "            (month(col(\"date_purchase\")) == 11) | \\\n",
    "            (month(col(\"date_purchase\")) == 12) & (dayofmonth(col(\"date_purchase\")) < 21), \"Primavera\")\n",
    "        .otherwise(\"Não Definido\")\n",
    "    ) \\\n",
    "    .withColumn(\"ds_rota_ida\", concat_ws(\" -> \", col(\"place_origin_departure\"), col(\"place_destination_departure\")))"
   ]
  },
  {
   "cell_type": "code",
   "execution_count": 0,
   "metadata": {
    "application/vnd.databricks.v1+cell": {
     "cellMetadata": {
      "byteLimit": 2048000,
      "rowLimit": 10000
     },
     "inputWidgets": {},
     "nuid": "9c6ef44e-e70a-479b-89ab-50ab6daf3b8a",
     "showTitle": false,
     "tableResultSettingsMap": {},
     "title": ""
    }
   },
   "outputs": [],
   "source": [
    "df_tratado = df_enriquecido.withColumn(\"ds_dia_semana_compra\", when(col(\"ds_dia_semana_compra\") == 1, 'Dom')\n",
    "                .when(col(\"ds_dia_semana_compra\") == 2, 'Seg')\n",
    "                .when(col(\"ds_dia_semana_compra\") == 3, 'Ter')\n",
    "                .when(col(\"ds_dia_semana_compra\") == 4, 'Qua')\n",
    "                .when(col(\"ds_dia_semana_compra\") == 5, 'Qui')\n",
    "                .when(col(\"ds_dia_semana_compra\") == 6, 'Sex')\n",
    "                .when(col(\"ds_dia_semana_compra\") == 7, 'Sab')) \\\n",
    "            .withColumn(\"ds_mes_compra\", when(col(\"ds_mes_compra\") == 1, 'Jan')\n",
    "            .when(col(\"ds_mes_compra\") == 2, 'Fev')\n",
    "            .when(col(\"ds_mes_compra\") == 3, 'Mar')\n",
    "            .when(col(\"ds_mes_compra\") == 4, 'Abr')\n",
    "            .when(col(\"ds_mes_compra\") == 5, 'Mai')\n",
    "            .when(col(\"ds_mes_compra\") == 6, 'Jun')\n",
    "            .when(col(\"ds_mes_compra\") == 7, 'Jul')\n",
    "            .when(col(\"ds_mes_compra\") == 8, 'Ago')\n",
    "            .when(col(\"ds_mes_compra\") == 9, 'Set')\n",
    "            .when(col(\"ds_mes_compra\") == 10, 'Out')\n",
    "            .when(col(\"ds_mes_compra\") == 11, 'Nov')\n",
    "            .when(col(\"ds_mes_compra\") == 12, 'Dez'))"
   ]
  },
  {
   "cell_type": "code",
   "execution_count": 0,
   "metadata": {
    "application/vnd.databricks.v1+cell": {
     "cellMetadata": {
      "byteLimit": 2048000,
      "rowLimit": 10000
     },
     "inputWidgets": {},
     "nuid": "89d6a956-9b02-49bc-bf51-079145dee5f4",
     "showTitle": false,
     "tableResultSettingsMap": {},
     "title": ""
    }
   },
   "outputs": [],
   "source": [
    "df_tickets_dia_semana = df_tratado.groupBy(\"ds_cluster\", \"ds_dia_semana_compra\").agg(\n",
    "    sum(\"total_tickets_quantity_success\").alias(\"qt_total_ticket_dia_semana\")\n",
    "    )\n",
    "\n",
    "df_compras_mes = df_tratado.groupBy(\"ds_cluster\", \"ds_mes_compra\").agg(\n",
    "    sum(\"gmv_success\").alias(\"gmv_success_total_mes\"),\n",
    "    count(\"nk_ota_localizer_id\").alias(\"qt_total_compra_mes\")\n",
    "    ).withColumn(\"vl_medio_compra_mes\", round(col(\"gmv_success_total_mes\") / col(\"qt_total_compra_mes\"), 2)) \\\n",
    "    .drop(\"gmv_success_total_mes\")\n",
    "\n",
    "df_compras_hora = df_tratado.groupBy(\"ds_cluster\", \"nu_hora_compra\").agg(count(\"nk_ota_localizer_id\").alias(\"qt_total_compra_hora\"))\n",
    "\n",
    "df_compras_estacao = df_tratado.groupBy(\"ds_cluster\", \"ds_estacao_do_ano\").agg(count(\"nk_ota_localizer_id\").alias(\"qt_total_compra_estacao\"))\n",
    "\n",
    "df_compras_dia = df_tratado.groupBy(\"ds_cluster\", \"nu_dia_compra\").agg(count(\"nk_ota_localizer_id\").alias(\"qt_total_compra_dia\"))\n",
    "\n",
    "df_compras_rota = df_tratado.groupBy(\"ds_cluster\", \"ds_rota_ida\").agg(count(\"nk_ota_localizer_id\").alias(\"qt_total_compra_rota\"))"
   ]
  },
  {
   "cell_type": "markdown",
   "metadata": {
    "application/vnd.databricks.v1+cell": {
     "cellMetadata": {
      "byteLimit": 2048000,
      "rowLimit": 10000
     },
     "inputWidgets": {},
     "nuid": "254ea6a0-88c5-45a3-9cf7-73b2110336df",
     "showTitle": false,
     "tableResultSettingsMap": {},
     "title": ""
    }
   },
   "source": [
    "#### Escrita nas tabelas relacionais temporais\n",
    "---"
   ]
  },
  {
   "cell_type": "code",
   "execution_count": 0,
   "metadata": {
    "application/vnd.databricks.v1+cell": {
     "cellMetadata": {
      "byteLimit": 2048000,
      "rowLimit": 10000
     },
     "inputWidgets": {},
     "nuid": "cd8754ff-247a-4a0e-a4bb-49a2c288d0bd",
     "showTitle": false,
     "tableResultSettingsMap": {},
     "title": ""
    }
   },
   "outputs": [],
   "source": [
    "df_tickets_dia_semana.write.mode(\"overwrite\").saveAsTable(tabela_temporal_ticket_dia_semana)\n",
    "\n",
    "df_compras_mes.write.mode(\"overwrite\").saveAsTable(tabela_temporal_compras_mes)\n",
    "\n",
    "df_compras_hora.write.mode(\"overwrite\").saveAsTable(tabela_temporal_compras_hora)\n",
    "\n",
    "df_compras_estacao.write.mode(\"overwrite\").saveAsTable(tabela_temporal_compras_estacao)\n",
    "\n",
    "df_compras_dia.write.mode(\"overwrite\").saveAsTable(tabela_temporal_compras_dia)\n",
    "\n",
    "df_compras_rota.write.mode(\"overwrite\").saveAsTable(tabela_temporal_compras_rota)"
   ]
  },
  {
   "cell_type": "code",
   "execution_count": 0,
   "metadata": {
    "application/vnd.databricks.v1+cell": {
     "cellMetadata": {
      "byteLimit": 2048000,
      "rowLimit": 10000
     },
     "inputWidgets": {},
     "nuid": "c5c28dab-035c-4bf7-8ede-6bb45a264476",
     "showTitle": false,
     "tableResultSettingsMap": {},
     "title": ""
    }
   },
   "outputs": [],
   "source": []
  }
 ],
 "metadata": {
  "application/vnd.databricks.v1+notebook": {
   "computePreferences": {
    "hardware": {
     "accelerator": null,
     "gpuPoolId": null,
     "memory": null
    }
   },
   "dashboards": [],
   "environmentMetadata": {
    "base_environment": "",
    "environment_version": "3"
   },
   "inputWidgetPreferences": null,
   "language": "python",
   "notebookMetadata": {
    "mostRecentlyExecutedCommandWithImplicitDF": {
     "commandId": 6258353668765800,
     "dataframes": [
      "_sqldf"
     ]
    },
    "pythonIndentUnit": 4
   },
   "notebookName": "03_dash_cluster",
   "widgets": {}
  },
  "language_info": {
   "name": "python"
  }
 },
 "nbformat": 4,
 "nbformat_minor": 0
}
