{
 "cells": [
  {
   "cell_type": "code",
   "execution_count": 0,
   "metadata": {
    "application/vnd.databricks.v1+cell": {
     "cellMetadata": {
      "byteLimit": 2048000,
      "rowLimit": 10000
     },
     "inputWidgets": {},
     "nuid": "23c02b5d-e075-47f1-afb5-515693f0181f",
     "showTitle": false,
     "tableResultSettingsMap": {},
     "title": ""
    }
   },
   "outputs": [],
   "source": [
    "import pyspark.sql.functions as F\n",
    "from pyspark.sql.window import Window\n",
    "from pyspark.sql.types import StringType, IntegerType, DoubleType, TimestampType\n",
    "import random\n",
    "from datetime import datetime, timedelta\n",
    "from pyspark.sql import SparkSession"
   ]
  },
  {
   "cell_type": "code",
   "execution_count": 0,
   "metadata": {
    "application/vnd.databricks.v1+cell": {
     "cellMetadata": {
      "byteLimit": 2048000,
      "rowLimit": 10000
     },
     "inputWidgets": {},
     "nuid": "d48dd795-21e2-4fc5-a348-06c687e3434e",
     "showTitle": false,
     "tableResultSettingsMap": {},
     "title": ""
    }
   },
   "outputs": [],
   "source": [
    "df_origem = spark.table(\"estudo.default.df_t\")"
   ]
  },
  {
   "cell_type": "code",
   "execution_count": 0,
   "metadata": {
    "application/vnd.databricks.v1+cell": {
     "cellMetadata": {
      "byteLimit": 2048000,
      "rowLimit": 10000
     },
     "inputWidgets": {},
     "nuid": "5a058ecc-d305-49ee-8589-70924f5df9e1",
     "showTitle": false,
     "tableResultSettingsMap": {},
     "title": ""
    }
   },
   "outputs": [],
   "source": [
    "df_cluster = spark.table(\"estudo.default.tuser_clustering\")"
   ]
  },
  {
   "cell_type": "code",
   "execution_count": 0,
   "metadata": {
    "application/vnd.databricks.v1+cell": {
     "cellMetadata": {
      "byteLimit": 2048000,
      "rowLimit": 10000
     },
     "inputWidgets": {},
     "nuid": "3481471a-c5ed-4aae-920b-478212787e1e",
     "showTitle": false,
     "tableResultSettingsMap": {},
     "title": ""
    }
   },
   "outputs": [],
   "source": [
    "df = df_origem.withColumn(\"date_purchase_dt\", F.col(\"date_purchase\").cast(\"date\")) \\\n",
    "    .withColumn(\"ano_mes_compra\", F.date_format(F.col(\"date_purchase_dt\"), \"yyyy-MM\")) \\\n",
    "    .withColumn(\"hora_do_dia_compra\", F.hour(F.col(\"time_purchase\")))"
   ]
  },
  {
   "cell_type": "code",
   "execution_count": 0,
   "metadata": {
    "application/vnd.databricks.v1+cell": {
     "cellMetadata": {
      "byteLimit": 2048000,
      "rowLimit": 10000
     },
     "inputWidgets": {},
     "nuid": "cd876842-ffaa-46b0-a029-729ced4926fd",
     "showTitle": false,
     "tableResultSettingsMap": {},
     "title": ""
    }
   },
   "outputs": [],
   "source": [
    "dias_semana_num = {\n",
    "    1: 'Domingo', 2: 'Segunda', 3: 'Terça', 4: 'Quarta',\n",
    "    5: 'Quinta', 6: 'Sexta', 7: 'Sábado'\n",
    "}"
   ]
  },
  {
   "cell_type": "code",
   "execution_count": 0,
   "metadata": {
    "application/vnd.databricks.v1+cell": {
     "cellMetadata": {
      "byteLimit": 2048000,
      "rowLimit": 10000
     },
     "inputWidgets": {},
     "nuid": "42b7364f-7428-4406-b866-42aac6648743",
     "showTitle": false,
     "tableResultSettingsMap": {},
     "title": ""
    }
   },
   "outputs": [],
   "source": [
    "dias_semana_map_udf = F.udf(lambda d: dias_semana_num.get(d, 'Desconhecido'), StringType())\n",
    "df = df.withColumn(\"day_of_week_num\", F.dayofweek(F.col(\"date_purchase_dt\"))) # Extrai número do dia da semana\n",
    "df = df.withColumn(\"dia_semana_compra\", dias_semana_map_udf(F.col(\"day_of_week_num\")))"
   ]
  },
  {
   "cell_type": "code",
   "execution_count": 0,
   "metadata": {
    "application/vnd.databricks.v1+cell": {
     "cellMetadata": {
      "byteLimit": 2048000,
      "rowLimit": 10000
     },
     "inputWidgets": {},
     "nuid": "2edb7e8e-a14c-4abd-b545-adcbb39b41fb",
     "showTitle": false,
     "tableResultSettingsMap": {},
     "title": ""
    }
   },
   "outputs": [],
   "source": [
    "df = df.withColumn(\"rota_ida\", F.concat_ws(\" -> \", F.col(\"place_origin_departure\"), F.col(\"place_destination_departure\")))"
   ]
  },
  {
   "cell_type": "code",
   "execution_count": 0,
   "metadata": {
    "application/vnd.databricks.v1+cell": {
     "cellMetadata": {
      "byteLimit": 2048000,
      "rowLimit": 10000
     },
     "inputWidgets": {},
     "nuid": "839b3d58-f8db-426a-afd8-cc490567f52f",
     "showTitle": false,
     "tableResultSettingsMap": {},
     "title": ""
    }
   },
   "outputs": [],
   "source": [
    "df = df.withColumn(\"rota_volta\",\n",
    "                   F.when(F.col(\"place_origin_return\") != '0',\n",
    "                        F.concat_ws(\" -> \", F.col(\"place_origin_return\"), F.col(\"place_destination_return\")))\n",
    "                   .otherwise(None))"
   ]
  },
  {
   "cell_type": "code",
   "execution_count": 0,
   "metadata": {
    "application/vnd.databricks.v1+cell": {
     "cellMetadata": {
      "byteLimit": 2048000,
      "rowLimit": 10000
     },
     "inputWidgets": {},
     "nuid": "57eba698-1ba4-4b1c-817e-d6f9f4959cb7",
     "showTitle": false,
     "tableResultSettingsMap": {},
     "title": ""
    }
   },
   "outputs": [],
   "source": [
    "df = df.withColumn(\"mes_compra\", F.month(F.col(\"date_purchase_dt\"))) \\\n",
    "       .withColumn(\"dia_do_mes_compra\", F.dayofmonth(F.col(\"date_purchase_dt\")))"
   ]
  },
  {
   "cell_type": "code",
   "execution_count": 0,
   "metadata": {
    "application/vnd.databricks.v1+cell": {
     "cellMetadata": {
      "byteLimit": 2048000,
      "rowLimit": 10000
     },
     "inputWidgets": {},
     "nuid": "dd33a6d2-7f90-4572-bb9a-74b21835acd1",
     "showTitle": false,
     "tableResultSettingsMap": {},
     "title": ""
    }
   },
   "outputs": [],
   "source": [
    "df = df.withColumn(\"periodo_do_dia_compra\",\n",
    "                   F.when((F.col(\"hora_do_dia_compra\") >= 0) & (F.col(\"hora_do_dia_compra\") <= 5), \"Madrugada\")\n",
    "                   .when((F.col(\"hora_do_dia_compra\") >= 6) & (F.col(\"hora_do_dia_compra\") <= 11), \"Manhã\")\n",
    "                   .when((F.col(\"hora_do_dia_compra\") >= 12) & (F.col(\"hora_do_dia_compra\") <= 17), \"Tarde\")\n",
    "                   .otherwise(\"Noite\"))"
   ]
  },
  {
   "cell_type": "code",
   "execution_count": 0,
   "metadata": {
    "application/vnd.databricks.v1+cell": {
     "cellMetadata": {
      "byteLimit": 2048000,
      "rowLimit": 10000
     },
     "inputWidgets": {},
     "nuid": "b6866c5b-53f6-4d30-b4a2-92a146f7f9e4",
     "showTitle": false,
     "tableResultSettingsMap": {},
     "title": ""
    }
   },
   "outputs": [],
   "source": [
    "meses_map = {\n",
    "    1: 'Janeiro', 2: 'Fevereiro', 3: 'Março', 4: 'Abril',\n",
    "    5: 'Maio', 6: 'Junho', 7: 'Julho', 8: 'Agosto',\n",
    "    9: 'Setembro', 10: 'Outubro', 11: 'Novembro', 12: 'Dezembro'\n",
    "}"
   ]
  },
  {
   "cell_type": "code",
   "execution_count": 0,
   "metadata": {
    "application/vnd.databricks.v1+cell": {
     "cellMetadata": {
      "byteLimit": 2048000,
      "rowLimit": 10000
     },
     "inputWidgets": {},
     "nuid": "64741ee6-660f-42da-95b5-9ab59aa7e2da",
     "showTitle": false,
     "tableResultSettingsMap": {},
     "title": ""
    }
   },
   "outputs": [],
   "source": [
    "map_mes_udf = F.udf(lambda m: meses_map.get(m, 'Não definido'), StringType())"
   ]
  },
  {
   "cell_type": "code",
   "execution_count": 0,
   "metadata": {
    "application/vnd.databricks.v1+cell": {
     "cellMetadata": {
      "byteLimit": 2048000,
      "rowLimit": 10000
     },
     "inputWidgets": {},
     "nuid": "489598e6-8231-4b15-8374-859993f996ae",
     "showTitle": false,
     "tableResultSettingsMap": {},
     "title": ""
    }
   },
   "outputs": [],
   "source": [
    "grouped_metrics_basic = df.groupBy(\"fk_contact\").agg(\n",
    "    F.count(F.col(\"nk_ota_localizer_id\")).alias(\"total_compras\"),\n",
    "    F.avg(F.col(\"gmv_success\")).alias(\"valor_medio_compra\"),\n",
    "    F.sum(F.col(\"total_tickets_quantity_success\")).alias(\"total_tickets_compras\"),\n",
    "    F.sum(F.when(F.col(\"rota_volta\").isNotNull(), 1).otherwise(0)).alias(\"total_compras_com_volta\")\n",
    ")"
   ]
  },
  {
   "cell_type": "code",
   "execution_count": 0,
   "metadata": {
    "application/vnd.databricks.v1+cell": {
     "cellMetadata": {
      "byteLimit": 2048000,
      "rowLimit": 10000
     },
     "inputWidgets": {},
     "nuid": "cea74c35-e9b7-482c-bfa5-b9a907c2776b",
     "showTitle": false,
     "tableResultSettingsMap": {},
     "title": ""
    }
   },
   "outputs": [],
   "source": [
    "grouped_metrics_basic.display()"
   ]
  },
  {
   "cell_type": "code",
   "execution_count": 0,
   "metadata": {
    "application/vnd.databricks.v1+cell": {
     "cellMetadata": {
      "byteLimit": 2048000,
      "rowLimit": 10000
     },
     "inputWidgets": {},
     "nuid": "a710531d-defc-4846-9449-02e35fa86774",
     "showTitle": false,
     "tableResultSettingsMap": {},
     "title": ""
    }
   },
   "outputs": [],
   "source": [
    "def calculate_mode_spark(dataframe, group_cols, target_col, output_col_name):\n",
    "    window_spec_count = Window.partitionBy(*group_cols, target_col)\n",
    "\n",
    "    df_counted = dataframe.withColumn(\n",
    "        \"count_target\",\n",
    "        F.count(target_col).over(window_spec_count)\n",
    "    )\n",
    "\n",
    "    window_spec_rank = Window.partitionBy(*group_cols).orderBy(F.col(\"count_target\").desc(), F.col(target_col))\n",
    "\n",
    "    df_mode = df_counted.withColumn(\n",
    "        \"rank_mode\",\n",
    "        F.row_number().over(window_spec_rank)\n",
    "    ).filter(F.col(\"rank_mode\") == 1) \\\n",
    "     .select(*group_cols, F.col(target_col).alias(output_col_name))\n",
    "\n",
    "    return df_mode"
   ]
  },
  {
   "cell_type": "code",
   "execution_count": 0,
   "metadata": {
    "application/vnd.databricks.v1+cell": {
     "cellMetadata": {
      "byteLimit": 2048000,
      "rowLimit": 10000
     },
     "inputWidgets": {},
     "nuid": "466b8e3a-0620-4498-a637-3edbe92998b5",
     "showTitle": false,
     "tableResultSettingsMap": {},
     "title": ""
    }
   },
   "outputs": [],
   "source": [
    "rota_ida_frequente = calculate_mode_spark(\n",
    "    df, [\"fk_contact\"], \"rota_ida\", \"local_partida_ida_local_destino_ida_frequente\"\n",
    ")"
   ]
  },
  {
   "cell_type": "code",
   "execution_count": 0,
   "metadata": {
    "application/vnd.databricks.v1+cell": {
     "cellMetadata": {
      "byteLimit": 2048000,
      "rowLimit": 10000
     },
     "inputWidgets": {},
     "nuid": "a8d1e865-6cb4-4b91-a474-9959c51d7e67",
     "showTitle": false,
     "tableResultSettingsMap": {},
     "title": ""
    }
   },
   "outputs": [],
   "source": [
    "rota_volta_frequente = calculate_mode_spark(\n",
    "    df.filter(F.col(\"rota_volta\").isNotNull()),\n",
    "    [\"fk_contact\"], \"rota_volta\", \"local_partida_volta_local_destino_volta_frequente\"\n",
    ")"
   ]
  },
  {
   "cell_type": "code",
   "execution_count": 0,
   "metadata": {
    "application/vnd.databricks.v1+cell": {
     "cellMetadata": {
      "byteLimit": 2048000,
      "rowLimit": 10000
     },
     "inputWidgets": {},
     "nuid": "54f8ff70-6d62-46bb-8415-e806b7f04c78",
     "showTitle": false,
     "tableResultSettingsMap": {},
     "title": ""
    }
   },
   "outputs": [],
   "source": [
    "dia_preferido = calculate_mode_spark(\n",
    "    df, [\"fk_contact\"], \"dia_semana_compra\", \"dia_da_semana_preferido_de_compra\"\n",
    ")"
   ]
  },
  {
   "cell_type": "code",
   "execution_count": 0,
   "metadata": {
    "application/vnd.databricks.v1+cell": {
     "cellMetadata": {
      "byteLimit": 2048000,
      "rowLimit": 10000
     },
     "inputWidgets": {},
     "nuid": "c2278422-44ad-478d-b022-473f11b4649f",
     "showTitle": false,
     "tableResultSettingsMap": {},
     "title": ""
    }
   },
   "outputs": [],
   "source": [
    "periodo_dia_preferido = calculate_mode_spark(\n",
    "    df, [\"fk_contact\"], \"periodo_do_dia_compra\", \"periodo_do_dia_preferido_para_compra\"\n",
    ")"
   ]
  },
  {
   "cell_type": "code",
   "execution_count": 0,
   "metadata": {
    "application/vnd.databricks.v1+cell": {
     "cellMetadata": {
      "byteLimit": 2048000,
      "rowLimit": 10000
     },
     "inputWidgets": {},
     "nuid": "aeb42eba-a334-4761-8620-4986ea0630b3",
     "showTitle": false,
     "tableResultSettingsMap": {},
     "title": ""
    }
   },
   "outputs": [],
   "source": [
    "epoca_ano_preferida = calculate_mode_spark(\n",
    "    df, [\"fk_contact\"], \"mes_compra\", \"epoca_do_ano_preferido_da_compra\"\n",
    ")"
   ]
  },
  {
   "cell_type": "code",
   "execution_count": 0,
   "metadata": {
    "application/vnd.databricks.v1+cell": {
     "cellMetadata": {
      "byteLimit": 2048000,
      "rowLimit": 10000
     },
     "inputWidgets": {},
     "nuid": "5d1ae2f6-86b9-46b0-b817-2989c40ab198",
     "showTitle": false,
     "tableResultSettingsMap": {},
     "title": ""
    }
   },
   "outputs": [],
   "source": [
    "epoca_mes_preferida = calculate_mode_spark(\n",
    "    df, [\"fk_contact\"], \"dia_do_mes_compra\", \"epoca_do_mes_preferido_da_compra\"\n",
    ")"
   ]
  },
  {
   "cell_type": "code",
   "execution_count": 0,
   "metadata": {
    "application/vnd.databricks.v1+cell": {
     "cellMetadata": {
      "byteLimit": 2048000,
      "rowLimit": 10000
     },
     "inputWidgets": {},
     "nuid": "647d57d2-b334-44dc-afbe-0506318f96bb",
     "showTitle": false,
     "tableResultSettingsMap": {},
     "title": ""
    }
   },
   "outputs": [],
   "source": [
    "final_metrics = grouped_metrics_basic \\\n",
    "    .join(rota_ida_frequente, on=[\"fk_contact\"], how=\"left\") \\\n",
    "    .join(rota_volta_frequente, on=[\"fk_contact\"], how=\"left\") \\\n",
    "    .join(dia_preferido, on=[\"fk_contact\"], how=\"left\") \\\n",
    "    .join(periodo_dia_preferido, on=[\"fk_contact\"], how=\"left\") \\\n",
    "    .join(epoca_ano_preferida, on=[\"fk_contact\"], how=\"left\") \\\n",
    "    .join(epoca_mes_preferida, on=[\"fk_contact\"], how=\"left\")"
   ]
  },
  {
   "cell_type": "code",
   "execution_count": 0,
   "metadata": {
    "application/vnd.databricks.v1+cell": {
     "cellMetadata": {
      "byteLimit": 2048000,
      "rowLimit": 10000
     },
     "inputWidgets": {},
     "nuid": "a4347963-80d1-49ef-872e-e4881addaaf0",
     "showTitle": false,
     "tableResultSettingsMap": {},
     "title": ""
    }
   },
   "outputs": [],
   "source": [
    "final_metrics = final_metrics.withColumn(\n",
    "    \"epoca_do_ano_preferido_da_compra\",\n",
    "    map_mes_udf(F.col(\"epoca_do_ano_preferido_da_compra\"))\n",
    ")"
   ]
  },
  {
   "cell_type": "code",
   "execution_count": 0,
   "metadata": {
    "application/vnd.databricks.v1+cell": {
     "cellMetadata": {
      "byteLimit": 2048000,
      "rowLimit": 10000
     },
     "inputWidgets": {},
     "nuid": "17aa3489-8754-4155-a7c8-2c2b3f9f3efd",
     "showTitle": false,
     "tableResultSettingsMap": {},
     "title": ""
    }
   },
   "outputs": [],
   "source": [
    "final_metrics.filter(F.col('fk_contact') == 'cbae228abf4b9f465f42d8d6f97a83f2b76c077aea36c3b7303915796cf3dac3').display()"
   ]
  },
  {
   "cell_type": "code",
   "execution_count": 0,
   "metadata": {
    "application/vnd.databricks.v1+cell": {
     "cellMetadata": {
      "byteLimit": 2048000,
      "rowLimit": 10000
     },
     "inputWidgets": {},
     "nuid": "3a9e8990-8cd0-47df-9d71-9dca017e4a58",
     "showTitle": false,
     "tableResultSettingsMap": {},
     "title": ""
    }
   },
   "outputs": [],
   "source": [
    "df_join = final_metrics \\\n",
    "    .join(df_cluster, on=[\"fk_contact\"], how=\"left\")"
   ]
  },
  {
   "cell_type": "code",
   "execution_count": 0,
   "metadata": {
    "application/vnd.databricks.v1+cell": {
     "cellMetadata": {
      "byteLimit": 2048000,
      "rowLimit": 10000
     },
     "inputWidgets": {},
     "nuid": "70ae9d75-d7b4-4af9-85b0-7b37dac07c01",
     "showTitle": false,
     "tableResultSettingsMap": {},
     "title": ""
    }
   },
   "outputs": [],
   "source": [
    "df_final = df_join.withColumn(\"media_tickets_por_compra\", F.round(F.col(\"total_tickets_compras\") / F.col(\"total_compras\"), 2)) \\\n",
    "    .withColumn(\"porcentagem_viagens_com_volta\", F.round(F.col(\"total_compras_com_volta\") / F.col(\"total_compras\") * 100, 2)) \\\n",
    "    .select(\n",
    "        \"fk_contact\",\n",
    "        F.col(\"cluster\").alias(\"cd_cluster\"),\n",
    "        F.col(\"segmento_do_cliente\").alias(\"ds_cluster\"),\n",
    "        \"recencia_dias\",\n",
    "        F.round(\"valor_total_gasto\", 2).alias(\"valor_total_gasto\"),\n",
    "        F.round(\"valor_medio_compra\", 2).alias(\"valor_medio_compra\"),\n",
    "        F.col(\"frequencia_de_compras\").alias(\"quantidade_compras\"),\n",
    "        \"total_tickets_compras\",\n",
    "        \"media_tickets_por_compra\",\n",
    "        \"total_compras_com_volta\",\n",
    "        \"porcentagem_viagens_com_volta\",\n",
    "        F.col(\"local_partida_ida_local_destino_ida_frequente\").alias(\"rota_ida_frequente\"),\n",
    "        F.col(\"local_partida_volta_local_destino_volta_frequente\").alias(\"rota_volta_frequente\"),\n",
    "        F.col(\"dia_da_semana_preferido_de_compra\").alias(\"dia_semana_preferido_compra\"),\n",
    "        F.col(\"epoca_do_mes_preferido_da_compra\").alias(\"dia_mes_preferido_compra\"),\n",
    "        F.col(\"periodo_do_dia_preferido_para_compra\").alias(\"periodo_dia_preferido_compra\"),\n",
    "        F.col(\"epoca_do_ano_preferido_da_compra\").alias(\"mes_preferido_compra\")\n",
    "    )"
   ]
  },
  {
   "cell_type": "code",
   "execution_count": 0,
   "metadata": {
    "application/vnd.databricks.v1+cell": {
     "cellMetadata": {
      "byteLimit": 2048000,
      "rowLimit": 10000
     },
     "inputWidgets": {},
     "nuid": "7dac29e5-f60a-439a-a2b3-f5bb4acf0862",
     "showTitle": false,
     "tableResultSettingsMap": {},
     "title": ""
    }
   },
   "outputs": [],
   "source": [
    "df_final.write.mode(\"overwrite\").saveAsTable(\"estudo.default.tperfil_cliente\")"
   ]
  },
  {
   "cell_type": "code",
   "execution_count": 0,
   "metadata": {
    "application/vnd.databricks.v1+cell": {
     "cellMetadata": {
      "byteLimit": 2048000,
      "rowLimit": 10000
     },
     "inputWidgets": {},
     "nuid": "3bc60273-a1d2-44ef-b292-3d220cd9a85f",
     "showTitle": false,
     "tableResultSettingsMap": {},
     "title": ""
    }
   },
   "outputs": [],
   "source": [
    "df_final.filter(F.col('total_compras_com_volta') > 1).display()"
   ]
  },
  {
   "cell_type": "code",
   "execution_count": 0,
   "metadata": {
    "application/vnd.databricks.v1+cell": {
     "cellMetadata": {
      "byteLimit": 2048000,
      "rowLimit": 10000
     },
     "inputWidgets": {},
     "nuid": "b4380a07-1207-4728-af4f-66c5df0d810c",
     "showTitle": false,
     "tableResultSettingsMap": {},
     "title": ""
    }
   },
   "outputs": [],
   "source": [
    "df_final.filter(F.col('fk_contact') == 'cbae228abf4b9f465f42d8d6f97a83f2b76c077aea36c3b7303915796cf3dac3').display()"
   ]
  }
 ],
 "metadata": {
  "application/vnd.databricks.v1+notebook": {
   "computePreferences": null,
   "dashboards": [],
   "environmentMetadata": {
    "base_environment": "",
    "environment_version": "3"
   },
   "inputWidgetPreferences": null,
   "language": "python",
   "notebookMetadata": {
    "mostRecentlyExecutedCommandWithImplicitDF": {
     "commandId": 6258353668765800,
     "dataframes": [
      "_sqldf"
     ]
    },
    "pythonIndentUnit": 4
   },
   "notebookName": "02_produto_dados_cluster",
   "widgets": {}
  },
  "language_info": {
   "name": "python"
  }
 },
 "nbformat": 4,
 "nbformat_minor": 0
}
