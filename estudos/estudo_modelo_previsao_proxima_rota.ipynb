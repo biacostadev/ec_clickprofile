{
 "cells": [
  {
   "cell_type": "code",
   "execution_count": 0,
   "metadata": {
    "application/vnd.databricks.v1+cell": {
     "cellMetadata": {
      "byteLimit": 2048000,
      "rowLimit": 10000
     },
     "inputWidgets": {},
     "nuid": "64056dbf-9cb8-4e84-be82-d699ad87b6d1",
     "showTitle": false,
     "tableResultSettingsMap": {},
     "title": ""
    }
   },
   "outputs": [],
   "source": [
    "!pip install tqdm"
   ]
  },
  {
   "cell_type": "code",
   "execution_count": 0,
   "metadata": {
    "application/vnd.databricks.v1+cell": {
     "cellMetadata": {
      "byteLimit": 2048000,
      "rowLimit": 10000
     },
     "inputWidgets": {},
     "nuid": "cf2323b4-22bd-442a-86e3-b88750d87518",
     "showTitle": false,
     "tableResultSettingsMap": {},
     "title": ""
    }
   },
   "outputs": [],
   "source": [
    "%restart_python"
   ]
  },
  {
   "cell_type": "code",
   "execution_count": 0,
   "metadata": {
    "application/vnd.databricks.v1+cell": {
     "cellMetadata": {
      "byteLimit": 2048000,
      "rowLimit": 10000
     },
     "inputWidgets": {},
     "nuid": "cc2701d1-ea52-4f46-970c-599f6f51f158",
     "showTitle": false,
     "tableResultSettingsMap": {},
     "title": ""
    },
    "colab": {
     "base_uri": "https://localhost:8080/",
     "height": 226
    },
    "id": "ctJ2TdNlVON9",
    "outputId": "14f1d220-a2fd-43eb-977a-7ea80a627df9"
   },
   "outputs": [],
   "source": [
    "import pandas as pd"
   ]
  },
  {
   "cell_type": "code",
   "execution_count": 0,
   "metadata": {
    "application/vnd.databricks.v1+cell": {
     "cellMetadata": {
      "byteLimit": 2048000,
      "rowLimit": 10000
     },
     "inputWidgets": {},
     "nuid": "68ee88bc-3683-46b3-ad1d-3522485d32dc",
     "showTitle": false,
     "tableResultSettingsMap": {},
     "title": ""
    }
   },
   "outputs": [],
   "source": [
    "df = pd.read_csv('/Volumes/estudo/default/ec/df_t.csv')\n",
    "df.head()"
   ]
  },
  {
   "cell_type": "code",
   "execution_count": 0,
   "metadata": {
    "application/vnd.databricks.v1+cell": {
     "cellMetadata": {
      "byteLimit": 2048000,
      "rowLimit": 10000
     },
     "inputWidgets": {},
     "nuid": "050aefce-80d7-43d6-9b06-732c44ac4b1e",
     "showTitle": false,
     "tableResultSettingsMap": {},
     "title": ""
    }
   },
   "outputs": [],
   "source": [
    "tabela_modelo_previsao_rota = \"estudo.default.tprev_rota_silver\""
   ]
  },
  {
   "cell_type": "code",
   "execution_count": 0,
   "metadata": {
    "application/vnd.databricks.v1+cell": {
     "cellMetadata": {
      "byteLimit": 2048000,
      "rowLimit": 10000
     },
     "inputWidgets": {},
     "nuid": "274debc7-e509-414b-8690-2f04637f0fd5",
     "showTitle": false,
     "tableResultSettingsMap": {},
     "title": ""
    },
    "id": "2YgIKkTtVlCr"
   },
   "outputs": [],
   "source": [
    "df['purchase_datetime'] = pd.to_datetime(df['date_purchase'] + ' ' + df['time_purchase'])\n",
    "\n",
    "df.drop(['date_purchase', 'time_purchase'], axis=1, inplace=True)\n",
    "\n",
    "df.sort_values(by='purchase_datetime', inplace=True)"
   ]
  },
  {
   "cell_type": "code",
   "execution_count": 0,
   "metadata": {
    "application/vnd.databricks.v1+cell": {
     "cellMetadata": {
      "byteLimit": 2048000,
      "rowLimit": 10000
     },
     "inputWidgets": {},
     "nuid": "e37ec279-d3a9-4aad-add1-b369acd54aa5",
     "showTitle": false,
     "tableResultSettingsMap": {},
     "title": ""
    },
    "colab": {
     "base_uri": "https://localhost:8080/"
    },
    "id": "0vZQfjGyWU1p",
    "outputId": "71cda4b9-2541-405d-ad16-454798a84262"
   },
   "outputs": [],
   "source": [
    "import numpy as np\n",
    "\n",
    "df.replace('0', np.nan, inplace=True)\n",
    "\n",
    "print(df.isnull().sum())"
   ]
  },
  {
   "cell_type": "code",
   "execution_count": 0,
   "metadata": {
    "application/vnd.databricks.v1+cell": {
     "cellMetadata": {
      "byteLimit": 2048000,
      "rowLimit": 10000
     },
     "inputWidgets": {},
     "nuid": "f6c0d236-b4d4-4546-8105-68728c0aa744",
     "showTitle": false,
     "tableResultSettingsMap": {},
     "title": ""
    },
    "colab": {
     "base_uri": "https://localhost:8080/"
    },
    "id": "2HvKKzjGXZ_i",
    "outputId": "e688026f-57b1-4dc6-c52d-63a1a97c3deb"
   },
   "outputs": [],
   "source": [
    "df['trecho'] = df['place_origin_departure'] + ' -> ' + df['place_destination_departure']\n",
    "\n",
    "print(df[['place_origin_departure', 'place_destination_departure', 'trecho']].head())"
   ]
  },
  {
   "cell_type": "code",
   "execution_count": 0,
   "metadata": {
    "application/vnd.databricks.v1+cell": {
     "cellMetadata": {
      "byteLimit": 2048000,
      "rowLimit": 10000
     },
     "inputWidgets": {},
     "nuid": "56cb58ea-66b5-4b65-a8f5-10aeff072f83",
     "showTitle": false,
     "tableResultSettingsMap": {},
     "title": ""
    },
    "colab": {
     "base_uri": "https://localhost:8080/",
     "height": 369
    },
    "id": "jbRg0U94ZTuV",
    "outputId": "c5eeea39-53c5-47ed-e0d5-32433272bc7c"
   },
   "outputs": [],
   "source": [
    "import matplotlib.pyplot as plt\n",
    "import seaborn as sns\n",
    "\n",
    "top_10_trechos = df['trecho'].value_counts().head(10)\n",
    "\n",
    "plt.figure(figsize=(8, 4))\n",
    "sns.barplot(x=top_10_trechos.values, y=top_10_trechos.index, palette='viridis')\n",
    "plt.title('Top 10 Trechos Mais Populares')\n",
    "plt.xlabel('Número de Vendas')\n",
    "plt.ylabel('Trecho (Origem -> Destino)')\n",
    "plt.show()"
   ]
  },
  {
   "cell_type": "code",
   "execution_count": 0,
   "metadata": {
    "application/vnd.databricks.v1+cell": {
     "cellMetadata": {
      "byteLimit": 2048000,
      "rowLimit": 10000
     },
     "inputWidgets": {},
     "nuid": "d60841f2-6420-4583-bf91-058f41ca81e3",
     "showTitle": false,
     "tableResultSettingsMap": {},
     "title": ""
    },
    "colab": {
     "base_uri": "https://localhost:8080/"
    },
    "id": "HvnURA8Fdpy1",
    "outputId": "16c63643-271a-4439-ed03-5cc66a3ee3e3"
   },
   "outputs": [],
   "source": [
    "top_10_clientes = df['fk_contact'].value_counts().head(10)\n",
    "print(\"Top 10 Clientes Mais Frequentes:\\n\", top_10_clientes)"
   ]
  },
  {
   "cell_type": "code",
   "execution_count": 0,
   "metadata": {
    "application/vnd.databricks.v1+cell": {
     "cellMetadata": {
      "byteLimit": 2048000,
      "rowLimit": 10000
     },
     "inputWidgets": {},
     "nuid": "82179d46-898a-40e3-80b2-deabbf6e3a88",
     "showTitle": false,
     "tableResultSettingsMap": {},
     "title": ""
    },
    "colab": {
     "base_uri": "https://localhost:8080/",
     "height": 565
    },
    "id": "SyVL_x5ieDRZ",
    "outputId": "aa17cb3a-b616-475f-ae25-05b381cee618"
   },
   "outputs": [],
   "source": [
    "compras_por_usuario = df.groupby('fk_contact')['trecho'].count()\n",
    "\n",
    "plt.figure(figsize=(10, 6))\n",
    "sns.histplot(compras_por_usuario, bins=30, kde=True)\n",
    "plt.title('Distribuição de Compras por Usuário')\n",
    "plt.xlabel('Número de Compras')\n",
    "plt.ylabel('Número de Usuários')\n",
    "plt.xlim(0, 20)\n",
    "plt.show()"
   ]
  },
  {
   "cell_type": "code",
   "execution_count": 0,
   "metadata": {
    "application/vnd.databricks.v1+cell": {
     "cellMetadata": {
      "byteLimit": 2048000,
      "rowLimit": 10000
     },
     "inputWidgets": {},
     "nuid": "c5f8c4d9-23b0-4498-a88b-660f1056fd49",
     "showTitle": false,
     "tableResultSettingsMap": {},
     "title": ""
    },
    "colab": {
     "base_uri": "https://localhost:8080/"
    },
    "id": "V2hFrcKLeIKS",
    "outputId": "0a04f6cc-bf57-4630-c73e-95be5e194995"
   },
   "outputs": [],
   "source": [
    "# Definir uma data de corte 80% do tempo para treino, 20% para teste\n",
    "data_corte = df['purchase_datetime'].quantile(0.8, interpolation='nearest')\n",
    "\n",
    "df_treino = df[df['purchase_datetime'] < data_corte]\n",
    "df_teste = df[df['purchase_datetime'] >= data_corte]\n",
    "\n",
    "print(f\"Dados de treino: {df_treino.shape[0]} registros, terminando em {df_treino['purchase_datetime'].max()}\")\n",
    "print(f\"Dados de teste: {df_teste.shape[0]} registros, começando em {df_teste['purchase_datetime'].min()}\")"
   ]
  },
  {
   "cell_type": "code",
   "execution_count": 0,
   "metadata": {
    "application/vnd.databricks.v1+cell": {
     "cellMetadata": {
      "byteLimit": 2048000,
      "rowLimit": 10000
     },
     "inputWidgets": {},
     "nuid": "683f9988-b512-4eb1-942a-dabcf955bfc2",
     "showTitle": false,
     "tableResultSettingsMap": {},
     "title": ""
    },
    "colab": {
     "base_uri": "https://localhost:8080/"
    },
    "id": "JyV2F-srb4x6",
    "outputId": "44e1d6bb-809d-4cd4-e635-b2ae40efda37"
   },
   "outputs": [],
   "source": [
    "recomendacoes_por_cliente_fallback = df_treino.groupby('fk_contact')['trecho'].apply(\n",
    "    lambda x: x.value_counts().head(5).index.tolist()\n",
    ").to_dict()\n",
    "\n",
    "recomendacoes_por_origem = df_treino.groupby('place_origin_departure')['trecho'].apply(\n",
    "    lambda x: x.value_counts().head(5).index.tolist()\n",
    ").to_dict()\n",
    "\n",
    "top_5_trechos_gerais = df_treino['trecho'].value_counts().head(5).index.tolist()\n",
    "\n",
    "\n",
    "# --- Lógica Principal: Baseada no Próximo Trecho Mais Provável ---\n",
    "df_treino_sorted = df_treino.sort_values(by=['fk_contact', 'purchase_datetime'])\n",
    "df_treino_sorted['next_trecho'] = df_treino_sorted.groupby('fk_contact')['trecho'].shift(-1)\n",
    "transitions = df_treino_sorted.dropna(subset=['next_trecho'])\n",
    "next_trecho_populares = transitions.groupby('trecho')['next_trecho'].apply(\n",
    "    lambda x: x.value_counts().head(5).index.tolist()\n",
    ").to_dict()\n",
    "last_trip_per_user = df_treino_sorted.drop_duplicates(subset='fk_contact', keep='last').set_index('fk_contact')['trecho'].to_dict()\n",
    "\n",
    "\n",
    "def gerar_recomendacoes_v3(fk_contact, origin_place=None):\n",
    "    \"\"\"\n",
    "    Gera recomendações com lógica sequencial e fallback contextual por origem para clientes novos.\n",
    "    \"\"\"\n",
    "    if fk_contact in last_trip_per_user:\n",
    "        last_trip = last_trip_per_user[fk_contact]\n",
    "        if last_trip in next_trecho_populares:\n",
    "            return next_trecho_populares[last_trip]\n",
    "\n",
    "    if fk_contact in recomendacoes_por_cliente_fallback:\n",
    "        return recomendacoes_por_cliente_fallback[fk_contact]\n",
    "\n",
    "    if origin_place and origin_place in recomendacoes_por_origem:\n",
    "        return recomendacoes_por_origem[origin_place]\n",
    "\n",
    "    return top_5_trechos_gerais\n",
    "\n",
    "cliente_existente_exemplo = df_treino['fk_contact'].iloc[0]\n",
    "cliente_novo_exemplo = 'cliente_novo_teste_12345'\n",
    "origem_exemplo = df_teste['place_origin_departure'].iloc[0]\n",
    "\n",
    "print(f\"Recomendações para o cliente existente ({cliente_existente_exemplo[:10]}...):\")\n",
    "print(gerar_recomendacoes_v3(cliente_existente_exemplo))\n",
    "print(\"\\n\" + \"=\"*50 + \"\\n\")\n",
    "print(f\"Recomendações para o cliente novo ({cliente_novo_exemplo}) partindo de ({origem_exemplo[:10]}...):\")\n",
    "print(gerar_recomendacoes_v3(cliente_novo_exemplo, origin_place=origem_exemplo))\n"
   ]
  },
  {
   "cell_type": "code",
   "execution_count": 0,
   "metadata": {
    "application/vnd.databricks.v1+cell": {
     "cellMetadata": {
      "byteLimit": 2048000,
      "rowLimit": 10000
     },
     "inputWidgets": {},
     "nuid": "b5d51ea1-2471-43fe-9740-732ce0949671",
     "showTitle": false,
     "tableResultSettingsMap": {},
     "title": ""
    }
   },
   "outputs": [],
   "source": [
    "def calcular_hit_rate(df_teste, func_recomendacao, top_k=5):\n",
    "    \"\"\"\n",
    "    Calcula o Hit Rate @K para um conjunto de dados de teste usando uma função de recomendação.\n",
    "    \"\"\"\n",
    "    import tqdm\n",
    "    \n",
    "    total_compras_teste = len(df_teste)\n",
    "    total_hits = 0\n",
    "    \n",
    "    for _, compra in tqdm.tqdm(df_teste.iterrows(), total=total_compras_teste, desc=\"Avaliando o modelo\"):\n",
    "        fk_contact = compra['fk_contact']\n",
    "        trecho_real = compra['trecho']\n",
    "        origem_real = compra['place_origin_departure']\n",
    "        \n",
    "        recomendacoes = func_recomendacao(fk_contact, origin_place=origem_real)\n",
    "        \n",
    "        if trecho_real in recomendacoes:\n",
    "            total_hits += 1\n",
    "    \n",
    "    hit_rate = (total_hits / total_compras_teste) if total_compras_teste > 0 else 0\n",
    "    \n",
    "    return {\n",
    "        'hit_rate': hit_rate,\n",
    "        'total_hits': total_hits,\n",
    "        'total_registros': total_compras_teste\n",
    "    }\n"
   ]
  },
  {
   "cell_type": "code",
   "execution_count": 0,
   "metadata": {
    "application/vnd.databricks.v1+cell": {
     "cellMetadata": {
      "byteLimit": 2048000,
      "rowLimit": 10000
     },
     "inputWidgets": {},
     "nuid": "c10d8bab-1ccb-42fe-a92f-775bb1f5d5f6",
     "showTitle": false,
     "tableResultSettingsMap": {},
     "title": ""
    }
   },
   "outputs": [],
   "source": [
    "resultado_avaliacao = calcular_hit_rate(df_teste, gerar_recomendacoes_v3)\n",
    "\n",
    "print(f\"\\nCálculo Finalizado:\")\n",
    "print(f\"Total de Compras no Conjunto de Teste: {resultado_avaliacao['total_registros']}\")\n",
    "print(f\"Total de Hits @5: {resultado_avaliacao['total_hits']}\")\n",
    "\n",
    "hit_rate = resultado_avaliacao['hit_rate']\n"
   ]
  },
  {
   "cell_type": "code",
   "execution_count": 0,
   "metadata": {
    "application/vnd.databricks.v1+cell": {
     "cellMetadata": {
      "byteLimit": 2048000,
      "rowLimit": 10000
     },
     "inputWidgets": {},
     "nuid": "6b3ee124-ecde-4ee8-9592-2efaff348a3a",
     "showTitle": false,
     "tableResultSettingsMap": {},
     "title": ""
    }
   },
   "outputs": [],
   "source": [
    "# Apresentação do resultado\n",
    "print(f\"O Hit Rate @5 do modelo baseline é: {hit_rate:.2%}\")\n"
   ]
  },
  {
   "cell_type": "code",
   "execution_count": 0,
   "metadata": {
    "application/vnd.databricks.v1+cell": {
     "cellMetadata": {},
     "inputWidgets": {},
     "nuid": "ab837a9b-0dd8-4e43-8c6c-2dc212cdc9f2",
     "showTitle": false,
     "tableResultSettingsMap": {},
     "title": ""
    }
   },
   "outputs": [],
   "source": []
  }
 ],
 "metadata": {
  "application/vnd.databricks.v1+notebook": {
   "computePreferences": {
    "hardware": {
     "accelerator": null,
     "gpuPoolId": null,
     "memory": null
    }
   },
   "dashboards": [],
   "environmentMetadata": null,
   "inputWidgetPreferences": null,
   "language": "python",
   "notebookMetadata": {
    "pythonIndentUnit": 4
   },
   "notebookName": "estudo_modelo_previsao_proxima_rota",
   "widgets": {}
  },
  "colab": {
   "provenance": []
  },
  "kernelspec": {
   "display_name": ".venv",
   "language": "python",
   "name": "python3"
  },
  "language_info": {
   "name": "python"
  }
 },
 "nbformat": 4,
 "nbformat_minor": 0
}
